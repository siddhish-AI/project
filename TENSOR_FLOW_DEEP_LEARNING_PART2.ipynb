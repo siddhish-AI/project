{
  "nbformat": 4,
  "nbformat_minor": 0,
  "metadata": {
    "colab": {
      "name": "TENSOR FLOW DEEP LEARNING PART2",
      "provenance": [],
      "collapsed_sections": []
    },
    "kernelspec": {
      "name": "python3",
      "display_name": "Python 3"
    },
    "widgets": {
      "application/vnd.jupyter.widget-state+json": {
        "63b2957bfade40e581667270008f7884": {
          "model_module": "@jupyter-widgets/controls",
          "model_name": "HBoxModel",
          "state": {
            "_view_name": "HBoxView",
            "_dom_classes": [],
            "_model_name": "HBoxModel",
            "_view_module": "@jupyter-widgets/controls",
            "_model_module_version": "1.5.0",
            "_view_count": null,
            "_view_module_version": "1.5.0",
            "box_style": "",
            "layout": "IPY_MODEL_1cb4860daae74238ae37f5a04532c1e9",
            "_model_module": "@jupyter-widgets/controls",
            "children": [
              "IPY_MODEL_a8231af71a3e4757b37720308686eb2d",
              "IPY_MODEL_633098ab8a0042269d152269fe8ba6b3"
            ]
          }
        },
        "1cb4860daae74238ae37f5a04532c1e9": {
          "model_module": "@jupyter-widgets/base",
          "model_name": "LayoutModel",
          "state": {
            "_view_name": "LayoutView",
            "grid_template_rows": null,
            "right": null,
            "justify_content": null,
            "_view_module": "@jupyter-widgets/base",
            "overflow": null,
            "_model_module_version": "1.2.0",
            "_view_count": null,
            "flex_flow": null,
            "width": null,
            "min_width": null,
            "border": null,
            "align_items": null,
            "bottom": null,
            "_model_module": "@jupyter-widgets/base",
            "top": null,
            "grid_column": null,
            "overflow_y": null,
            "overflow_x": null,
            "grid_auto_flow": null,
            "grid_area": null,
            "grid_template_columns": null,
            "flex": null,
            "_model_name": "LayoutModel",
            "justify_items": null,
            "grid_row": null,
            "max_height": null,
            "align_content": null,
            "visibility": null,
            "align_self": null,
            "height": null,
            "min_height": null,
            "padding": null,
            "grid_auto_rows": null,
            "grid_gap": null,
            "max_width": null,
            "order": null,
            "_view_module_version": "1.2.0",
            "grid_template_areas": null,
            "object_position": null,
            "object_fit": null,
            "grid_auto_columns": null,
            "margin": null,
            "display": null,
            "left": null
          }
        },
        "a8231af71a3e4757b37720308686eb2d": {
          "model_module": "@jupyter-widgets/controls",
          "model_name": "FloatProgressModel",
          "state": {
            "_view_name": "ProgressView",
            "style": "IPY_MODEL_8e1b947d3a72497c8046641a5d6e7b7d",
            "_dom_classes": [],
            "description": "Dl Completed...: 100%",
            "_model_name": "FloatProgressModel",
            "bar_style": "success",
            "max": 1,
            "_view_module": "@jupyter-widgets/controls",
            "_model_module_version": "1.5.0",
            "value": 1,
            "_view_count": null,
            "_view_module_version": "1.5.0",
            "orientation": "horizontal",
            "min": 0,
            "description_tooltip": null,
            "_model_module": "@jupyter-widgets/controls",
            "layout": "IPY_MODEL_db40902256ac4d57b2c9803d92028adb"
          }
        },
        "633098ab8a0042269d152269fe8ba6b3": {
          "model_module": "@jupyter-widgets/controls",
          "model_name": "HTMLModel",
          "state": {
            "_view_name": "HTMLView",
            "style": "IPY_MODEL_7ba61030ea0144a19fc2d75b94c787a2",
            "_dom_classes": [],
            "description": "",
            "_model_name": "HTMLModel",
            "placeholder": "​",
            "_view_module": "@jupyter-widgets/controls",
            "_model_module_version": "1.5.0",
            "value": " 1/1 [00:06&lt;00:00,  6.00s/ url]",
            "_view_count": null,
            "_view_module_version": "1.5.0",
            "description_tooltip": null,
            "_model_module": "@jupyter-widgets/controls",
            "layout": "IPY_MODEL_269d6bfa67de4be9ab15a9d222821a9b"
          }
        },
        "8e1b947d3a72497c8046641a5d6e7b7d": {
          "model_module": "@jupyter-widgets/controls",
          "model_name": "ProgressStyleModel",
          "state": {
            "_view_name": "StyleView",
            "_model_name": "ProgressStyleModel",
            "description_width": "initial",
            "_view_module": "@jupyter-widgets/base",
            "_model_module_version": "1.5.0",
            "_view_count": null,
            "_view_module_version": "1.2.0",
            "bar_color": null,
            "_model_module": "@jupyter-widgets/controls"
          }
        },
        "db40902256ac4d57b2c9803d92028adb": {
          "model_module": "@jupyter-widgets/base",
          "model_name": "LayoutModel",
          "state": {
            "_view_name": "LayoutView",
            "grid_template_rows": null,
            "right": null,
            "justify_content": null,
            "_view_module": "@jupyter-widgets/base",
            "overflow": null,
            "_model_module_version": "1.2.0",
            "_view_count": null,
            "flex_flow": null,
            "width": null,
            "min_width": null,
            "border": null,
            "align_items": null,
            "bottom": null,
            "_model_module": "@jupyter-widgets/base",
            "top": null,
            "grid_column": null,
            "overflow_y": null,
            "overflow_x": null,
            "grid_auto_flow": null,
            "grid_area": null,
            "grid_template_columns": null,
            "flex": null,
            "_model_name": "LayoutModel",
            "justify_items": null,
            "grid_row": null,
            "max_height": null,
            "align_content": null,
            "visibility": null,
            "align_self": null,
            "height": null,
            "min_height": null,
            "padding": null,
            "grid_auto_rows": null,
            "grid_gap": null,
            "max_width": null,
            "order": null,
            "_view_module_version": "1.2.0",
            "grid_template_areas": null,
            "object_position": null,
            "object_fit": null,
            "grid_auto_columns": null,
            "margin": null,
            "display": null,
            "left": null
          }
        },
        "7ba61030ea0144a19fc2d75b94c787a2": {
          "model_module": "@jupyter-widgets/controls",
          "model_name": "DescriptionStyleModel",
          "state": {
            "_view_name": "StyleView",
            "_model_name": "DescriptionStyleModel",
            "description_width": "",
            "_view_module": "@jupyter-widgets/base",
            "_model_module_version": "1.5.0",
            "_view_count": null,
            "_view_module_version": "1.2.0",
            "_model_module": "@jupyter-widgets/controls"
          }
        },
        "269d6bfa67de4be9ab15a9d222821a9b": {
          "model_module": "@jupyter-widgets/base",
          "model_name": "LayoutModel",
          "state": {
            "_view_name": "LayoutView",
            "grid_template_rows": null,
            "right": null,
            "justify_content": null,
            "_view_module": "@jupyter-widgets/base",
            "overflow": null,
            "_model_module_version": "1.2.0",
            "_view_count": null,
            "flex_flow": null,
            "width": null,
            "min_width": null,
            "border": null,
            "align_items": null,
            "bottom": null,
            "_model_module": "@jupyter-widgets/base",
            "top": null,
            "grid_column": null,
            "overflow_y": null,
            "overflow_x": null,
            "grid_auto_flow": null,
            "grid_area": null,
            "grid_template_columns": null,
            "flex": null,
            "_model_name": "LayoutModel",
            "justify_items": null,
            "grid_row": null,
            "max_height": null,
            "align_content": null,
            "visibility": null,
            "align_self": null,
            "height": null,
            "min_height": null,
            "padding": null,
            "grid_auto_rows": null,
            "grid_gap": null,
            "max_width": null,
            "order": null,
            "_view_module_version": "1.2.0",
            "grid_template_areas": null,
            "object_position": null,
            "object_fit": null,
            "grid_auto_columns": null,
            "margin": null,
            "display": null,
            "left": null
          }
        },
        "e655624e6e144118a5ccd5b9934eae5b": {
          "model_module": "@jupyter-widgets/controls",
          "model_name": "HBoxModel",
          "state": {
            "_view_name": "HBoxView",
            "_dom_classes": [],
            "_model_name": "HBoxModel",
            "_view_module": "@jupyter-widgets/controls",
            "_model_module_version": "1.5.0",
            "_view_count": null,
            "_view_module_version": "1.5.0",
            "box_style": "",
            "layout": "IPY_MODEL_85e34e44532b43669945ee5458b7d5a0",
            "_model_module": "@jupyter-widgets/controls",
            "children": [
              "IPY_MODEL_1d5c7b1c247e4e3bb09bfffa04e41548",
              "IPY_MODEL_94fc2b38f6d24121becc3d44fc8f2ea1"
            ]
          }
        },
        "85e34e44532b43669945ee5458b7d5a0": {
          "model_module": "@jupyter-widgets/base",
          "model_name": "LayoutModel",
          "state": {
            "_view_name": "LayoutView",
            "grid_template_rows": null,
            "right": null,
            "justify_content": null,
            "_view_module": "@jupyter-widgets/base",
            "overflow": null,
            "_model_module_version": "1.2.0",
            "_view_count": null,
            "flex_flow": null,
            "width": null,
            "min_width": null,
            "border": null,
            "align_items": null,
            "bottom": null,
            "_model_module": "@jupyter-widgets/base",
            "top": null,
            "grid_column": null,
            "overflow_y": null,
            "overflow_x": null,
            "grid_auto_flow": null,
            "grid_area": null,
            "grid_template_columns": null,
            "flex": null,
            "_model_name": "LayoutModel",
            "justify_items": null,
            "grid_row": null,
            "max_height": null,
            "align_content": null,
            "visibility": null,
            "align_self": null,
            "height": null,
            "min_height": null,
            "padding": null,
            "grid_auto_rows": null,
            "grid_gap": null,
            "max_width": null,
            "order": null,
            "_view_module_version": "1.2.0",
            "grid_template_areas": null,
            "object_position": null,
            "object_fit": null,
            "grid_auto_columns": null,
            "margin": null,
            "display": null,
            "left": null
          }
        },
        "1d5c7b1c247e4e3bb09bfffa04e41548": {
          "model_module": "@jupyter-widgets/controls",
          "model_name": "FloatProgressModel",
          "state": {
            "_view_name": "ProgressView",
            "style": "IPY_MODEL_34002a8abee147628c580e7eb976df1c",
            "_dom_classes": [],
            "description": "Dl Size...: 100%",
            "_model_name": "FloatProgressModel",
            "bar_style": "success",
            "max": 1,
            "_view_module": "@jupyter-widgets/controls",
            "_model_module_version": "1.5.0",
            "value": 1,
            "_view_count": null,
            "_view_module_version": "1.5.0",
            "orientation": "horizontal",
            "min": 0,
            "description_tooltip": null,
            "_model_module": "@jupyter-widgets/controls",
            "layout": "IPY_MODEL_231df40bf16d4811ab81eb5e4b7bd72e"
          }
        },
        "94fc2b38f6d24121becc3d44fc8f2ea1": {
          "model_module": "@jupyter-widgets/controls",
          "model_name": "HTMLModel",
          "state": {
            "_view_name": "HTMLView",
            "style": "IPY_MODEL_44754eee4af14518951fa536749623aa",
            "_dom_classes": [],
            "description": "",
            "_model_name": "HTMLModel",
            "placeholder": "​",
            "_view_module": "@jupyter-widgets/controls",
            "_model_module_version": "1.5.0",
            "value": " 80/80 [00:05&lt;00:00, 13.40 MiB/s]",
            "_view_count": null,
            "_view_module_version": "1.5.0",
            "description_tooltip": null,
            "_model_module": "@jupyter-widgets/controls",
            "layout": "IPY_MODEL_9e177f26e21c40d4a1bbab554844df02"
          }
        },
        "34002a8abee147628c580e7eb976df1c": {
          "model_module": "@jupyter-widgets/controls",
          "model_name": "ProgressStyleModel",
          "state": {
            "_view_name": "StyleView",
            "_model_name": "ProgressStyleModel",
            "description_width": "initial",
            "_view_module": "@jupyter-widgets/base",
            "_model_module_version": "1.5.0",
            "_view_count": null,
            "_view_module_version": "1.2.0",
            "bar_color": null,
            "_model_module": "@jupyter-widgets/controls"
          }
        },
        "231df40bf16d4811ab81eb5e4b7bd72e": {
          "model_module": "@jupyter-widgets/base",
          "model_name": "LayoutModel",
          "state": {
            "_view_name": "LayoutView",
            "grid_template_rows": null,
            "right": null,
            "justify_content": null,
            "_view_module": "@jupyter-widgets/base",
            "overflow": null,
            "_model_module_version": "1.2.0",
            "_view_count": null,
            "flex_flow": null,
            "width": null,
            "min_width": null,
            "border": null,
            "align_items": null,
            "bottom": null,
            "_model_module": "@jupyter-widgets/base",
            "top": null,
            "grid_column": null,
            "overflow_y": null,
            "overflow_x": null,
            "grid_auto_flow": null,
            "grid_area": null,
            "grid_template_columns": null,
            "flex": null,
            "_model_name": "LayoutModel",
            "justify_items": null,
            "grid_row": null,
            "max_height": null,
            "align_content": null,
            "visibility": null,
            "align_self": null,
            "height": null,
            "min_height": null,
            "padding": null,
            "grid_auto_rows": null,
            "grid_gap": null,
            "max_width": null,
            "order": null,
            "_view_module_version": "1.2.0",
            "grid_template_areas": null,
            "object_position": null,
            "object_fit": null,
            "grid_auto_columns": null,
            "margin": null,
            "display": null,
            "left": null
          }
        },
        "44754eee4af14518951fa536749623aa": {
          "model_module": "@jupyter-widgets/controls",
          "model_name": "DescriptionStyleModel",
          "state": {
            "_view_name": "StyleView",
            "_model_name": "DescriptionStyleModel",
            "description_width": "",
            "_view_module": "@jupyter-widgets/base",
            "_model_module_version": "1.5.0",
            "_view_count": null,
            "_view_module_version": "1.2.0",
            "_model_module": "@jupyter-widgets/controls"
          }
        },
        "9e177f26e21c40d4a1bbab554844df02": {
          "model_module": "@jupyter-widgets/base",
          "model_name": "LayoutModel",
          "state": {
            "_view_name": "LayoutView",
            "grid_template_rows": null,
            "right": null,
            "justify_content": null,
            "_view_module": "@jupyter-widgets/base",
            "overflow": null,
            "_model_module_version": "1.2.0",
            "_view_count": null,
            "flex_flow": null,
            "width": null,
            "min_width": null,
            "border": null,
            "align_items": null,
            "bottom": null,
            "_model_module": "@jupyter-widgets/base",
            "top": null,
            "grid_column": null,
            "overflow_y": null,
            "overflow_x": null,
            "grid_auto_flow": null,
            "grid_area": null,
            "grid_template_columns": null,
            "flex": null,
            "_model_name": "LayoutModel",
            "justify_items": null,
            "grid_row": null,
            "max_height": null,
            "align_content": null,
            "visibility": null,
            "align_self": null,
            "height": null,
            "min_height": null,
            "padding": null,
            "grid_auto_rows": null,
            "grid_gap": null,
            "max_width": null,
            "order": null,
            "_view_module_version": "1.2.0",
            "grid_template_areas": null,
            "object_position": null,
            "object_fit": null,
            "grid_auto_columns": null,
            "margin": null,
            "display": null,
            "left": null
          }
        },
        "5abeea3d76cb4850a4b172cea8c68f0c": {
          "model_module": "@jupyter-widgets/controls",
          "model_name": "HBoxModel",
          "state": {
            "_view_name": "HBoxView",
            "_dom_classes": [],
            "_model_name": "HBoxModel",
            "_view_module": "@jupyter-widgets/controls",
            "_model_module_version": "1.5.0",
            "_view_count": null,
            "_view_module_version": "1.5.0",
            "box_style": "",
            "layout": "IPY_MODEL_ae0f0fa21816434b85b9b5521766e1e2",
            "_model_module": "@jupyter-widgets/controls",
            "children": [
              "IPY_MODEL_94cca03d39a7484ea891b2acdcae6991",
              "IPY_MODEL_1f768103c85f4d709fbed840de07c2b7"
            ]
          }
        },
        "ae0f0fa21816434b85b9b5521766e1e2": {
          "model_module": "@jupyter-widgets/base",
          "model_name": "LayoutModel",
          "state": {
            "_view_name": "LayoutView",
            "grid_template_rows": null,
            "right": null,
            "justify_content": null,
            "_view_module": "@jupyter-widgets/base",
            "overflow": null,
            "_model_module_version": "1.2.0",
            "_view_count": null,
            "flex_flow": null,
            "width": null,
            "min_width": null,
            "border": null,
            "align_items": null,
            "bottom": null,
            "_model_module": "@jupyter-widgets/base",
            "top": null,
            "grid_column": null,
            "overflow_y": null,
            "overflow_x": null,
            "grid_auto_flow": null,
            "grid_area": null,
            "grid_template_columns": null,
            "flex": null,
            "_model_name": "LayoutModel",
            "justify_items": null,
            "grid_row": null,
            "max_height": null,
            "align_content": null,
            "visibility": null,
            "align_self": null,
            "height": null,
            "min_height": null,
            "padding": null,
            "grid_auto_rows": null,
            "grid_gap": null,
            "max_width": null,
            "order": null,
            "_view_module_version": "1.2.0",
            "grid_template_areas": null,
            "object_position": null,
            "object_fit": null,
            "grid_auto_columns": null,
            "margin": null,
            "display": null,
            "left": null
          }
        },
        "94cca03d39a7484ea891b2acdcae6991": {
          "model_module": "@jupyter-widgets/controls",
          "model_name": "FloatProgressModel",
          "state": {
            "_view_name": "ProgressView",
            "style": "IPY_MODEL_579a660e508c4ec5907db338bb30bb1c",
            "_dom_classes": [],
            "description": "",
            "_model_name": "FloatProgressModel",
            "bar_style": "info",
            "max": 1,
            "_view_module": "@jupyter-widgets/controls",
            "_model_module_version": "1.5.0",
            "value": 1,
            "_view_count": null,
            "_view_module_version": "1.5.0",
            "orientation": "horizontal",
            "min": 0,
            "description_tooltip": null,
            "_model_module": "@jupyter-widgets/controls",
            "layout": "IPY_MODEL_1e8d9842986f4ac6a2de389f46851c79"
          }
        },
        "1f768103c85f4d709fbed840de07c2b7": {
          "model_module": "@jupyter-widgets/controls",
          "model_name": "HTMLModel",
          "state": {
            "_view_name": "HTMLView",
            "style": "IPY_MODEL_dfdbf16271e848999b6d8f2184d98c10",
            "_dom_classes": [],
            "description": "",
            "_model_name": "HTMLModel",
            "placeholder": "​",
            "_view_module": "@jupyter-widgets/controls",
            "_model_module_version": "1.5.0",
            "value": " 25000/0 [00:15&lt;00:00, 2802.61 examples/s]",
            "_view_count": null,
            "_view_module_version": "1.5.0",
            "description_tooltip": null,
            "_model_module": "@jupyter-widgets/controls",
            "layout": "IPY_MODEL_3a902f31a8ff44e3880a00f76c2b85ce"
          }
        },
        "579a660e508c4ec5907db338bb30bb1c": {
          "model_module": "@jupyter-widgets/controls",
          "model_name": "ProgressStyleModel",
          "state": {
            "_view_name": "StyleView",
            "_model_name": "ProgressStyleModel",
            "description_width": "initial",
            "_view_module": "@jupyter-widgets/base",
            "_model_module_version": "1.5.0",
            "_view_count": null,
            "_view_module_version": "1.2.0",
            "bar_color": null,
            "_model_module": "@jupyter-widgets/controls"
          }
        },
        "1e8d9842986f4ac6a2de389f46851c79": {
          "model_module": "@jupyter-widgets/base",
          "model_name": "LayoutModel",
          "state": {
            "_view_name": "LayoutView",
            "grid_template_rows": null,
            "right": null,
            "justify_content": null,
            "_view_module": "@jupyter-widgets/base",
            "overflow": null,
            "_model_module_version": "1.2.0",
            "_view_count": null,
            "flex_flow": null,
            "width": null,
            "min_width": null,
            "border": null,
            "align_items": null,
            "bottom": null,
            "_model_module": "@jupyter-widgets/base",
            "top": null,
            "grid_column": null,
            "overflow_y": null,
            "overflow_x": null,
            "grid_auto_flow": null,
            "grid_area": null,
            "grid_template_columns": null,
            "flex": null,
            "_model_name": "LayoutModel",
            "justify_items": null,
            "grid_row": null,
            "max_height": null,
            "align_content": null,
            "visibility": null,
            "align_self": null,
            "height": null,
            "min_height": null,
            "padding": null,
            "grid_auto_rows": null,
            "grid_gap": null,
            "max_width": null,
            "order": null,
            "_view_module_version": "1.2.0",
            "grid_template_areas": null,
            "object_position": null,
            "object_fit": null,
            "grid_auto_columns": null,
            "margin": null,
            "display": null,
            "left": null
          }
        },
        "dfdbf16271e848999b6d8f2184d98c10": {
          "model_module": "@jupyter-widgets/controls",
          "model_name": "DescriptionStyleModel",
          "state": {
            "_view_name": "StyleView",
            "_model_name": "DescriptionStyleModel",
            "description_width": "",
            "_view_module": "@jupyter-widgets/base",
            "_model_module_version": "1.5.0",
            "_view_count": null,
            "_view_module_version": "1.2.0",
            "_model_module": "@jupyter-widgets/controls"
          }
        },
        "3a902f31a8ff44e3880a00f76c2b85ce": {
          "model_module": "@jupyter-widgets/base",
          "model_name": "LayoutModel",
          "state": {
            "_view_name": "LayoutView",
            "grid_template_rows": null,
            "right": null,
            "justify_content": null,
            "_view_module": "@jupyter-widgets/base",
            "overflow": null,
            "_model_module_version": "1.2.0",
            "_view_count": null,
            "flex_flow": null,
            "width": null,
            "min_width": null,
            "border": null,
            "align_items": null,
            "bottom": null,
            "_model_module": "@jupyter-widgets/base",
            "top": null,
            "grid_column": null,
            "overflow_y": null,
            "overflow_x": null,
            "grid_auto_flow": null,
            "grid_area": null,
            "grid_template_columns": null,
            "flex": null,
            "_model_name": "LayoutModel",
            "justify_items": null,
            "grid_row": null,
            "max_height": null,
            "align_content": null,
            "visibility": null,
            "align_self": null,
            "height": null,
            "min_height": null,
            "padding": null,
            "grid_auto_rows": null,
            "grid_gap": null,
            "max_width": null,
            "order": null,
            "_view_module_version": "1.2.0",
            "grid_template_areas": null,
            "object_position": null,
            "object_fit": null,
            "grid_auto_columns": null,
            "margin": null,
            "display": null,
            "left": null
          }
        },
        "e7718f66fbc04ba48f9a6ddb544168bf": {
          "model_module": "@jupyter-widgets/controls",
          "model_name": "HBoxModel",
          "state": {
            "_view_name": "HBoxView",
            "_dom_classes": [],
            "_model_name": "HBoxModel",
            "_view_module": "@jupyter-widgets/controls",
            "_model_module_version": "1.5.0",
            "_view_count": null,
            "_view_module_version": "1.5.0",
            "box_style": "",
            "layout": "IPY_MODEL_85347940cf4c46929c1644adda92a76f",
            "_model_module": "@jupyter-widgets/controls",
            "children": [
              "IPY_MODEL_ff1a7ebc95e6425db71b07a3a790be6a",
              "IPY_MODEL_afe84fd16cb2465cb3fd51c87e43baed"
            ]
          }
        },
        "85347940cf4c46929c1644adda92a76f": {
          "model_module": "@jupyter-widgets/base",
          "model_name": "LayoutModel",
          "state": {
            "_view_name": "LayoutView",
            "grid_template_rows": null,
            "right": null,
            "justify_content": null,
            "_view_module": "@jupyter-widgets/base",
            "overflow": null,
            "_model_module_version": "1.2.0",
            "_view_count": null,
            "flex_flow": null,
            "width": null,
            "min_width": null,
            "border": null,
            "align_items": null,
            "bottom": null,
            "_model_module": "@jupyter-widgets/base",
            "top": null,
            "grid_column": null,
            "overflow_y": null,
            "overflow_x": null,
            "grid_auto_flow": null,
            "grid_area": null,
            "grid_template_columns": null,
            "flex": null,
            "_model_name": "LayoutModel",
            "justify_items": null,
            "grid_row": null,
            "max_height": null,
            "align_content": null,
            "visibility": null,
            "align_self": null,
            "height": null,
            "min_height": null,
            "padding": null,
            "grid_auto_rows": null,
            "grid_gap": null,
            "max_width": null,
            "order": null,
            "_view_module_version": "1.2.0",
            "grid_template_areas": null,
            "object_position": null,
            "object_fit": null,
            "grid_auto_columns": null,
            "margin": null,
            "display": null,
            "left": null
          }
        },
        "ff1a7ebc95e6425db71b07a3a790be6a": {
          "model_module": "@jupyter-widgets/controls",
          "model_name": "FloatProgressModel",
          "state": {
            "_view_name": "ProgressView",
            "style": "IPY_MODEL_7fe179440ff84404bb5efd74596fe279",
            "_dom_classes": [],
            "description": " 84%",
            "_model_name": "FloatProgressModel",
            "bar_style": "danger",
            "max": 25000,
            "_view_module": "@jupyter-widgets/controls",
            "_model_module_version": "1.5.0",
            "value": 21047,
            "_view_count": null,
            "_view_module_version": "1.5.0",
            "orientation": "horizontal",
            "min": 0,
            "description_tooltip": null,
            "_model_module": "@jupyter-widgets/controls",
            "layout": "IPY_MODEL_d22f4765983f42aa903711f161de2f99"
          }
        },
        "afe84fd16cb2465cb3fd51c87e43baed": {
          "model_module": "@jupyter-widgets/controls",
          "model_name": "HTMLModel",
          "state": {
            "_view_name": "HTMLView",
            "style": "IPY_MODEL_6f401b720e4c4df3a1fd5dc6a50b7fa9",
            "_dom_classes": [],
            "description": "",
            "_model_name": "HTMLModel",
            "placeholder": "​",
            "_view_module": "@jupyter-widgets/controls",
            "_model_module_version": "1.5.0",
            "value": " 21047/25000 [00:00&lt;00:00, 22502.05 examples/s]",
            "_view_count": null,
            "_view_module_version": "1.5.0",
            "description_tooltip": null,
            "_model_module": "@jupyter-widgets/controls",
            "layout": "IPY_MODEL_9f12fafce35c467dbc02dcbac7e48602"
          }
        },
        "7fe179440ff84404bb5efd74596fe279": {
          "model_module": "@jupyter-widgets/controls",
          "model_name": "ProgressStyleModel",
          "state": {
            "_view_name": "StyleView",
            "_model_name": "ProgressStyleModel",
            "description_width": "initial",
            "_view_module": "@jupyter-widgets/base",
            "_model_module_version": "1.5.0",
            "_view_count": null,
            "_view_module_version": "1.2.0",
            "bar_color": null,
            "_model_module": "@jupyter-widgets/controls"
          }
        },
        "d22f4765983f42aa903711f161de2f99": {
          "model_module": "@jupyter-widgets/base",
          "model_name": "LayoutModel",
          "state": {
            "_view_name": "LayoutView",
            "grid_template_rows": null,
            "right": null,
            "justify_content": null,
            "_view_module": "@jupyter-widgets/base",
            "overflow": null,
            "_model_module_version": "1.2.0",
            "_view_count": null,
            "flex_flow": null,
            "width": null,
            "min_width": null,
            "border": null,
            "align_items": null,
            "bottom": null,
            "_model_module": "@jupyter-widgets/base",
            "top": null,
            "grid_column": null,
            "overflow_y": null,
            "overflow_x": null,
            "grid_auto_flow": null,
            "grid_area": null,
            "grid_template_columns": null,
            "flex": null,
            "_model_name": "LayoutModel",
            "justify_items": null,
            "grid_row": null,
            "max_height": null,
            "align_content": null,
            "visibility": null,
            "align_self": null,
            "height": null,
            "min_height": null,
            "padding": null,
            "grid_auto_rows": null,
            "grid_gap": null,
            "max_width": null,
            "order": null,
            "_view_module_version": "1.2.0",
            "grid_template_areas": null,
            "object_position": null,
            "object_fit": null,
            "grid_auto_columns": null,
            "margin": null,
            "display": null,
            "left": null
          }
        },
        "6f401b720e4c4df3a1fd5dc6a50b7fa9": {
          "model_module": "@jupyter-widgets/controls",
          "model_name": "DescriptionStyleModel",
          "state": {
            "_view_name": "StyleView",
            "_model_name": "DescriptionStyleModel",
            "description_width": "",
            "_view_module": "@jupyter-widgets/base",
            "_model_module_version": "1.5.0",
            "_view_count": null,
            "_view_module_version": "1.2.0",
            "_model_module": "@jupyter-widgets/controls"
          }
        },
        "9f12fafce35c467dbc02dcbac7e48602": {
          "model_module": "@jupyter-widgets/base",
          "model_name": "LayoutModel",
          "state": {
            "_view_name": "LayoutView",
            "grid_template_rows": null,
            "right": null,
            "justify_content": null,
            "_view_module": "@jupyter-widgets/base",
            "overflow": null,
            "_model_module_version": "1.2.0",
            "_view_count": null,
            "flex_flow": null,
            "width": null,
            "min_width": null,
            "border": null,
            "align_items": null,
            "bottom": null,
            "_model_module": "@jupyter-widgets/base",
            "top": null,
            "grid_column": null,
            "overflow_y": null,
            "overflow_x": null,
            "grid_auto_flow": null,
            "grid_area": null,
            "grid_template_columns": null,
            "flex": null,
            "_model_name": "LayoutModel",
            "justify_items": null,
            "grid_row": null,
            "max_height": null,
            "align_content": null,
            "visibility": null,
            "align_self": null,
            "height": null,
            "min_height": null,
            "padding": null,
            "grid_auto_rows": null,
            "grid_gap": null,
            "max_width": null,
            "order": null,
            "_view_module_version": "1.2.0",
            "grid_template_areas": null,
            "object_position": null,
            "object_fit": null,
            "grid_auto_columns": null,
            "margin": null,
            "display": null,
            "left": null
          }
        },
        "7384a69f63b14507bc17039723e74a8d": {
          "model_module": "@jupyter-widgets/controls",
          "model_name": "HBoxModel",
          "state": {
            "_view_name": "HBoxView",
            "_dom_classes": [],
            "_model_name": "HBoxModel",
            "_view_module": "@jupyter-widgets/controls",
            "_model_module_version": "1.5.0",
            "_view_count": null,
            "_view_module_version": "1.5.0",
            "box_style": "",
            "layout": "IPY_MODEL_87f8b25d394d4d3784637e2282a145e5",
            "_model_module": "@jupyter-widgets/controls",
            "children": [
              "IPY_MODEL_507dc70b75d84c328239b9d479775396",
              "IPY_MODEL_398ecf8b46574387a01edc0daa7c348f"
            ]
          }
        },
        "87f8b25d394d4d3784637e2282a145e5": {
          "model_module": "@jupyter-widgets/base",
          "model_name": "LayoutModel",
          "state": {
            "_view_name": "LayoutView",
            "grid_template_rows": null,
            "right": null,
            "justify_content": null,
            "_view_module": "@jupyter-widgets/base",
            "overflow": null,
            "_model_module_version": "1.2.0",
            "_view_count": null,
            "flex_flow": null,
            "width": null,
            "min_width": null,
            "border": null,
            "align_items": null,
            "bottom": null,
            "_model_module": "@jupyter-widgets/base",
            "top": null,
            "grid_column": null,
            "overflow_y": null,
            "overflow_x": null,
            "grid_auto_flow": null,
            "grid_area": null,
            "grid_template_columns": null,
            "flex": null,
            "_model_name": "LayoutModel",
            "justify_items": null,
            "grid_row": null,
            "max_height": null,
            "align_content": null,
            "visibility": null,
            "align_self": null,
            "height": null,
            "min_height": null,
            "padding": null,
            "grid_auto_rows": null,
            "grid_gap": null,
            "max_width": null,
            "order": null,
            "_view_module_version": "1.2.0",
            "grid_template_areas": null,
            "object_position": null,
            "object_fit": null,
            "grid_auto_columns": null,
            "margin": null,
            "display": null,
            "left": null
          }
        },
        "507dc70b75d84c328239b9d479775396": {
          "model_module": "@jupyter-widgets/controls",
          "model_name": "FloatProgressModel",
          "state": {
            "_view_name": "ProgressView",
            "style": "IPY_MODEL_f4abfb2788cb4dffad8726f9cc023edd",
            "_dom_classes": [],
            "description": "",
            "_model_name": "FloatProgressModel",
            "bar_style": "info",
            "max": 1,
            "_view_module": "@jupyter-widgets/controls",
            "_model_module_version": "1.5.0",
            "value": 1,
            "_view_count": null,
            "_view_module_version": "1.5.0",
            "orientation": "horizontal",
            "min": 0,
            "description_tooltip": null,
            "_model_module": "@jupyter-widgets/controls",
            "layout": "IPY_MODEL_7226beead3ff40239cb796daad9a4692"
          }
        },
        "398ecf8b46574387a01edc0daa7c348f": {
          "model_module": "@jupyter-widgets/controls",
          "model_name": "HTMLModel",
          "state": {
            "_view_name": "HTMLView",
            "style": "IPY_MODEL_190ae6df05434f749e0bf8e8a2cf7aad",
            "_dom_classes": [],
            "description": "",
            "_model_name": "HTMLModel",
            "placeholder": "​",
            "_view_module": "@jupyter-widgets/controls",
            "_model_module_version": "1.5.0",
            "value": " 25000/0 [00:16&lt;00:00, 2990.88 examples/s]",
            "_view_count": null,
            "_view_module_version": "1.5.0",
            "description_tooltip": null,
            "_model_module": "@jupyter-widgets/controls",
            "layout": "IPY_MODEL_ad9025d51972484fa6209d4968c5c39a"
          }
        },
        "f4abfb2788cb4dffad8726f9cc023edd": {
          "model_module": "@jupyter-widgets/controls",
          "model_name": "ProgressStyleModel",
          "state": {
            "_view_name": "StyleView",
            "_model_name": "ProgressStyleModel",
            "description_width": "initial",
            "_view_module": "@jupyter-widgets/base",
            "_model_module_version": "1.5.0",
            "_view_count": null,
            "_view_module_version": "1.2.0",
            "bar_color": null,
            "_model_module": "@jupyter-widgets/controls"
          }
        },
        "7226beead3ff40239cb796daad9a4692": {
          "model_module": "@jupyter-widgets/base",
          "model_name": "LayoutModel",
          "state": {
            "_view_name": "LayoutView",
            "grid_template_rows": null,
            "right": null,
            "justify_content": null,
            "_view_module": "@jupyter-widgets/base",
            "overflow": null,
            "_model_module_version": "1.2.0",
            "_view_count": null,
            "flex_flow": null,
            "width": null,
            "min_width": null,
            "border": null,
            "align_items": null,
            "bottom": null,
            "_model_module": "@jupyter-widgets/base",
            "top": null,
            "grid_column": null,
            "overflow_y": null,
            "overflow_x": null,
            "grid_auto_flow": null,
            "grid_area": null,
            "grid_template_columns": null,
            "flex": null,
            "_model_name": "LayoutModel",
            "justify_items": null,
            "grid_row": null,
            "max_height": null,
            "align_content": null,
            "visibility": null,
            "align_self": null,
            "height": null,
            "min_height": null,
            "padding": null,
            "grid_auto_rows": null,
            "grid_gap": null,
            "max_width": null,
            "order": null,
            "_view_module_version": "1.2.0",
            "grid_template_areas": null,
            "object_position": null,
            "object_fit": null,
            "grid_auto_columns": null,
            "margin": null,
            "display": null,
            "left": null
          }
        },
        "190ae6df05434f749e0bf8e8a2cf7aad": {
          "model_module": "@jupyter-widgets/controls",
          "model_name": "DescriptionStyleModel",
          "state": {
            "_view_name": "StyleView",
            "_model_name": "DescriptionStyleModel",
            "description_width": "",
            "_view_module": "@jupyter-widgets/base",
            "_model_module_version": "1.5.0",
            "_view_count": null,
            "_view_module_version": "1.2.0",
            "_model_module": "@jupyter-widgets/controls"
          }
        },
        "ad9025d51972484fa6209d4968c5c39a": {
          "model_module": "@jupyter-widgets/base",
          "model_name": "LayoutModel",
          "state": {
            "_view_name": "LayoutView",
            "grid_template_rows": null,
            "right": null,
            "justify_content": null,
            "_view_module": "@jupyter-widgets/base",
            "overflow": null,
            "_model_module_version": "1.2.0",
            "_view_count": null,
            "flex_flow": null,
            "width": null,
            "min_width": null,
            "border": null,
            "align_items": null,
            "bottom": null,
            "_model_module": "@jupyter-widgets/base",
            "top": null,
            "grid_column": null,
            "overflow_y": null,
            "overflow_x": null,
            "grid_auto_flow": null,
            "grid_area": null,
            "grid_template_columns": null,
            "flex": null,
            "_model_name": "LayoutModel",
            "justify_items": null,
            "grid_row": null,
            "max_height": null,
            "align_content": null,
            "visibility": null,
            "align_self": null,
            "height": null,
            "min_height": null,
            "padding": null,
            "grid_auto_rows": null,
            "grid_gap": null,
            "max_width": null,
            "order": null,
            "_view_module_version": "1.2.0",
            "grid_template_areas": null,
            "object_position": null,
            "object_fit": null,
            "grid_auto_columns": null,
            "margin": null,
            "display": null,
            "left": null
          }
        },
        "902de1caa71d468e9b8bf15215791813": {
          "model_module": "@jupyter-widgets/controls",
          "model_name": "HBoxModel",
          "state": {
            "_view_name": "HBoxView",
            "_dom_classes": [],
            "_model_name": "HBoxModel",
            "_view_module": "@jupyter-widgets/controls",
            "_model_module_version": "1.5.0",
            "_view_count": null,
            "_view_module_version": "1.5.0",
            "box_style": "",
            "layout": "IPY_MODEL_c0d8569101fc4523bef93db2f77b6a9e",
            "_model_module": "@jupyter-widgets/controls",
            "children": [
              "IPY_MODEL_ca59ea01574a4979a36ed187a22eb1b3",
              "IPY_MODEL_57d54b8e6df7416fbc3b21e940188a5e"
            ]
          }
        },
        "c0d8569101fc4523bef93db2f77b6a9e": {
          "model_module": "@jupyter-widgets/base",
          "model_name": "LayoutModel",
          "state": {
            "_view_name": "LayoutView",
            "grid_template_rows": null,
            "right": null,
            "justify_content": null,
            "_view_module": "@jupyter-widgets/base",
            "overflow": null,
            "_model_module_version": "1.2.0",
            "_view_count": null,
            "flex_flow": null,
            "width": null,
            "min_width": null,
            "border": null,
            "align_items": null,
            "bottom": null,
            "_model_module": "@jupyter-widgets/base",
            "top": null,
            "grid_column": null,
            "overflow_y": null,
            "overflow_x": null,
            "grid_auto_flow": null,
            "grid_area": null,
            "grid_template_columns": null,
            "flex": null,
            "_model_name": "LayoutModel",
            "justify_items": null,
            "grid_row": null,
            "max_height": null,
            "align_content": null,
            "visibility": null,
            "align_self": null,
            "height": null,
            "min_height": null,
            "padding": null,
            "grid_auto_rows": null,
            "grid_gap": null,
            "max_width": null,
            "order": null,
            "_view_module_version": "1.2.0",
            "grid_template_areas": null,
            "object_position": null,
            "object_fit": null,
            "grid_auto_columns": null,
            "margin": null,
            "display": null,
            "left": null
          }
        },
        "ca59ea01574a4979a36ed187a22eb1b3": {
          "model_module": "@jupyter-widgets/controls",
          "model_name": "FloatProgressModel",
          "state": {
            "_view_name": "ProgressView",
            "style": "IPY_MODEL_62d071dca72e42169741b83d91ba071c",
            "_dom_classes": [],
            "description": " 20%",
            "_model_name": "FloatProgressModel",
            "bar_style": "danger",
            "max": 25000,
            "_view_module": "@jupyter-widgets/controls",
            "_model_module_version": "1.5.0",
            "value": 4989,
            "_view_count": null,
            "_view_module_version": "1.5.0",
            "orientation": "horizontal",
            "min": 0,
            "description_tooltip": null,
            "_model_module": "@jupyter-widgets/controls",
            "layout": "IPY_MODEL_c01151a829ea43b18e8d745d777ac6b6"
          }
        },
        "57d54b8e6df7416fbc3b21e940188a5e": {
          "model_module": "@jupyter-widgets/controls",
          "model_name": "HTMLModel",
          "state": {
            "_view_name": "HTMLView",
            "style": "IPY_MODEL_df85075e7ebd4a80b602848a560c2712",
            "_dom_classes": [],
            "description": "",
            "_model_name": "HTMLModel",
            "placeholder": "​",
            "_view_module": "@jupyter-widgets/controls",
            "_model_module_version": "1.5.0",
            "value": " 4989/25000 [00:00&lt;00:00, 49888.62 examples/s]",
            "_view_count": null,
            "_view_module_version": "1.5.0",
            "description_tooltip": null,
            "_model_module": "@jupyter-widgets/controls",
            "layout": "IPY_MODEL_cf4aa2a6251d4ff3a1b96fc75049911d"
          }
        },
        "62d071dca72e42169741b83d91ba071c": {
          "model_module": "@jupyter-widgets/controls",
          "model_name": "ProgressStyleModel",
          "state": {
            "_view_name": "StyleView",
            "_model_name": "ProgressStyleModel",
            "description_width": "initial",
            "_view_module": "@jupyter-widgets/base",
            "_model_module_version": "1.5.0",
            "_view_count": null,
            "_view_module_version": "1.2.0",
            "bar_color": null,
            "_model_module": "@jupyter-widgets/controls"
          }
        },
        "c01151a829ea43b18e8d745d777ac6b6": {
          "model_module": "@jupyter-widgets/base",
          "model_name": "LayoutModel",
          "state": {
            "_view_name": "LayoutView",
            "grid_template_rows": null,
            "right": null,
            "justify_content": null,
            "_view_module": "@jupyter-widgets/base",
            "overflow": null,
            "_model_module_version": "1.2.0",
            "_view_count": null,
            "flex_flow": null,
            "width": null,
            "min_width": null,
            "border": null,
            "align_items": null,
            "bottom": null,
            "_model_module": "@jupyter-widgets/base",
            "top": null,
            "grid_column": null,
            "overflow_y": null,
            "overflow_x": null,
            "grid_auto_flow": null,
            "grid_area": null,
            "grid_template_columns": null,
            "flex": null,
            "_model_name": "LayoutModel",
            "justify_items": null,
            "grid_row": null,
            "max_height": null,
            "align_content": null,
            "visibility": null,
            "align_self": null,
            "height": null,
            "min_height": null,
            "padding": null,
            "grid_auto_rows": null,
            "grid_gap": null,
            "max_width": null,
            "order": null,
            "_view_module_version": "1.2.0",
            "grid_template_areas": null,
            "object_position": null,
            "object_fit": null,
            "grid_auto_columns": null,
            "margin": null,
            "display": null,
            "left": null
          }
        },
        "df85075e7ebd4a80b602848a560c2712": {
          "model_module": "@jupyter-widgets/controls",
          "model_name": "DescriptionStyleModel",
          "state": {
            "_view_name": "StyleView",
            "_model_name": "DescriptionStyleModel",
            "description_width": "",
            "_view_module": "@jupyter-widgets/base",
            "_model_module_version": "1.5.0",
            "_view_count": null,
            "_view_module_version": "1.2.0",
            "_model_module": "@jupyter-widgets/controls"
          }
        },
        "cf4aa2a6251d4ff3a1b96fc75049911d": {
          "model_module": "@jupyter-widgets/base",
          "model_name": "LayoutModel",
          "state": {
            "_view_name": "LayoutView",
            "grid_template_rows": null,
            "right": null,
            "justify_content": null,
            "_view_module": "@jupyter-widgets/base",
            "overflow": null,
            "_model_module_version": "1.2.0",
            "_view_count": null,
            "flex_flow": null,
            "width": null,
            "min_width": null,
            "border": null,
            "align_items": null,
            "bottom": null,
            "_model_module": "@jupyter-widgets/base",
            "top": null,
            "grid_column": null,
            "overflow_y": null,
            "overflow_x": null,
            "grid_auto_flow": null,
            "grid_area": null,
            "grid_template_columns": null,
            "flex": null,
            "_model_name": "LayoutModel",
            "justify_items": null,
            "grid_row": null,
            "max_height": null,
            "align_content": null,
            "visibility": null,
            "align_self": null,
            "height": null,
            "min_height": null,
            "padding": null,
            "grid_auto_rows": null,
            "grid_gap": null,
            "max_width": null,
            "order": null,
            "_view_module_version": "1.2.0",
            "grid_template_areas": null,
            "object_position": null,
            "object_fit": null,
            "grid_auto_columns": null,
            "margin": null,
            "display": null,
            "left": null
          }
        },
        "350455ed91bc43dc9b7adffc5e6b3dd2": {
          "model_module": "@jupyter-widgets/controls",
          "model_name": "HBoxModel",
          "state": {
            "_view_name": "HBoxView",
            "_dom_classes": [],
            "_model_name": "HBoxModel",
            "_view_module": "@jupyter-widgets/controls",
            "_model_module_version": "1.5.0",
            "_view_count": null,
            "_view_module_version": "1.5.0",
            "box_style": "",
            "layout": "IPY_MODEL_6856727503b945c5bbc0de71bb6510ed",
            "_model_module": "@jupyter-widgets/controls",
            "children": [
              "IPY_MODEL_ed0a120b73254561b9ffc98114213156",
              "IPY_MODEL_e0d4320c773c48759eb7dd5d242f73ab"
            ]
          }
        },
        "6856727503b945c5bbc0de71bb6510ed": {
          "model_module": "@jupyter-widgets/base",
          "model_name": "LayoutModel",
          "state": {
            "_view_name": "LayoutView",
            "grid_template_rows": null,
            "right": null,
            "justify_content": null,
            "_view_module": "@jupyter-widgets/base",
            "overflow": null,
            "_model_module_version": "1.2.0",
            "_view_count": null,
            "flex_flow": null,
            "width": null,
            "min_width": null,
            "border": null,
            "align_items": null,
            "bottom": null,
            "_model_module": "@jupyter-widgets/base",
            "top": null,
            "grid_column": null,
            "overflow_y": null,
            "overflow_x": null,
            "grid_auto_flow": null,
            "grid_area": null,
            "grid_template_columns": null,
            "flex": null,
            "_model_name": "LayoutModel",
            "justify_items": null,
            "grid_row": null,
            "max_height": null,
            "align_content": null,
            "visibility": null,
            "align_self": null,
            "height": null,
            "min_height": null,
            "padding": null,
            "grid_auto_rows": null,
            "grid_gap": null,
            "max_width": null,
            "order": null,
            "_view_module_version": "1.2.0",
            "grid_template_areas": null,
            "object_position": null,
            "object_fit": null,
            "grid_auto_columns": null,
            "margin": null,
            "display": null,
            "left": null
          }
        },
        "ed0a120b73254561b9ffc98114213156": {
          "model_module": "@jupyter-widgets/controls",
          "model_name": "FloatProgressModel",
          "state": {
            "_view_name": "ProgressView",
            "style": "IPY_MODEL_90b7715485f943949812fecdf8920b1e",
            "_dom_classes": [],
            "description": "",
            "_model_name": "FloatProgressModel",
            "bar_style": "info",
            "max": 1,
            "_view_module": "@jupyter-widgets/controls",
            "_model_module_version": "1.5.0",
            "value": 1,
            "_view_count": null,
            "_view_module_version": "1.5.0",
            "orientation": "horizontal",
            "min": 0,
            "description_tooltip": null,
            "_model_module": "@jupyter-widgets/controls",
            "layout": "IPY_MODEL_923225fd720b4757b8183e2e2f51b36b"
          }
        },
        "e0d4320c773c48759eb7dd5d242f73ab": {
          "model_module": "@jupyter-widgets/controls",
          "model_name": "HTMLModel",
          "state": {
            "_view_name": "HTMLView",
            "style": "IPY_MODEL_1204f9993f68433ba29ab12489001ab7",
            "_dom_classes": [],
            "description": "",
            "_model_name": "HTMLModel",
            "placeholder": "​",
            "_view_module": "@jupyter-widgets/controls",
            "_model_module_version": "1.5.0",
            "value": " 50000/0 [00:21&lt;00:00, 2383.53 examples/s]",
            "_view_count": null,
            "_view_module_version": "1.5.0",
            "description_tooltip": null,
            "_model_module": "@jupyter-widgets/controls",
            "layout": "IPY_MODEL_6ace76cfaf8c4b6eb64975a895ac896f"
          }
        },
        "90b7715485f943949812fecdf8920b1e": {
          "model_module": "@jupyter-widgets/controls",
          "model_name": "ProgressStyleModel",
          "state": {
            "_view_name": "StyleView",
            "_model_name": "ProgressStyleModel",
            "description_width": "initial",
            "_view_module": "@jupyter-widgets/base",
            "_model_module_version": "1.5.0",
            "_view_count": null,
            "_view_module_version": "1.2.0",
            "bar_color": null,
            "_model_module": "@jupyter-widgets/controls"
          }
        },
        "923225fd720b4757b8183e2e2f51b36b": {
          "model_module": "@jupyter-widgets/base",
          "model_name": "LayoutModel",
          "state": {
            "_view_name": "LayoutView",
            "grid_template_rows": null,
            "right": null,
            "justify_content": null,
            "_view_module": "@jupyter-widgets/base",
            "overflow": null,
            "_model_module_version": "1.2.0",
            "_view_count": null,
            "flex_flow": null,
            "width": null,
            "min_width": null,
            "border": null,
            "align_items": null,
            "bottom": null,
            "_model_module": "@jupyter-widgets/base",
            "top": null,
            "grid_column": null,
            "overflow_y": null,
            "overflow_x": null,
            "grid_auto_flow": null,
            "grid_area": null,
            "grid_template_columns": null,
            "flex": null,
            "_model_name": "LayoutModel",
            "justify_items": null,
            "grid_row": null,
            "max_height": null,
            "align_content": null,
            "visibility": null,
            "align_self": null,
            "height": null,
            "min_height": null,
            "padding": null,
            "grid_auto_rows": null,
            "grid_gap": null,
            "max_width": null,
            "order": null,
            "_view_module_version": "1.2.0",
            "grid_template_areas": null,
            "object_position": null,
            "object_fit": null,
            "grid_auto_columns": null,
            "margin": null,
            "display": null,
            "left": null
          }
        },
        "1204f9993f68433ba29ab12489001ab7": {
          "model_module": "@jupyter-widgets/controls",
          "model_name": "DescriptionStyleModel",
          "state": {
            "_view_name": "StyleView",
            "_model_name": "DescriptionStyleModel",
            "description_width": "",
            "_view_module": "@jupyter-widgets/base",
            "_model_module_version": "1.5.0",
            "_view_count": null,
            "_view_module_version": "1.2.0",
            "_model_module": "@jupyter-widgets/controls"
          }
        },
        "6ace76cfaf8c4b6eb64975a895ac896f": {
          "model_module": "@jupyter-widgets/base",
          "model_name": "LayoutModel",
          "state": {
            "_view_name": "LayoutView",
            "grid_template_rows": null,
            "right": null,
            "justify_content": null,
            "_view_module": "@jupyter-widgets/base",
            "overflow": null,
            "_model_module_version": "1.2.0",
            "_view_count": null,
            "flex_flow": null,
            "width": null,
            "min_width": null,
            "border": null,
            "align_items": null,
            "bottom": null,
            "_model_module": "@jupyter-widgets/base",
            "top": null,
            "grid_column": null,
            "overflow_y": null,
            "overflow_x": null,
            "grid_auto_flow": null,
            "grid_area": null,
            "grid_template_columns": null,
            "flex": null,
            "_model_name": "LayoutModel",
            "justify_items": null,
            "grid_row": null,
            "max_height": null,
            "align_content": null,
            "visibility": null,
            "align_self": null,
            "height": null,
            "min_height": null,
            "padding": null,
            "grid_auto_rows": null,
            "grid_gap": null,
            "max_width": null,
            "order": null,
            "_view_module_version": "1.2.0",
            "grid_template_areas": null,
            "object_position": null,
            "object_fit": null,
            "grid_auto_columns": null,
            "margin": null,
            "display": null,
            "left": null
          }
        },
        "f99e3e7f17524c2f939365fb9202c73b": {
          "model_module": "@jupyter-widgets/controls",
          "model_name": "HBoxModel",
          "state": {
            "_view_name": "HBoxView",
            "_dom_classes": [],
            "_model_name": "HBoxModel",
            "_view_module": "@jupyter-widgets/controls",
            "_model_module_version": "1.5.0",
            "_view_count": null,
            "_view_module_version": "1.5.0",
            "box_style": "",
            "layout": "IPY_MODEL_b061b05a500d41e1b5b20968a2363b62",
            "_model_module": "@jupyter-widgets/controls",
            "children": [
              "IPY_MODEL_2fa09a24d92f4c3e8ff086067577fefb",
              "IPY_MODEL_c823c020e3874bd6a8b571811045eb56"
            ]
          }
        },
        "b061b05a500d41e1b5b20968a2363b62": {
          "model_module": "@jupyter-widgets/base",
          "model_name": "LayoutModel",
          "state": {
            "_view_name": "LayoutView",
            "grid_template_rows": null,
            "right": null,
            "justify_content": null,
            "_view_module": "@jupyter-widgets/base",
            "overflow": null,
            "_model_module_version": "1.2.0",
            "_view_count": null,
            "flex_flow": null,
            "width": null,
            "min_width": null,
            "border": null,
            "align_items": null,
            "bottom": null,
            "_model_module": "@jupyter-widgets/base",
            "top": null,
            "grid_column": null,
            "overflow_y": null,
            "overflow_x": null,
            "grid_auto_flow": null,
            "grid_area": null,
            "grid_template_columns": null,
            "flex": null,
            "_model_name": "LayoutModel",
            "justify_items": null,
            "grid_row": null,
            "max_height": null,
            "align_content": null,
            "visibility": null,
            "align_self": null,
            "height": null,
            "min_height": null,
            "padding": null,
            "grid_auto_rows": null,
            "grid_gap": null,
            "max_width": null,
            "order": null,
            "_view_module_version": "1.2.0",
            "grid_template_areas": null,
            "object_position": null,
            "object_fit": null,
            "grid_auto_columns": null,
            "margin": null,
            "display": null,
            "left": null
          }
        },
        "2fa09a24d92f4c3e8ff086067577fefb": {
          "model_module": "@jupyter-widgets/controls",
          "model_name": "FloatProgressModel",
          "state": {
            "_view_name": "ProgressView",
            "style": "IPY_MODEL_c362e47cb5ce44f1a8de54c6871f13ec",
            "_dom_classes": [],
            "description": " 78%",
            "_model_name": "FloatProgressModel",
            "bar_style": "danger",
            "max": 50000,
            "_view_module": "@jupyter-widgets/controls",
            "_model_module_version": "1.5.0",
            "value": 39116,
            "_view_count": null,
            "_view_module_version": "1.5.0",
            "orientation": "horizontal",
            "min": 0,
            "description_tooltip": null,
            "_model_module": "@jupyter-widgets/controls",
            "layout": "IPY_MODEL_0741abc6a38c4372aa53452c1160f52f"
          }
        },
        "c823c020e3874bd6a8b571811045eb56": {
          "model_module": "@jupyter-widgets/controls",
          "model_name": "HTMLModel",
          "state": {
            "_view_name": "HTMLView",
            "style": "IPY_MODEL_b093f2f87a474e0d8430b1cdbf0ecee5",
            "_dom_classes": [],
            "description": "",
            "_model_name": "HTMLModel",
            "placeholder": "​",
            "_view_module": "@jupyter-widgets/controls",
            "_model_module_version": "1.5.0",
            "value": " 39116/50000 [00:00&lt;12:08, 14.95 examples/s]",
            "_view_count": null,
            "_view_module_version": "1.5.0",
            "description_tooltip": null,
            "_model_module": "@jupyter-widgets/controls",
            "layout": "IPY_MODEL_d46ce079219d434997da485052043053"
          }
        },
        "c362e47cb5ce44f1a8de54c6871f13ec": {
          "model_module": "@jupyter-widgets/controls",
          "model_name": "ProgressStyleModel",
          "state": {
            "_view_name": "StyleView",
            "_model_name": "ProgressStyleModel",
            "description_width": "initial",
            "_view_module": "@jupyter-widgets/base",
            "_model_module_version": "1.5.0",
            "_view_count": null,
            "_view_module_version": "1.2.0",
            "bar_color": null,
            "_model_module": "@jupyter-widgets/controls"
          }
        },
        "0741abc6a38c4372aa53452c1160f52f": {
          "model_module": "@jupyter-widgets/base",
          "model_name": "LayoutModel",
          "state": {
            "_view_name": "LayoutView",
            "grid_template_rows": null,
            "right": null,
            "justify_content": null,
            "_view_module": "@jupyter-widgets/base",
            "overflow": null,
            "_model_module_version": "1.2.0",
            "_view_count": null,
            "flex_flow": null,
            "width": null,
            "min_width": null,
            "border": null,
            "align_items": null,
            "bottom": null,
            "_model_module": "@jupyter-widgets/base",
            "top": null,
            "grid_column": null,
            "overflow_y": null,
            "overflow_x": null,
            "grid_auto_flow": null,
            "grid_area": null,
            "grid_template_columns": null,
            "flex": null,
            "_model_name": "LayoutModel",
            "justify_items": null,
            "grid_row": null,
            "max_height": null,
            "align_content": null,
            "visibility": null,
            "align_self": null,
            "height": null,
            "min_height": null,
            "padding": null,
            "grid_auto_rows": null,
            "grid_gap": null,
            "max_width": null,
            "order": null,
            "_view_module_version": "1.2.0",
            "grid_template_areas": null,
            "object_position": null,
            "object_fit": null,
            "grid_auto_columns": null,
            "margin": null,
            "display": null,
            "left": null
          }
        },
        "b093f2f87a474e0d8430b1cdbf0ecee5": {
          "model_module": "@jupyter-widgets/controls",
          "model_name": "DescriptionStyleModel",
          "state": {
            "_view_name": "StyleView",
            "_model_name": "DescriptionStyleModel",
            "description_width": "",
            "_view_module": "@jupyter-widgets/base",
            "_model_module_version": "1.5.0",
            "_view_count": null,
            "_view_module_version": "1.2.0",
            "_model_module": "@jupyter-widgets/controls"
          }
        },
        "d46ce079219d434997da485052043053": {
          "model_module": "@jupyter-widgets/base",
          "model_name": "LayoutModel",
          "state": {
            "_view_name": "LayoutView",
            "grid_template_rows": null,
            "right": null,
            "justify_content": null,
            "_view_module": "@jupyter-widgets/base",
            "overflow": null,
            "_model_module_version": "1.2.0",
            "_view_count": null,
            "flex_flow": null,
            "width": null,
            "min_width": null,
            "border": null,
            "align_items": null,
            "bottom": null,
            "_model_module": "@jupyter-widgets/base",
            "top": null,
            "grid_column": null,
            "overflow_y": null,
            "overflow_x": null,
            "grid_auto_flow": null,
            "grid_area": null,
            "grid_template_columns": null,
            "flex": null,
            "_model_name": "LayoutModel",
            "justify_items": null,
            "grid_row": null,
            "max_height": null,
            "align_content": null,
            "visibility": null,
            "align_self": null,
            "height": null,
            "min_height": null,
            "padding": null,
            "grid_auto_rows": null,
            "grid_gap": null,
            "max_width": null,
            "order": null,
            "_view_module_version": "1.2.0",
            "grid_template_areas": null,
            "object_position": null,
            "object_fit": null,
            "grid_auto_columns": null,
            "margin": null,
            "display": null,
            "left": null
          }
        }
      }
    }
  },
  "cells": [
    {
      "cell_type": "markdown",
      "metadata": {
        "id": "S2eD7LqcDjQV",
        "colab_type": "text"
      },
      "source": [
        "#REGRESSION"
      ]
    },
    {
      "cell_type": "code",
      "metadata": {
        "id": "7oxrVlAoDRUt",
        "colab_type": "code",
        "colab": {
          "base_uri": "https://localhost:8080/",
          "height": 490
        },
        "outputId": "33f1c71a-28a2-4518-b5c2-6b792918e63e"
      },
      "source": [
        "!pip install seaborn\n",
        "\n",
        "# Use some functions from tensorflow_docs\n",
        "!pip install git+https://github.com/tensorflow/docs"
      ],
      "execution_count": null,
      "outputs": [
        {
          "output_type": "stream",
          "text": [
            "Requirement already satisfied: seaborn in /usr/local/lib/python3.6/dist-packages (0.10.1)\n",
            "Requirement already satisfied: scipy>=1.0.1 in /usr/local/lib/python3.6/dist-packages (from seaborn) (1.4.1)\n",
            "Requirement already satisfied: numpy>=1.13.3 in /usr/local/lib/python3.6/dist-packages (from seaborn) (1.18.5)\n",
            "Requirement already satisfied: pandas>=0.22.0 in /usr/local/lib/python3.6/dist-packages (from seaborn) (1.0.5)\n",
            "Requirement already satisfied: matplotlib>=2.1.2 in /usr/local/lib/python3.6/dist-packages (from seaborn) (3.2.2)\n",
            "Requirement already satisfied: python-dateutil>=2.6.1 in /usr/local/lib/python3.6/dist-packages (from pandas>=0.22.0->seaborn) (2.8.1)\n",
            "Requirement already satisfied: pytz>=2017.2 in /usr/local/lib/python3.6/dist-packages (from pandas>=0.22.0->seaborn) (2018.9)\n",
            "Requirement already satisfied: pyparsing!=2.0.4,!=2.1.2,!=2.1.6,>=2.0.1 in /usr/local/lib/python3.6/dist-packages (from matplotlib>=2.1.2->seaborn) (2.4.7)\n",
            "Requirement already satisfied: cycler>=0.10 in /usr/local/lib/python3.6/dist-packages (from matplotlib>=2.1.2->seaborn) (0.10.0)\n",
            "Requirement already satisfied: kiwisolver>=1.0.1 in /usr/local/lib/python3.6/dist-packages (from matplotlib>=2.1.2->seaborn) (1.2.0)\n",
            "Requirement already satisfied: six>=1.5 in /usr/local/lib/python3.6/dist-packages (from python-dateutil>=2.6.1->pandas>=0.22.0->seaborn) (1.15.0)\n",
            "Collecting git+https://github.com/tensorflow/docs\n",
            "  Cloning https://github.com/tensorflow/docs to /tmp/pip-req-build-28mdt8jh\n",
            "  Running command git clone -q https://github.com/tensorflow/docs /tmp/pip-req-build-28mdt8jh\n",
            "Requirement already satisfied: astor in /usr/local/lib/python3.6/dist-packages (from tensorflow-docs===0.0.0945a448704b25a0897ed24abd45ab4d0b0d6f3c2-) (0.8.1)\n",
            "Requirement already satisfied: absl-py in /usr/local/lib/python3.6/dist-packages (from tensorflow-docs===0.0.0945a448704b25a0897ed24abd45ab4d0b0d6f3c2-) (0.8.1)\n",
            "Requirement already satisfied: protobuf in /usr/local/lib/python3.6/dist-packages (from tensorflow-docs===0.0.0945a448704b25a0897ed24abd45ab4d0b0d6f3c2-) (3.12.4)\n",
            "Requirement already satisfied: pyyaml in /usr/local/lib/python3.6/dist-packages (from tensorflow-docs===0.0.0945a448704b25a0897ed24abd45ab4d0b0d6f3c2-) (3.13)\n",
            "Requirement already satisfied: six in /usr/local/lib/python3.6/dist-packages (from absl-py->tensorflow-docs===0.0.0945a448704b25a0897ed24abd45ab4d0b0d6f3c2-) (1.15.0)\n",
            "Requirement already satisfied: setuptools in /usr/local/lib/python3.6/dist-packages (from protobuf->tensorflow-docs===0.0.0945a448704b25a0897ed24abd45ab4d0b0d6f3c2-) (49.6.0)\n",
            "Building wheels for collected packages: tensorflow-docs\n",
            "  Building wheel for tensorflow-docs (setup.py) ... \u001b[?25l\u001b[?25hdone\n",
            "  Created wheel for tensorflow-docs: filename=tensorflow_docs-0.0.0945a448704b25a0897ed24abd45ab4d0b0d6f3c2_-cp36-none-any.whl size=144533 sha256=86e8afac41cac8c8e32cfbf71d2beb52874ba0f790871aa12d719688bb6bdeef\n",
            "  Stored in directory: /tmp/pip-ephem-wheel-cache-kjbhwwa5/wheels/eb/1b/35/fce87697be00d2fc63e0b4b395b0d9c7e391a10e98d9a0d97f\n",
            "Successfully built tensorflow-docs\n",
            "Installing collected packages: tensorflow-docs\n",
            "Successfully installed tensorflow-docs-0.0.0945a448704b25a0897ed24abd45ab4d0b0d6f3c2-\n"
          ],
          "name": "stdout"
        }
      ]
    },
    {
      "cell_type": "code",
      "metadata": {
        "id": "qCeIqGLKDrbe",
        "colab_type": "code",
        "colab": {
          "base_uri": "https://localhost:8080/",
          "height": 70
        },
        "outputId": "06400074-36bf-4b24-f727-a8661ee0477b"
      },
      "source": [
        "import pathlib\n",
        "\n",
        "import matplotlib.pyplot as plt\n",
        "import numpy as np\n",
        "import pandas as pd\n",
        "import seaborn as sns"
      ],
      "execution_count": null,
      "outputs": [
        {
          "output_type": "stream",
          "text": [
            "/usr/local/lib/python3.6/dist-packages/statsmodels/tools/_testing.py:19: FutureWarning: pandas.util.testing is deprecated. Use the functions in the public API at pandas.testing instead.\n",
            "  import pandas.util.testing as tm\n"
          ],
          "name": "stderr"
        }
      ]
    },
    {
      "cell_type": "code",
      "metadata": {
        "id": "zYsTDRaYDtdR",
        "colab_type": "code",
        "colab": {}
      },
      "source": [
        "import tensorflow as tf\n",
        "\n",
        "from tensorflow import keras\n",
        "from tensorflow.keras import layers"
      ],
      "execution_count": null,
      "outputs": []
    },
    {
      "cell_type": "code",
      "metadata": {
        "id": "Vd30w6NuDvyv",
        "colab_type": "code",
        "colab": {}
      },
      "source": [
        "import tensorflow_docs as tfdocs\n",
        "import tensorflow_docs.plots\n",
        "import tensorflow_docs.modeling"
      ],
      "execution_count": null,
      "outputs": []
    },
    {
      "cell_type": "code",
      "metadata": {
        "id": "NKHoTgKeDxJK",
        "colab_type": "code",
        "colab": {
          "base_uri": "https://localhost:8080/",
          "height": 69
        },
        "outputId": "61e52d7a-aff9-425d-ff3a-232f61112593"
      },
      "source": [
        "dataset_path = keras.utils.get_file(\"auto-mpg.data\", \"http://archive.ics.uci.edu/ml/machine-learning-databases/auto-mpg/auto-mpg.data\")\n",
        "dataset_path"
      ],
      "execution_count": null,
      "outputs": [
        {
          "output_type": "stream",
          "text": [
            "Downloading data from http://archive.ics.uci.edu/ml/machine-learning-databases/auto-mpg/auto-mpg.data\n",
            "32768/30286 [================================] - 0s 1us/step\n"
          ],
          "name": "stdout"
        },
        {
          "output_type": "execute_result",
          "data": {
            "application/vnd.google.colaboratory.intrinsic+json": {
              "type": "string"
            },
            "text/plain": [
              "'/root/.keras/datasets/auto-mpg.data'"
            ]
          },
          "metadata": {
            "tags": []
          },
          "execution_count": 5
        }
      ]
    },
    {
      "cell_type": "code",
      "metadata": {
        "id": "UgH9J4BXD1Qh",
        "colab_type": "code",
        "colab": {}
      },
      "source": [
        "column_names = ['MPG','Cylinders','Displacement','Horsepower','Weight',\n",
        "                'Acceleration', 'Model Year', 'Origin']"
      ],
      "execution_count": null,
      "outputs": []
    },
    {
      "cell_type": "code",
      "metadata": {
        "id": "S3X3TjJ3D2uF",
        "colab_type": "code",
        "colab": {}
      },
      "source": [
        "dataset = pd.read_csv(dataset_path, names=column_names,\n",
        "                      na_values = \"?\", comment='\\t',\n",
        "                      sep=\" \", skipinitialspace=True)"
      ],
      "execution_count": null,
      "outputs": []
    },
    {
      "cell_type": "code",
      "metadata": {
        "id": "f_qoHKPqD5Ox",
        "colab_type": "code",
        "colab": {
          "base_uri": "https://localhost:8080/",
          "height": 195
        },
        "outputId": "efe5fed8-3f2e-4894-bbd8-3a675c6e5243"
      },
      "source": [
        "dataset.head()"
      ],
      "execution_count": null,
      "outputs": [
        {
          "output_type": "execute_result",
          "data": {
            "text/html": [
              "<div>\n",
              "<style scoped>\n",
              "    .dataframe tbody tr th:only-of-type {\n",
              "        vertical-align: middle;\n",
              "    }\n",
              "\n",
              "    .dataframe tbody tr th {\n",
              "        vertical-align: top;\n",
              "    }\n",
              "\n",
              "    .dataframe thead th {\n",
              "        text-align: right;\n",
              "    }\n",
              "</style>\n",
              "<table border=\"1\" class=\"dataframe\">\n",
              "  <thead>\n",
              "    <tr style=\"text-align: right;\">\n",
              "      <th></th>\n",
              "      <th>MPG</th>\n",
              "      <th>Cylinders</th>\n",
              "      <th>Displacement</th>\n",
              "      <th>Horsepower</th>\n",
              "      <th>Weight</th>\n",
              "      <th>Acceleration</th>\n",
              "      <th>Model Year</th>\n",
              "      <th>Origin</th>\n",
              "    </tr>\n",
              "  </thead>\n",
              "  <tbody>\n",
              "    <tr>\n",
              "      <th>0</th>\n",
              "      <td>18.0</td>\n",
              "      <td>8</td>\n",
              "      <td>307.0</td>\n",
              "      <td>130.0</td>\n",
              "      <td>3504.0</td>\n",
              "      <td>12.0</td>\n",
              "      <td>70</td>\n",
              "      <td>1</td>\n",
              "    </tr>\n",
              "    <tr>\n",
              "      <th>1</th>\n",
              "      <td>15.0</td>\n",
              "      <td>8</td>\n",
              "      <td>350.0</td>\n",
              "      <td>165.0</td>\n",
              "      <td>3693.0</td>\n",
              "      <td>11.5</td>\n",
              "      <td>70</td>\n",
              "      <td>1</td>\n",
              "    </tr>\n",
              "    <tr>\n",
              "      <th>2</th>\n",
              "      <td>18.0</td>\n",
              "      <td>8</td>\n",
              "      <td>318.0</td>\n",
              "      <td>150.0</td>\n",
              "      <td>3436.0</td>\n",
              "      <td>11.0</td>\n",
              "      <td>70</td>\n",
              "      <td>1</td>\n",
              "    </tr>\n",
              "    <tr>\n",
              "      <th>3</th>\n",
              "      <td>16.0</td>\n",
              "      <td>8</td>\n",
              "      <td>304.0</td>\n",
              "      <td>150.0</td>\n",
              "      <td>3433.0</td>\n",
              "      <td>12.0</td>\n",
              "      <td>70</td>\n",
              "      <td>1</td>\n",
              "    </tr>\n",
              "    <tr>\n",
              "      <th>4</th>\n",
              "      <td>17.0</td>\n",
              "      <td>8</td>\n",
              "      <td>302.0</td>\n",
              "      <td>140.0</td>\n",
              "      <td>3449.0</td>\n",
              "      <td>10.5</td>\n",
              "      <td>70</td>\n",
              "      <td>1</td>\n",
              "    </tr>\n",
              "  </tbody>\n",
              "</table>\n",
              "</div>"
            ],
            "text/plain": [
              "    MPG  Cylinders  Displacement  ...  Acceleration  Model Year  Origin\n",
              "0  18.0          8         307.0  ...          12.0          70       1\n",
              "1  15.0          8         350.0  ...          11.5          70       1\n",
              "2  18.0          8         318.0  ...          11.0          70       1\n",
              "3  16.0          8         304.0  ...          12.0          70       1\n",
              "4  17.0          8         302.0  ...          10.5          70       1\n",
              "\n",
              "[5 rows x 8 columns]"
            ]
          },
          "metadata": {
            "tags": []
          },
          "execution_count": 8
        }
      ]
    },
    {
      "cell_type": "markdown",
      "metadata": {
        "id": "8y8124R7D8Ae",
        "colab_type": "text"
      },
      "source": [
        "data clean"
      ]
    },
    {
      "cell_type": "code",
      "metadata": {
        "id": "j7h94YLCD9U9",
        "colab_type": "code",
        "colab": {
          "base_uri": "https://localhost:8080/",
          "height": 168
        },
        "outputId": "bbfb74d3-8ba4-4e3d-8a5a-dd5f37513050"
      },
      "source": [
        "dataset.isna().sum()"
      ],
      "execution_count": null,
      "outputs": [
        {
          "output_type": "execute_result",
          "data": {
            "text/plain": [
              "MPG             0\n",
              "Cylinders       0\n",
              "Displacement    0\n",
              "Horsepower      6\n",
              "Weight          0\n",
              "Acceleration    0\n",
              "Model Year      0\n",
              "Origin          0\n",
              "dtype: int64"
            ]
          },
          "metadata": {
            "tags": []
          },
          "execution_count": 9
        }
      ]
    },
    {
      "cell_type": "code",
      "metadata": {
        "id": "1hpQ0HBaEBDU",
        "colab_type": "code",
        "colab": {}
      },
      "source": [
        "dataset=dataset.dropna()"
      ],
      "execution_count": null,
      "outputs": []
    },
    {
      "cell_type": "markdown",
      "metadata": {
        "id": "YrnsB2v8EGYm",
        "colab_type": "text"
      },
      "source": [
        "The \"Origin\" column is really categorical, not numeric. So convert that to a one-hot:"
      ]
    },
    {
      "cell_type": "code",
      "metadata": {
        "id": "X1_UQunOEECy",
        "colab_type": "code",
        "colab": {}
      },
      "source": [
        "dataset['Origin']=dataset['Origin'].map({1:'USA', 2:'Europe',3:'Japan'})"
      ],
      "execution_count": null,
      "outputs": []
    },
    {
      "cell_type": "code",
      "metadata": {
        "id": "JhvdGIuYEeQu",
        "colab_type": "code",
        "colab": {
          "base_uri": "https://localhost:8080/",
          "height": 232
        },
        "outputId": "2c7b9deb-0cac-4d35-81f0-9a44abd2eeab"
      },
      "source": [
        "dataset=pd.get_dummies(dataset, prefix='', prefix_sep='')\n",
        "dataset.head()"
      ],
      "execution_count": null,
      "outputs": [
        {
          "output_type": "execute_result",
          "data": {
            "text/html": [
              "<div>\n",
              "<style scoped>\n",
              "    .dataframe tbody tr th:only-of-type {\n",
              "        vertical-align: middle;\n",
              "    }\n",
              "\n",
              "    .dataframe tbody tr th {\n",
              "        vertical-align: top;\n",
              "    }\n",
              "\n",
              "    .dataframe thead th {\n",
              "        text-align: right;\n",
              "    }\n",
              "</style>\n",
              "<table border=\"1\" class=\"dataframe\">\n",
              "  <thead>\n",
              "    <tr style=\"text-align: right;\">\n",
              "      <th></th>\n",
              "      <th>MPG</th>\n",
              "      <th>Cylinders</th>\n",
              "      <th>Displacement</th>\n",
              "      <th>Horsepower</th>\n",
              "      <th>Weight</th>\n",
              "      <th>Acceleration</th>\n",
              "      <th>Model Year</th>\n",
              "      <th>Europe</th>\n",
              "      <th>Japan</th>\n",
              "      <th>USA</th>\n",
              "    </tr>\n",
              "  </thead>\n",
              "  <tbody>\n",
              "    <tr>\n",
              "      <th>0</th>\n",
              "      <td>18.0</td>\n",
              "      <td>8</td>\n",
              "      <td>307.0</td>\n",
              "      <td>130.0</td>\n",
              "      <td>3504.0</td>\n",
              "      <td>12.0</td>\n",
              "      <td>70</td>\n",
              "      <td>0</td>\n",
              "      <td>0</td>\n",
              "      <td>1</td>\n",
              "    </tr>\n",
              "    <tr>\n",
              "      <th>1</th>\n",
              "      <td>15.0</td>\n",
              "      <td>8</td>\n",
              "      <td>350.0</td>\n",
              "      <td>165.0</td>\n",
              "      <td>3693.0</td>\n",
              "      <td>11.5</td>\n",
              "      <td>70</td>\n",
              "      <td>0</td>\n",
              "      <td>0</td>\n",
              "      <td>1</td>\n",
              "    </tr>\n",
              "    <tr>\n",
              "      <th>2</th>\n",
              "      <td>18.0</td>\n",
              "      <td>8</td>\n",
              "      <td>318.0</td>\n",
              "      <td>150.0</td>\n",
              "      <td>3436.0</td>\n",
              "      <td>11.0</td>\n",
              "      <td>70</td>\n",
              "      <td>0</td>\n",
              "      <td>0</td>\n",
              "      <td>1</td>\n",
              "    </tr>\n",
              "    <tr>\n",
              "      <th>3</th>\n",
              "      <td>16.0</td>\n",
              "      <td>8</td>\n",
              "      <td>304.0</td>\n",
              "      <td>150.0</td>\n",
              "      <td>3433.0</td>\n",
              "      <td>12.0</td>\n",
              "      <td>70</td>\n",
              "      <td>0</td>\n",
              "      <td>0</td>\n",
              "      <td>1</td>\n",
              "    </tr>\n",
              "    <tr>\n",
              "      <th>4</th>\n",
              "      <td>17.0</td>\n",
              "      <td>8</td>\n",
              "      <td>302.0</td>\n",
              "      <td>140.0</td>\n",
              "      <td>3449.0</td>\n",
              "      <td>10.5</td>\n",
              "      <td>70</td>\n",
              "      <td>0</td>\n",
              "      <td>0</td>\n",
              "      <td>1</td>\n",
              "    </tr>\n",
              "  </tbody>\n",
              "</table>\n",
              "</div>"
            ],
            "text/plain": [
              "    MPG  Cylinders  Displacement  Horsepower  ...  Model Year  Europe  Japan  USA\n",
              "0  18.0          8         307.0       130.0  ...          70       0      0    1\n",
              "1  15.0          8         350.0       165.0  ...          70       0      0    1\n",
              "2  18.0          8         318.0       150.0  ...          70       0      0    1\n",
              "3  16.0          8         304.0       150.0  ...          70       0      0    1\n",
              "4  17.0          8         302.0       140.0  ...          70       0      0    1\n",
              "\n",
              "[5 rows x 10 columns]"
            ]
          },
          "metadata": {
            "tags": []
          },
          "execution_count": 13
        }
      ]
    },
    {
      "cell_type": "markdown",
      "metadata": {
        "id": "XOYxmPkvEvNA",
        "colab_type": "text"
      },
      "source": [
        "Split data"
      ]
    },
    {
      "cell_type": "code",
      "metadata": {
        "id": "dftrPVLpEuq4",
        "colab_type": "code",
        "colab": {}
      },
      "source": [
        "train_dataset = dataset.sample(frac=0.8,random_state=0)\n",
        "test_dataset = dataset.drop(train_dataset.index)"
      ],
      "execution_count": null,
      "outputs": []
    },
    {
      "cell_type": "markdown",
      "metadata": {
        "id": "BpHxBdNCEzTs",
        "colab_type": "text"
      },
      "source": [
        "Inspect data"
      ]
    },
    {
      "cell_type": "code",
      "metadata": {
        "id": "ZIkYUN-SE023",
        "colab_type": "code",
        "colab": {
          "base_uri": "https://localhost:8080/",
          "height": 692
        },
        "outputId": "cc767412-8055-419a-feac-b77a4fe96b3a"
      },
      "source": [
        "sns.pairplot(train_dataset[[\"MPG\", \"Cylinders\", \"Displacement\", \"Weight\"]], diag_kind=\"kde\")"
      ],
      "execution_count": null,
      "outputs": [
        {
          "output_type": "execute_result",
          "data": {
            "text/plain": [
              "<seaborn.axisgrid.PairGrid at 0x7f02b921ac88>"
            ]
          },
          "metadata": {
            "tags": []
          },
          "execution_count": 15
        },
        {
          "output_type": "display_data",
          "data": {
            "image/png": "[encoded data removed]",
            "text/plain": [
              "<Figure size 720x720 with 20 Axes>"
            ]
          },
          "metadata": {
            "tags": [],
            "needs_background": "light"
          }
        }
      ]
    },
    {
      "cell_type": "code",
      "metadata": {
        "id": "qHTUudAAFNU3",
        "colab_type": "code",
        "colab": {
          "base_uri": "https://localhost:8080/",
          "height": 314
        },
        "outputId": "7281f37d-4f12-456b-ba32-e000434c45e6"
      },
      "source": [
        "train_stats = train_dataset.describe()\n",
        "train_stats.pop(\"MPG\")\n",
        "train_stats = train_stats.transpose()\n",
        "train_stats"
      ],
      "execution_count": null,
      "outputs": [
        {
          "output_type": "execute_result",
          "data": {
            "text/html": [
              "<div>\n",
              "<style scoped>\n",
              "    .dataframe tbody tr th:only-of-type {\n",
              "        vertical-align: middle;\n",
              "    }\n",
              "\n",
              "    .dataframe tbody tr th {\n",
              "        vertical-align: top;\n",
              "    }\n",
              "\n",
              "    .dataframe thead th {\n",
              "        text-align: right;\n",
              "    }\n",
              "</style>\n",
              "<table border=\"1\" class=\"dataframe\">\n",
              "  <thead>\n",
              "    <tr style=\"text-align: right;\">\n",
              "      <th></th>\n",
              "      <th>count</th>\n",
              "      <th>mean</th>\n",
              "      <th>std</th>\n",
              "      <th>min</th>\n",
              "      <th>25%</th>\n",
              "      <th>50%</th>\n",
              "      <th>75%</th>\n",
              "      <th>max</th>\n",
              "    </tr>\n",
              "  </thead>\n",
              "  <tbody>\n",
              "    <tr>\n",
              "      <th>Cylinders</th>\n",
              "      <td>314.0</td>\n",
              "      <td>5.477707</td>\n",
              "      <td>1.699788</td>\n",
              "      <td>3.0</td>\n",
              "      <td>4.00</td>\n",
              "      <td>4.0</td>\n",
              "      <td>8.00</td>\n",
              "      <td>8.0</td>\n",
              "    </tr>\n",
              "    <tr>\n",
              "      <th>Displacement</th>\n",
              "      <td>314.0</td>\n",
              "      <td>195.318471</td>\n",
              "      <td>104.331589</td>\n",
              "      <td>68.0</td>\n",
              "      <td>105.50</td>\n",
              "      <td>151.0</td>\n",
              "      <td>265.75</td>\n",
              "      <td>455.0</td>\n",
              "    </tr>\n",
              "    <tr>\n",
              "      <th>Horsepower</th>\n",
              "      <td>314.0</td>\n",
              "      <td>104.869427</td>\n",
              "      <td>38.096214</td>\n",
              "      <td>46.0</td>\n",
              "      <td>76.25</td>\n",
              "      <td>94.5</td>\n",
              "      <td>128.00</td>\n",
              "      <td>225.0</td>\n",
              "    </tr>\n",
              "    <tr>\n",
              "      <th>Weight</th>\n",
              "      <td>314.0</td>\n",
              "      <td>2990.251592</td>\n",
              "      <td>843.898596</td>\n",
              "      <td>1649.0</td>\n",
              "      <td>2256.50</td>\n",
              "      <td>2822.5</td>\n",
              "      <td>3608.00</td>\n",
              "      <td>5140.0</td>\n",
              "    </tr>\n",
              "    <tr>\n",
              "      <th>Acceleration</th>\n",
              "      <td>314.0</td>\n",
              "      <td>15.559236</td>\n",
              "      <td>2.789230</td>\n",
              "      <td>8.0</td>\n",
              "      <td>13.80</td>\n",
              "      <td>15.5</td>\n",
              "      <td>17.20</td>\n",
              "      <td>24.8</td>\n",
              "    </tr>\n",
              "    <tr>\n",
              "      <th>Model Year</th>\n",
              "      <td>314.0</td>\n",
              "      <td>75.898089</td>\n",
              "      <td>3.675642</td>\n",
              "      <td>70.0</td>\n",
              "      <td>73.00</td>\n",
              "      <td>76.0</td>\n",
              "      <td>79.00</td>\n",
              "      <td>82.0</td>\n",
              "    </tr>\n",
              "    <tr>\n",
              "      <th>Europe</th>\n",
              "      <td>314.0</td>\n",
              "      <td>0.178344</td>\n",
              "      <td>0.383413</td>\n",
              "      <td>0.0</td>\n",
              "      <td>0.00</td>\n",
              "      <td>0.0</td>\n",
              "      <td>0.00</td>\n",
              "      <td>1.0</td>\n",
              "    </tr>\n",
              "    <tr>\n",
              "      <th>Japan</th>\n",
              "      <td>314.0</td>\n",
              "      <td>0.197452</td>\n",
              "      <td>0.398712</td>\n",
              "      <td>0.0</td>\n",
              "      <td>0.00</td>\n",
              "      <td>0.0</td>\n",
              "      <td>0.00</td>\n",
              "      <td>1.0</td>\n",
              "    </tr>\n",
              "    <tr>\n",
              "      <th>USA</th>\n",
              "      <td>314.0</td>\n",
              "      <td>0.624204</td>\n",
              "      <td>0.485101</td>\n",
              "      <td>0.0</td>\n",
              "      <td>0.00</td>\n",
              "      <td>1.0</td>\n",
              "      <td>1.00</td>\n",
              "      <td>1.0</td>\n",
              "    </tr>\n",
              "  </tbody>\n",
              "</table>\n",
              "</div>"
            ],
            "text/plain": [
              "              count         mean         std  ...     50%      75%     max\n",
              "Cylinders     314.0     5.477707    1.699788  ...     4.0     8.00     8.0\n",
              "Displacement  314.0   195.318471  104.331589  ...   151.0   265.75   455.0\n",
              "Horsepower    314.0   104.869427   38.096214  ...    94.5   128.00   225.0\n",
              "Weight        314.0  2990.251592  843.898596  ...  2822.5  3608.00  5140.0\n",
              "Acceleration  314.0    15.559236    2.789230  ...    15.5    17.20    24.8\n",
              "Model Year    314.0    75.898089    3.675642  ...    76.0    79.00    82.0\n",
              "Europe        314.0     0.178344    0.383413  ...     0.0     0.00     1.0\n",
              "Japan         314.0     0.197452    0.398712  ...     0.0     0.00     1.0\n",
              "USA           314.0     0.624204    0.485101  ...     1.0     1.00     1.0\n",
              "\n",
              "[9 rows x 8 columns]"
            ]
          },
          "metadata": {
            "tags": []
          },
          "execution_count": 16
        }
      ]
    },
    {
      "cell_type": "markdown",
      "metadata": {
        "id": "Jnjjk3HKFDES",
        "colab_type": "text"
      },
      "source": [
        "Split features from labels"
      ]
    },
    {
      "cell_type": "code",
      "metadata": {
        "id": "QWZI_xViFaFi",
        "colab_type": "code",
        "colab": {}
      },
      "source": [
        "train_labels = train_dataset.pop('MPG')\n",
        "test_labels = test_dataset.pop('MPG')"
      ],
      "execution_count": null,
      "outputs": []
    },
    {
      "cell_type": "markdown",
      "metadata": {
        "id": "WXowHS_OFcSU",
        "colab_type": "text"
      },
      "source": [
        "Normalize"
      ]
    },
    {
      "cell_type": "code",
      "metadata": {
        "id": "zo5yMTg_FeFT",
        "colab_type": "code",
        "colab": {}
      },
      "source": [
        "def norm(x):\n",
        "  return (x - train_stats['mean']) / train_stats['std']\n",
        "normed_train_data = norm(train_dataset)\n",
        "normed_test_data = norm(test_dataset)"
      ],
      "execution_count": null,
      "outputs": []
    },
    {
      "cell_type": "markdown",
      "metadata": {
        "id": "mBDwKVzZFqyQ",
        "colab_type": "text"
      },
      "source": [
        "Build model"
      ]
    },
    {
      "cell_type": "markdown",
      "metadata": {
        "id": "jiTDup8jFvgN",
        "colab_type": "text"
      },
      "source": [
        "9 features in our model"
      ]
    },
    {
      "cell_type": "code",
      "metadata": {
        "id": "V9guo4PEFs0H",
        "colab_type": "code",
        "colab": {}
      },
      "source": [
        "def build_model():\n",
        "  model = keras.Sequential([\n",
        "    layers.Dense(64, activation='relu', input_shape=[len(train_dataset.keys())]),\n",
        "    layers.Dense(64, activation='relu'),\n",
        "    layers.Dense(1)\n",
        "  ])\n",
        "\n",
        "  optimizer = tf.keras.optimizers.RMSprop(0.001)\n",
        "\n",
        "  model.compile(loss='mse',\n",
        "                optimizer=optimizer,\n",
        "                metrics=['mae', 'mse'])\n",
        "  return model"
      ],
      "execution_count": null,
      "outputs": []
    },
    {
      "cell_type": "code",
      "metadata": {
        "id": "AWWFt4DrNT6J",
        "colab_type": "code",
        "colab": {}
      },
      "source": [
        "model = build_model()"
      ],
      "execution_count": null,
      "outputs": []
    },
    {
      "cell_type": "code",
      "metadata": {
        "id": "AAgc0CfmNVKY",
        "colab_type": "code",
        "colab": {
          "base_uri": "https://localhost:8080/",
          "height": 252
        },
        "outputId": "f739cee2-65db-495c-f1b2-d977be8672c2"
      },
      "source": [
        "model.summary()\n"
      ],
      "execution_count": null,
      "outputs": [
        {
          "output_type": "stream",
          "text": [
            "Model: \"sequential\"\n",
            "_________________________________________________________________\n",
            "Layer (type)                 Output Shape              Param #   \n",
            "=================================================================\n",
            "dense (Dense)                (None, 64)                640       \n",
            "_________________________________________________________________\n",
            "dense_1 (Dense)              (None, 64)                4160      \n",
            "_________________________________________________________________\n",
            "dense_2 (Dense)              (None, 1)                 65        \n",
            "=================================================================\n",
            "Total params: 4,865\n",
            "Trainable params: 4,865\n",
            "Non-trainable params: 0\n",
            "_________________________________________________________________\n"
          ],
          "name": "stdout"
        }
      ]
    },
    {
      "cell_type": "markdown",
      "metadata": {
        "id": "ePElTT1aOUIX",
        "colab_type": "text"
      },
      "source": [
        "Now try out the model. Take a batch of 10 examples from the training data and call model.predict on it."
      ]
    },
    {
      "cell_type": "code",
      "metadata": {
        "id": "N3OF_m0iNWc3",
        "colab_type": "code",
        "colab": {
          "base_uri": "https://localhost:8080/",
          "height": 185
        },
        "outputId": "9887b6a9-1e10-4ba0-948a-289533d651b9"
      },
      "source": [
        "example_batch = normed_train_data[:10]\n",
        "example_result = model.predict(example_batch)\n",
        "example_result"
      ],
      "execution_count": null,
      "outputs": [
        {
          "output_type": "execute_result",
          "data": {
            "text/plain": [
              "array([[-0.46448013],\n",
              "       [-0.22953534],\n",
              "       [-0.18770766],\n",
              "       [-0.42815495],\n",
              "       [ 0.11493084],\n",
              "       [-0.1710785 ],\n",
              "       [ 0.07639936],\n",
              "       [ 0.13603315],\n",
              "       [-0.28665447],\n",
              "       [-0.10694999]], dtype=float32)"
            ]
          },
          "metadata": {
            "tags": []
          },
          "execution_count": 22
        }
      ]
    },
    {
      "cell_type": "markdown",
      "metadata": {
        "id": "lN6fA2upOWa6",
        "colab_type": "text"
      },
      "source": [
        "Train model"
      ]
    },
    {
      "cell_type": "code",
      "metadata": {
        "id": "JF5xwt86OV3X",
        "colab_type": "code",
        "colab": {
          "base_uri": "https://localhost:8080/",
          "height": 390
        },
        "outputId": "2bd554e5-b3af-4dc8-c615-745448c792b6"
      },
      "source": [
        "class PrintDot(keras.callbacks.Callback):\n",
        "  def on_epoch_end(self, epoch, logs):\n",
        "    if epoch%100==0: print(' ')\n",
        "    print(',', ends=' ')\n",
        "\n",
        "\n",
        "EPOCHS = 1000\n",
        "\n",
        "history = model.fit(\n",
        "  normed_train_data, train_labels,\n",
        "  epochs=EPOCHS, validation_split = 0.2, verbose=0,\n",
        "  callbacks=[tfdocs.modeling.EpochDots()])"
      ],
      "execution_count": null,
      "outputs": [
        {
          "output_type": "stream",
          "text": [
            "\n",
            "Epoch: 0, loss:579.6849,  mae:22.8160,  mse:579.6849,  val_loss:571.4529,  val_mae:22.6371,  val_mse:571.4529,  \n",
            "....................................................................................................\n",
            "Epoch: 100, loss:5.9389,  mae:1.7059,  mse:5.9389,  val_loss:8.2329,  val_mae:2.2050,  val_mse:8.2329,  \n",
            "....................................................................................................\n",
            "Epoch: 200, loss:4.9758,  mae:1.5304,  mse:4.9758,  val_loss:7.8409,  val_mae:2.1197,  val_mse:7.8409,  \n",
            "....................................................................................................\n",
            "Epoch: 300, loss:4.6138,  mae:1.4674,  mse:4.6138,  val_loss:8.3416,  val_mae:2.2237,  val_mse:8.3416,  \n",
            "....................................................................................................\n",
            "Epoch: 400, loss:4.0369,  mae:1.3528,  mse:4.0369,  val_loss:8.4585,  val_mae:2.2295,  val_mse:8.4585,  \n",
            "....................................................................................................\n",
            "Epoch: 500, loss:3.8257,  mae:1.3278,  mse:3.8257,  val_loss:9.5352,  val_mae:2.2763,  val_mse:9.5352,  \n",
            "....................................................................................................\n",
            "Epoch: 600, loss:3.5036,  mae:1.2808,  mse:3.5036,  val_loss:9.6828,  val_mae:2.3144,  val_mse:9.6828,  \n",
            "....................................................................................................\n",
            "Epoch: 700, loss:3.1696,  mae:1.1600,  mse:3.1696,  val_loss:9.9109,  val_mae:2.3569,  val_mse:9.9109,  \n",
            "....................................................................................................\n",
            "Epoch: 800, loss:2.7743,  mae:1.0875,  mse:2.7743,  val_loss:9.8663,  val_mae:2.4158,  val_mse:9.8663,  \n",
            "....................................................................................................\n",
            "Epoch: 900, loss:2.7436,  mae:1.1015,  mse:2.7436,  val_loss:10.6436,  val_mae:2.4270,  val_mse:10.6436,  \n",
            "...................................................................................................."
          ],
          "name": "stdout"
        }
      ]
    },
    {
      "cell_type": "code",
      "metadata": {
        "id": "xu1sLQkhO5F1",
        "colab_type": "code",
        "colab": {
          "base_uri": "https://localhost:8080/",
          "height": 195
        },
        "outputId": "1c2f1d2d-2d03-403b-8563-fb542f976efa"
      },
      "source": [
        "hist = pd.DataFrame(history.history)\n",
        "hist['epoch'] = history.epoch\n",
        "hist.tail()"
      ],
      "execution_count": null,
      "outputs": [
        {
          "output_type": "execute_result",
          "data": {
            "text/html": [
              "<div>\n",
              "<style scoped>\n",
              "    .dataframe tbody tr th:only-of-type {\n",
              "        vertical-align: middle;\n",
              "    }\n",
              "\n",
              "    .dataframe tbody tr th {\n",
              "        vertical-align: top;\n",
              "    }\n",
              "\n",
              "    .dataframe thead th {\n",
              "        text-align: right;\n",
              "    }\n",
              "</style>\n",
              "<table border=\"1\" class=\"dataframe\">\n",
              "  <thead>\n",
              "    <tr style=\"text-align: right;\">\n",
              "      <th></th>\n",
              "      <th>loss</th>\n",
              "      <th>mae</th>\n",
              "      <th>mse</th>\n",
              "      <th>val_loss</th>\n",
              "      <th>val_mae</th>\n",
              "      <th>val_mse</th>\n",
              "      <th>epoch</th>\n",
              "    </tr>\n",
              "  </thead>\n",
              "  <tbody>\n",
              "    <tr>\n",
              "      <th>995</th>\n",
              "      <td>2.514728</td>\n",
              "      <td>1.004953</td>\n",
              "      <td>2.514728</td>\n",
              "      <td>10.554772</td>\n",
              "      <td>2.409457</td>\n",
              "      <td>10.554772</td>\n",
              "      <td>995</td>\n",
              "    </tr>\n",
              "    <tr>\n",
              "      <th>996</th>\n",
              "      <td>2.351870</td>\n",
              "      <td>0.970911</td>\n",
              "      <td>2.351870</td>\n",
              "      <td>10.985990</td>\n",
              "      <td>2.421921</td>\n",
              "      <td>10.985990</td>\n",
              "      <td>996</td>\n",
              "    </tr>\n",
              "    <tr>\n",
              "      <th>997</th>\n",
              "      <td>2.517979</td>\n",
              "      <td>1.017429</td>\n",
              "      <td>2.517979</td>\n",
              "      <td>10.708511</td>\n",
              "      <td>2.455374</td>\n",
              "      <td>10.708511</td>\n",
              "      <td>997</td>\n",
              "    </tr>\n",
              "    <tr>\n",
              "      <th>998</th>\n",
              "      <td>2.403161</td>\n",
              "      <td>1.011988</td>\n",
              "      <td>2.403161</td>\n",
              "      <td>11.144231</td>\n",
              "      <td>2.441942</td>\n",
              "      <td>11.144231</td>\n",
              "      <td>998</td>\n",
              "    </tr>\n",
              "    <tr>\n",
              "      <th>999</th>\n",
              "      <td>2.390182</td>\n",
              "      <td>1.026030</td>\n",
              "      <td>2.390182</td>\n",
              "      <td>10.743784</td>\n",
              "      <td>2.460058</td>\n",
              "      <td>10.743784</td>\n",
              "      <td>999</td>\n",
              "    </tr>\n",
              "  </tbody>\n",
              "</table>\n",
              "</div>"
            ],
            "text/plain": [
              "         loss       mae       mse   val_loss   val_mae    val_mse  epoch\n",
              "995  2.514728  1.004953  2.514728  10.554772  2.409457  10.554772    995\n",
              "996  2.351870  0.970911  2.351870  10.985990  2.421921  10.985990    996\n",
              "997  2.517979  1.017429  2.517979  10.708511  2.455374  10.708511    997\n",
              "998  2.403161  1.011988  2.403161  11.144231  2.441942  11.144231    998\n",
              "999  2.390182  1.026030  2.390182  10.743784  2.460058  10.743784    999"
            ]
          },
          "metadata": {
            "tags": []
          },
          "execution_count": 28
        }
      ]
    },
    {
      "cell_type": "code",
      "metadata": {
        "id": "9AXVW_4xO95h",
        "colab_type": "code",
        "colab": {
          "base_uri": "https://localhost:8080/",
          "height": 549
        },
        "outputId": "5102c170-0d73-4298-c376-cc6c8ec856e0"
      },
      "source": [
        "def plot_history(history):\n",
        "  hist=pd.DataFrame(history.history)\n",
        "  hist['epoch']= history.epoch\n",
        "\n",
        "  plt.figure()\n",
        "  plt.xlabel('Epoch')\n",
        "  plt.ylabel('mean abs error')\n",
        "  plt.plot(hist['epoch'], hist['mae'], label='Train error')\n",
        "  plt.plot(hist['epoch'], hist['val_mae'], label='val error')\n",
        "  plt.ylim([0,5])\n",
        "  plt.legend()\n",
        "\n",
        "  plt.figure()\n",
        "  plt.xlabel('epoch')\n",
        "  plt.ylabel(\"MSE\")\n",
        "  plt.plot(hist['epoch'], hist['mse'], label='train error')\n",
        "  plt.plot(hist['epoch'], hist['val_mse'],label='val_error')\n",
        "  plt.legend()\n",
        "  plt.ylim([0,20])\n",
        "  plt.show()\n",
        "\n",
        "plot_history(history)  "
      ],
      "execution_count": null,
      "outputs": [
        {
          "output_type": "display_data",
          "data": {
            "image/png": "[encoded data removed]",
            "text/plain": [
              "<Figure size 432x288 with 1 Axes>"
            ]
          },
          "metadata": {
            "tags": [],
            "needs_background": "light"
          }
        },
        {
          "output_type": "display_data",
          "data": {
            "image/png": "[encoded data removed]",
            "text/plain": [
              "<Figure size 432x288 with 1 Axes>"
            ]
          },
          "metadata": {
            "tags": [],
            "needs_background": "light"
          }
        }
      ]
    },
    {
      "cell_type": "markdown",
      "metadata": {
        "id": "NFT8Akl2RmXB",
        "colab_type": "text"
      },
      "source": [
        "seems overfitting lets use early stopping callback"
      ]
    },
    {
      "cell_type": "code",
      "metadata": {
        "id": "kwcbGU_pRp0h",
        "colab_type": "code",
        "colab": {
          "base_uri": "https://localhost:8080/",
          "height": 87
        },
        "outputId": "343c77bf-5b2e-4209-85d9-c46031b4fb90"
      },
      "source": [
        "model = build_model()\n",
        "\n",
        "# The patience parameter is the amount of epochs to check for improvement\n",
        "early_stop = keras.callbacks.EarlyStopping(monitor='val_loss', patience=10)\n",
        "\n",
        "early_history = model.fit(normed_train_data, train_labels, \n",
        "                    epochs=EPOCHS, validation_split = 0.2, verbose=0, \n",
        "                    callbacks=[early_stop, tfdocs.modeling.EpochDots()])"
      ],
      "execution_count": null,
      "outputs": [
        {
          "output_type": "stream",
          "text": [
            "\n",
            "Epoch: 0, loss:549.4507,  mae:22.0476,  mse:549.4507,  val_loss:540.1712,  val_mae:21.7689,  val_mse:540.1712,  \n",
            ".................................................................."
          ],
          "name": "stdout"
        }
      ]
    },
    {
      "cell_type": "code",
      "metadata": {
        "id": "7M-0CeefSHw6",
        "colab_type": "code",
        "colab": {
          "base_uri": "https://localhost:8080/",
          "height": 549
        },
        "outputId": "739c374b-67fa-425a-b768-310328bf4275"
      },
      "source": [
        "plot_history(early_history)"
      ],
      "execution_count": null,
      "outputs": [
        {
          "output_type": "display_data",
          "data": {
            "image/png": "[encoded data removed]",
            "text/plain": [
              "<Figure size 432x288 with 1 Axes>"
            ]
          },
          "metadata": {
            "tags": [],
            "needs_background": "light"
          }
        },
        {
          "output_type": "display_data",
          "data": {
            "image/png": "[encoded data removed]",
            "text/plain": [
              "<Figure size 432x288 with 1 Axes>"
            ]
          },
          "metadata": {
            "tags": [],
            "needs_background": "light"
          }
        }
      ]
    },
    {
      "cell_type": "markdown",
      "metadata": {
        "id": "MwzJaWbbSlz9",
        "colab_type": "text"
      },
      "source": [
        "predict"
      ]
    },
    {
      "cell_type": "code",
      "metadata": {
        "id": "xaTRJK6sSmnj",
        "colab_type": "code",
        "colab": {
          "base_uri": "https://localhost:8080/",
          "height": 283
        },
        "outputId": "d07b71e2-13b3-448f-dd3f-4e8311e9e8d8"
      },
      "source": [
        "test_predictions = model.predict(normed_test_data).flatten()\n",
        "\n",
        "a = plt.axes(aspect='equal')\n",
        "plt.scatter(test_labels, test_predictions)\n",
        "plt.xlabel('True Values [MPG]')\n",
        "plt.ylabel('Predictions [MPG]')\n",
        "lims = [0, 50]\n",
        "plt.xlim(lims)\n",
        "plt.ylim(lims)\n",
        "_ = plt.plot(lims, lims)"
      ],
      "execution_count": null,
      "outputs": [
        {
          "output_type": "display_data",
          "data": {
            "image/png": "[encoded data removed]",
            "text/plain": [
              "<Figure size 432x288 with 1 Axes>"
            ]
          },
          "metadata": {
            "tags": [],
            "needs_background": "light"
          }
        }
      ]
    },
    {
      "cell_type": "code",
      "metadata": {
        "id": "XEzSkxzASsH6",
        "colab_type": "code",
        "colab": {
          "base_uri": "https://localhost:8080/",
          "height": 279
        },
        "outputId": "b8556057-ed21-45b4-ef1e-5dc7edc6feae"
      },
      "source": [
        "error=test_predictions- test_labels\n",
        "plt.hist(error, bins=25)\n",
        "plt.xlabel('Predictions error')\n",
        "_=plt.ylabel('count')"
      ],
      "execution_count": null,
      "outputs": [
        {
          "output_type": "display_data",
          "data": {
            "image/png": "[encoded data removed]",
            "text/plain": [
              "<Figure size 432x288 with 1 Axes>"
            ]
          },
          "metadata": {
            "tags": [],
            "needs_background": "light"
          }
        }
      ]
    },
    {
      "cell_type": "markdown",
      "metadata": {
        "id": "mEMpXyGyTAiR",
        "colab_type": "text"
      },
      "source": [
        "#working with structured data"
      ]
    },
    {
      "cell_type": "code",
      "metadata": {
        "id": "7va3dDDNTVmU",
        "colab_type": "code",
        "colab": {}
      },
      "source": [
        "import numpy as np\n",
        "import pandas as pd\n",
        "\n",
        "import tensorflow as tf\n",
        "\n",
        "from tensorflow import feature_column\n",
        "from tensorflow.keras import layers\n",
        "from sklearn.model_selection import train_test_split"
      ],
      "execution_count": null,
      "outputs": []
    },
    {
      "cell_type": "code",
      "metadata": {
        "id": "ZyRUjUdTTb1L",
        "colab_type": "code",
        "colab": {}
      },
      "source": [
        "import pathlib\n",
        "\n",
        "dataset_url = 'http://storage.googleapis.com/download.tensorflow.org/data/petfinder-mini.zip'\n",
        "csv_file = 'datasets/petfinder-mini/petfinder-mini.csv'"
      ],
      "execution_count": null,
      "outputs": []
    },
    {
      "cell_type": "code",
      "metadata": {
        "id": "-sQHqfdhTfMD",
        "colab_type": "code",
        "colab": {}
      },
      "source": [
        "tf.keras.utils.get_file('petfinder_mini.zip', dataset_url,\n",
        "                        extract=True, cache_dir='.')\n",
        "dataframe = pd.read_csv(csv_file)"
      ],
      "execution_count": null,
      "outputs": []
    },
    {
      "cell_type": "code",
      "metadata": {
        "id": "pyQSgsovTk00",
        "colab_type": "code",
        "colab": {
          "base_uri": "https://localhost:8080/",
          "height": 246
        },
        "outputId": "082b71ad-9160-4252-ebcf-14404b9b3860"
      },
      "source": [
        "dataframe.head()"
      ],
      "execution_count": null,
      "outputs": [
        {
          "output_type": "execute_result",
          "data": {
            "text/html": [
              "<div>\n",
              "<style scoped>\n",
              "    .dataframe tbody tr th:only-of-type {\n",
              "        vertical-align: middle;\n",
              "    }\n",
              "\n",
              "    .dataframe tbody tr th {\n",
              "        vertical-align: top;\n",
              "    }\n",
              "\n",
              "    .dataframe thead th {\n",
              "        text-align: right;\n",
              "    }\n",
              "</style>\n",
              "<table border=\"1\" class=\"dataframe\">\n",
              "  <thead>\n",
              "    <tr style=\"text-align: right;\">\n",
              "      <th></th>\n",
              "      <th>Type</th>\n",
              "      <th>Age</th>\n",
              "      <th>Breed1</th>\n",
              "      <th>Gender</th>\n",
              "      <th>Color1</th>\n",
              "      <th>Color2</th>\n",
              "      <th>MaturitySize</th>\n",
              "      <th>FurLength</th>\n",
              "      <th>Vaccinated</th>\n",
              "      <th>Sterilized</th>\n",
              "      <th>Health</th>\n",
              "      <th>Fee</th>\n",
              "      <th>Description</th>\n",
              "      <th>PhotoAmt</th>\n",
              "      <th>AdoptionSpeed</th>\n",
              "    </tr>\n",
              "  </thead>\n",
              "  <tbody>\n",
              "    <tr>\n",
              "      <th>0</th>\n",
              "      <td>Cat</td>\n",
              "      <td>3</td>\n",
              "      <td>Tabby</td>\n",
              "      <td>Male</td>\n",
              "      <td>Black</td>\n",
              "      <td>White</td>\n",
              "      <td>Small</td>\n",
              "      <td>Short</td>\n",
              "      <td>No</td>\n",
              "      <td>No</td>\n",
              "      <td>Healthy</td>\n",
              "      <td>100</td>\n",
              "      <td>Nibble is a 3+ month old ball of cuteness. He ...</td>\n",
              "      <td>1</td>\n",
              "      <td>2</td>\n",
              "    </tr>\n",
              "    <tr>\n",
              "      <th>1</th>\n",
              "      <td>Cat</td>\n",
              "      <td>1</td>\n",
              "      <td>Domestic Medium Hair</td>\n",
              "      <td>Male</td>\n",
              "      <td>Black</td>\n",
              "      <td>Brown</td>\n",
              "      <td>Medium</td>\n",
              "      <td>Medium</td>\n",
              "      <td>Not Sure</td>\n",
              "      <td>Not Sure</td>\n",
              "      <td>Healthy</td>\n",
              "      <td>0</td>\n",
              "      <td>I just found it alone yesterday near my apartm...</td>\n",
              "      <td>2</td>\n",
              "      <td>0</td>\n",
              "    </tr>\n",
              "    <tr>\n",
              "      <th>2</th>\n",
              "      <td>Dog</td>\n",
              "      <td>1</td>\n",
              "      <td>Mixed Breed</td>\n",
              "      <td>Male</td>\n",
              "      <td>Brown</td>\n",
              "      <td>White</td>\n",
              "      <td>Medium</td>\n",
              "      <td>Medium</td>\n",
              "      <td>Yes</td>\n",
              "      <td>No</td>\n",
              "      <td>Healthy</td>\n",
              "      <td>0</td>\n",
              "      <td>Their pregnant mother was dumped by her irresp...</td>\n",
              "      <td>7</td>\n",
              "      <td>3</td>\n",
              "    </tr>\n",
              "    <tr>\n",
              "      <th>3</th>\n",
              "      <td>Dog</td>\n",
              "      <td>4</td>\n",
              "      <td>Mixed Breed</td>\n",
              "      <td>Female</td>\n",
              "      <td>Black</td>\n",
              "      <td>Brown</td>\n",
              "      <td>Medium</td>\n",
              "      <td>Short</td>\n",
              "      <td>Yes</td>\n",
              "      <td>No</td>\n",
              "      <td>Healthy</td>\n",
              "      <td>150</td>\n",
              "      <td>Good guard dog, very alert, active, obedience ...</td>\n",
              "      <td>8</td>\n",
              "      <td>2</td>\n",
              "    </tr>\n",
              "    <tr>\n",
              "      <th>4</th>\n",
              "      <td>Dog</td>\n",
              "      <td>1</td>\n",
              "      <td>Mixed Breed</td>\n",
              "      <td>Male</td>\n",
              "      <td>Black</td>\n",
              "      <td>No Color</td>\n",
              "      <td>Medium</td>\n",
              "      <td>Short</td>\n",
              "      <td>No</td>\n",
              "      <td>No</td>\n",
              "      <td>Healthy</td>\n",
              "      <td>0</td>\n",
              "      <td>This handsome yet cute boy is up for adoption....</td>\n",
              "      <td>3</td>\n",
              "      <td>2</td>\n",
              "    </tr>\n",
              "  </tbody>\n",
              "</table>\n",
              "</div>"
            ],
            "text/plain": [
              "  Type  Age  ... PhotoAmt AdoptionSpeed\n",
              "0  Cat    3  ...        1             2\n",
              "1  Cat    1  ...        2             0\n",
              "2  Dog    1  ...        7             3\n",
              "3  Dog    4  ...        8             2\n",
              "4  Dog    1  ...        3             2\n",
              "\n",
              "[5 rows x 15 columns]"
            ]
          },
          "metadata": {
            "tags": []
          },
          "execution_count": 61
        }
      ]
    },
    {
      "cell_type": "markdown",
      "metadata": {
        "id": "o5rRVxh3Tq7M",
        "colab_type": "text"
      },
      "source": [
        "target variable"
      ]
    },
    {
      "cell_type": "markdown",
      "metadata": {
        "id": "mHrYYsr9T11_",
        "colab_type": "text"
      },
      "source": [
        "The task in the original dataset is to predict the speed at which a pet will be adopted (e.g., in the first week, the first month, the first three months, and so on)."
      ]
    },
    {
      "cell_type": "code",
      "metadata": {
        "id": "NGDTcrWsT-pl",
        "colab_type": "code",
        "colab": {
          "base_uri": "https://localhost:8080/",
          "height": 34
        },
        "outputId": "181daeaf-9624-492f-d022-336bab6b6a3f"
      },
      "source": [
        "dataframe['AdoptionSpeed'].unique()"
      ],
      "execution_count": null,
      "outputs": [
        {
          "output_type": "execute_result",
          "data": {
            "text/plain": [
              "array([2, 0, 3, 1, 4])"
            ]
          },
          "metadata": {
            "tags": []
          },
          "execution_count": 62
        }
      ]
    },
    {
      "cell_type": "code",
      "metadata": {
        "id": "koGDFE3cTsUS",
        "colab_type": "code",
        "colab": {}
      },
      "source": [
        "dataframe['target']=np.where(dataframe['AdoptionSpeed']==4, 0, 1)"
      ],
      "execution_count": null,
      "outputs": []
    },
    {
      "cell_type": "code",
      "metadata": {
        "id": "IAq4v0gYWiYT",
        "colab_type": "code",
        "colab": {}
      },
      "source": [
        "#drop unused columns from dataframe\n",
        "dataframe=dataframe.drop(columns=['AdoptionSpeed', 'Description'])"
      ],
      "execution_count": null,
      "outputs": []
    },
    {
      "cell_type": "markdown",
      "metadata": {
        "id": "1ylDKiq7Wsns",
        "colab_type": "text"
      },
      "source": [
        "Split the data"
      ]
    },
    {
      "cell_type": "code",
      "metadata": {
        "id": "kX167jaEWt1o",
        "colab_type": "code",
        "colab": {
          "base_uri": "https://localhost:8080/",
          "height": 67
        },
        "outputId": "02bfec7d-0313-4902-fcce-baafb05d6809"
      },
      "source": [
        "train, test= train_test_split(dataframe, test_size=0.2)\n",
        "train, val= train_test_split(train, test_size=0.2)\n",
        "print(len(train), ' train examples')\n",
        "print(len(val), 'val examples')\n",
        "print(len(test), ' testexamples')"
      ],
      "execution_count": null,
      "outputs": [
        {
          "output_type": "stream",
          "text": [
            "7383  train examples\n",
            "1846 val examples\n",
            "2308  testexamples\n"
          ],
          "name": "stdout"
        }
      ]
    },
    {
      "cell_type": "markdown",
      "metadata": {
        "id": "_xHrdUNQXM_i",
        "colab_type": "text"
      },
      "source": [
        "Create an input pipeline using tf.data"
      ]
    },
    {
      "cell_type": "markdown",
      "metadata": {
        "id": "NmzTaLJFX4Ak",
        "colab_type": "text"
      },
      "source": [
        "This will enable us to use feature columns as a bridge to map from the columns in the Pandas dataframe to features used to train the model."
      ]
    },
    {
      "cell_type": "markdown",
      "metadata": {
        "id": "DS4GVJDlX4ma",
        "colab_type": "text"
      },
      "source": [
        "1. copy the input dataframe\n",
        "2. pop the label column from datframe\n",
        "3. create datset from tensor slices, coz tensor slices are created by obtaining dictionary representations of the dataframe and label column\n",
        "4. shuffle dataset if needed\n",
        "5. get a batch of tensors of specified size"
      ]
    },
    {
      "cell_type": "code",
      "metadata": {
        "id": "vVTpyBwgXL_s",
        "colab_type": "code",
        "colab": {}
      },
      "source": [
        "def df_to_dataset(dataframe, shuffle=True, batch_size=32):\n",
        "  dataframe = dataframe.copy()\n",
        "  labels = dataframe.pop('target')\n",
        "  ds = tf.data.Dataset.from_tensor_slices((dict(dataframe), labels))\n",
        "  if shuffle:\n",
        "    ds = ds.shuffle(buffer_size=len(dataframe))\n",
        "  ds = ds.batch(batch_size)\n",
        "  return ds"
      ],
      "execution_count": null,
      "outputs": []
    },
    {
      "cell_type": "code",
      "metadata": {
        "id": "zD4sopabYuXv",
        "colab_type": "code",
        "colab": {}
      },
      "source": [
        "batch_size = 5 # A small batch sized is used for demonstration purposes\n",
        "train_ds = df_to_dataset(train, batch_size=batch_size)\n",
        "val_ds = df_to_dataset(val, shuffle=False, batch_size=batch_size)\n",
        "test_ds = df_to_dataset(test, shuffle=False, batch_size=batch_size)"
      ],
      "execution_count": null,
      "outputs": []
    },
    {
      "cell_type": "markdown",
      "metadata": {
        "id": "XGgMeip8ZZqS",
        "colab_type": "text"
      },
      "source": [
        "Now that we have created the input pipeline, let's call it to see the format of the data it returns. We have used a small batch size to keep the output readable."
      ]
    },
    {
      "cell_type": "code",
      "metadata": {
        "id": "uygib42EZV92",
        "colab_type": "code",
        "colab": {
          "base_uri": "https://localhost:8080/",
          "height": 87
        },
        "outputId": "3c8f06b3-23f8-4dd3-fc72-50b461bd973b"
      },
      "source": [
        "for feature_batch, label_batch in train_ds.take(1):\n",
        "  print('Every feature:', list(feature_batch.keys()))\n",
        "  print('A batch of ages:', feature_batch['Age'])\n",
        "  print('A batch of targets:', label_batch )"
      ],
      "execution_count": null,
      "outputs": [
        {
          "output_type": "stream",
          "text": [
            "Every feature: ['Type', 'Age', 'Breed1', 'Gender', 'Color1', 'Color2', 'MaturitySize', 'FurLength', 'Vaccinated', 'Sterilized', 'Health', 'Fee', 'PhotoAmt']\n",
            "A batch of ages: tf.Tensor([ 3 26  8  3  2], shape=(5,), dtype=int64)\n",
            "A batch of targets: tf.Tensor([1 0 0 1 1], shape=(5,), dtype=int64)\n"
          ],
          "name": "stdout"
        }
      ]
    },
    {
      "cell_type": "code",
      "metadata": {
        "id": "2dgUW0kAjPnZ",
        "colab_type": "code",
        "colab": {}
      },
      "source": [
        "# We will use this batch to demonstrate several types of feature columns\n",
        "example_batch = next(iter(train_ds))[0]"
      ],
      "execution_count": null,
      "outputs": []
    },
    {
      "cell_type": "code",
      "metadata": {
        "id": "-UihnQIGjWgL",
        "colab_type": "code",
        "colab": {}
      },
      "source": [
        "# A utility method to create a feature column\n",
        "# and to transform a batch of data\n",
        "def demo(feature_column):\n",
        "  feature_layer = layers.DenseFeatures(feature_column)\n",
        "  print(feature_layer(example_batch).numpy())"
      ],
      "execution_count": null,
      "outputs": []
    },
    {
      "cell_type": "markdown",
      "metadata": {
        "id": "YZoiOSIijaHr",
        "colab_type": "text"
      },
      "source": [
        "numeric column"
      ]
    },
    {
      "cell_type": "code",
      "metadata": {
        "id": "sLWCwg-MjaTz",
        "colab_type": "code",
        "colab": {
          "base_uri": "https://localhost:8080/",
          "height": 101
        },
        "outputId": "ec75203b-0cf7-4e43-983e-745cc63e4f13"
      },
      "source": [
        "photo_count = feature_column.numeric_column('PhotoAmt')\n",
        "demo(photo_count)"
      ],
      "execution_count": null,
      "outputs": [
        {
          "output_type": "stream",
          "text": [
            "[[3.]\n",
            " [2.]\n",
            " [1.]\n",
            " [2.]\n",
            " [3.]]\n"
          ],
          "name": "stdout"
        }
      ]
    },
    {
      "cell_type": "markdown",
      "metadata": {
        "id": "XN9WlTT6jgkC",
        "colab_type": "text"
      },
      "source": [
        "Bucketized columns"
      ]
    },
    {
      "cell_type": "markdown",
      "metadata": {
        "id": "eYV9O9oGjngJ",
        "colab_type": "text"
      },
      "source": [
        "Often, you don't want to feed a number directly into the model, but instead split its value into different categories based on numerical ranges. Consider raw data that represents a person's age. Instead of representing age as a numeric column, we could split the age into several buckets using a bucketized column. "
      ]
    },
    {
      "cell_type": "code",
      "metadata": {
        "id": "92-lLb9MjfXR",
        "colab_type": "code",
        "colab": {
          "base_uri": "https://localhost:8080/",
          "height": 101
        },
        "outputId": "aa3be5c2-ba7c-4935-e2bf-6ff7d0e55049"
      },
      "source": [
        "age = feature_column.numeric_column('Age')\n",
        "age_buckets = feature_column.bucketized_column(age, boundaries=[1, 3, 5])\n",
        "demo(age_buckets)"
      ],
      "execution_count": null,
      "outputs": [
        {
          "output_type": "stream",
          "text": [
            "[[0. 0. 1. 0.]\n",
            " [0. 0. 1. 0.]\n",
            " [0. 0. 1. 0.]\n",
            " [0. 0. 1. 0.]\n",
            " [0. 0. 0. 1.]]\n"
          ],
          "name": "stdout"
        }
      ]
    },
    {
      "cell_type": "markdown",
      "metadata": {
        "id": "RwAt8pDwjp_t",
        "colab_type": "text"
      },
      "source": [
        "Categorical columns"
      ]
    },
    {
      "cell_type": "code",
      "metadata": {
        "id": "uPq5Nzatjrzr",
        "colab_type": "code",
        "colab": {
          "base_uri": "https://localhost:8080/",
          "height": 101
        },
        "outputId": "32a6755c-8d58-4d2a-eb3e-b42d10ef70f6"
      },
      "source": [
        "animal_type = feature_column.categorical_column_with_vocabulary_list(\n",
        "      'Type', ['Cat', 'Dog'])\n",
        "\n",
        "animal_type_one_hot = feature_column.indicator_column(animal_type)\n",
        "demo(animal_type_one_hot)"
      ],
      "execution_count": null,
      "outputs": [
        {
          "output_type": "stream",
          "text": [
            "[[0. 1.]\n",
            " [0. 1.]\n",
            " [0. 1.]\n",
            " [1. 0.]\n",
            " [0. 1.]]\n"
          ],
          "name": "stdout"
        }
      ]
    },
    {
      "cell_type": "markdown",
      "metadata": {
        "id": "tkIDiYPtkKFs",
        "colab_type": "text"
      },
      "source": [
        "Embedding columns"
      ]
    },
    {
      "cell_type": "markdown",
      "metadata": {
        "id": "8tS9rLrgkKYX",
        "colab_type": "text"
      },
      "source": [
        "Suppose instead of having just a few possible strings, we have thousands (or more) values per category. For a number of reasons, as the number of categories grow large, it becomes infeasible to train a neural network using one-hot encodings. We can use an embedding column to overcome this limitation. "
      ]
    },
    {
      "cell_type": "code",
      "metadata": {
        "id": "Q-L8jmAHkVoN",
        "colab_type": "code",
        "colab": {
          "base_uri": "https://localhost:8080/",
          "height": 185
        },
        "outputId": "414152a9-daa4-44e9-9032-e047f54ef18a"
      },
      "source": [
        "breed1 = feature_column.categorical_column_with_vocabulary_list(\n",
        "      'Breed1', dataframe.Breed1.unique())\n",
        "breed1_embedding = feature_column.embedding_column(breed1, dimension=8)\n",
        "demo(breed1_embedding)"
      ],
      "execution_count": null,
      "outputs": [
        {
          "output_type": "stream",
          "text": [
            "[[ 0.5283377   0.28634608  0.64237344 -0.03743796 -0.41976145 -0.32661238\n",
            "  -0.33388907 -0.48248443]\n",
            " [ 0.5283377   0.28634608  0.64237344 -0.03743796 -0.41976145 -0.32661238\n",
            "  -0.33388907 -0.48248443]\n",
            " [ 0.5283377   0.28634608  0.64237344 -0.03743796 -0.41976145 -0.32661238\n",
            "  -0.33388907 -0.48248443]\n",
            " [ 0.48260015 -0.08149811  0.12157942  0.25014433  0.09213525 -0.05693761\n",
            "   0.24609175  0.04758761]\n",
            " [ 0.5283377   0.28634608  0.64237344 -0.03743796 -0.41976145 -0.32661238\n",
            "  -0.33388907 -0.48248443]]\n"
          ],
          "name": "stdout"
        }
      ]
    },
    {
      "cell_type": "markdown",
      "metadata": {
        "id": "Yrx9z-WykvbR",
        "colab_type": "text"
      },
      "source": [
        "Crossed feature columns\n",
        "\n",
        "\n",
        "Combining features into a single feature, better known as feature crosses, enables a model to learn separate weights for each combination of features. "
      ]
    },
    {
      "cell_type": "code",
      "metadata": {
        "id": "TuRTr7v5kwld",
        "colab_type": "code",
        "colab": {
          "base_uri": "https://localhost:8080/",
          "height": 101
        },
        "outputId": "c12aabce-5c4f-43d2-f715-adc1d2c9b475"
      },
      "source": [
        "crossed_feature = feature_column.crossed_column([age_buckets, animal_type], hash_bucket_size=10)\n",
        "demo(feature_column.indicator_column(crossed_feature))"
      ],
      "execution_count": null,
      "outputs": [
        {
          "output_type": "stream",
          "text": [
            "[[0. 0. 0. 0. 0. 0. 1. 0. 0. 0.]\n",
            " [0. 0. 0. 0. 0. 0. 1. 0. 0. 0.]\n",
            " [0. 0. 0. 0. 0. 0. 1. 0. 0. 0.]\n",
            " [0. 1. 0. 0. 0. 0. 0. 0. 0. 0.]\n",
            " [0. 0. 0. 0. 0. 0. 0. 0. 1. 0.]]\n"
          ],
          "name": "stdout"
        }
      ]
    },
    {
      "cell_type": "markdown",
      "metadata": {
        "id": "QKCSP_U5lIMU",
        "colab_type": "text"
      },
      "source": [
        "Lets work on columns"
      ]
    },
    {
      "cell_type": "code",
      "metadata": {
        "id": "BVSTGDXAlOwF",
        "colab_type": "code",
        "colab": {}
      },
      "source": [
        "feature_columns = []"
      ],
      "execution_count": null,
      "outputs": []
    },
    {
      "cell_type": "markdown",
      "metadata": {
        "id": "gMT9jDiUlLLm",
        "colab_type": "text"
      },
      "source": [
        "1. numeric columns"
      ]
    },
    {
      "cell_type": "code",
      "metadata": {
        "id": "8amvfiENk6gL",
        "colab_type": "code",
        "colab": {}
      },
      "source": [
        "\n",
        "# numeric cols\n",
        "for header in ['PhotoAmt', 'Fee', 'Age']:\n",
        "  feature_columns.append(feature_column.numeric_column(header))"
      ],
      "execution_count": null,
      "outputs": []
    },
    {
      "cell_type": "markdown",
      "metadata": {
        "id": "K8BpIgexlTT4",
        "colab_type": "text"
      },
      "source": [
        "2. buketized columns"
      ]
    },
    {
      "cell_type": "code",
      "metadata": {
        "id": "FmwQQIfJlVur",
        "colab_type": "code",
        "colab": {}
      },
      "source": [
        "age=feature_column.numeric_column('Age')\n",
        "age_buckets = feature_column.bucketized_column(age, boundaries=[1, 2, 3, 4, 5])\n",
        "feature_columns.append(age_buckets)"
      ],
      "execution_count": null,
      "outputs": []
    },
    {
      "cell_type": "markdown",
      "metadata": {
        "id": "nPZpUTNCldG-",
        "colab_type": "text"
      },
      "source": [
        "3. categorical"
      ]
    },
    {
      "cell_type": "code",
      "metadata": {
        "id": "qqHUd4pilknS",
        "colab_type": "code",
        "colab": {}
      },
      "source": [
        "indicator_column_names = ['Type', 'Color1', 'Color2', 'Gender', 'MaturitySize',\n",
        "                          'FurLength', 'Vaccinated', 'Sterilized', 'Health']\n",
        "for col_name in indicator_column_names:\n",
        "  categorical_column = feature_column.categorical_column_with_vocabulary_list(\n",
        "      col_name, dataframe[col_name].unique())\n",
        "  indicator_column = feature_column.indicator_column(categorical_column)\n",
        "  feature_columns.append(indicator_column)"
      ],
      "execution_count": null,
      "outputs": []
    },
    {
      "cell_type": "markdown",
      "metadata": {
        "id": "YWZXfd6rlnki",
        "colab_type": "text"
      },
      "source": [
        "4. embedding columns"
      ]
    },
    {
      "cell_type": "code",
      "metadata": {
        "id": "beV1ekHqlpm9",
        "colab_type": "code",
        "colab": {}
      },
      "source": [
        "breed1 = feature_column.categorical_column_with_vocabulary_list(\n",
        "      'Breed1', dataframe.Breed1.unique())\n",
        "breed1_embedding = feature_column.embedding_column(breed1, dimension=8)\n",
        "feature_columns.append(breed1_embedding)"
      ],
      "execution_count": null,
      "outputs": []
    },
    {
      "cell_type": "markdown",
      "metadata": {
        "id": "Cz8oOt5zltcd",
        "colab_type": "text"
      },
      "source": [
        "5. crossed columns"
      ]
    },
    {
      "cell_type": "code",
      "metadata": {
        "id": "xOA32FWMlvCi",
        "colab_type": "code",
        "colab": {}
      },
      "source": [
        "age_type_feature = feature_column.crossed_column([age_buckets, animal_type], hash_bucket_size=100)\n",
        "feature_columns.append(feature_column.indicator_column(age_type_feature))"
      ],
      "execution_count": null,
      "outputs": []
    },
    {
      "cell_type": "markdown",
      "metadata": {
        "id": "UjUCOBpxlwU9",
        "colab_type": "text"
      },
      "source": [
        "feature layer"
      ]
    },
    {
      "cell_type": "markdown",
      "metadata": {
        "id": "tiMykDJxmHu-",
        "colab_type": "text"
      },
      "source": [
        "use a DenseFeatures layer to input them to our Keras model.\n"
      ]
    },
    {
      "cell_type": "code",
      "metadata": {
        "id": "n8YlHDXklyY6",
        "colab_type": "code",
        "colab": {}
      },
      "source": [
        "feature_layer = tf.keras.layers.DenseFeatures(feature_columns)"
      ],
      "execution_count": null,
      "outputs": []
    },
    {
      "cell_type": "markdown",
      "metadata": {
        "id": "FaKTntMsmShS",
        "colab_type": "text"
      },
      "source": [
        "used a small batch size to demonstrate how feature columns worked. We create a new input pipeline with a larger batch size."
      ]
    },
    {
      "cell_type": "code",
      "metadata": {
        "id": "kT2x58Pvl9PS",
        "colab_type": "code",
        "colab": {}
      },
      "source": [
        "batch_size=32\n",
        "train_ds=df_to_dataset(train, batch_size=batch_size)\n",
        "val_ds= df_to_dataset(val, shuffle=False, batch_size=batch_size)\n",
        "test_ds=df_to_dataset(test, shuffle=False, batch_size=batch_size)"
      ],
      "execution_count": null,
      "outputs": []
    },
    {
      "cell_type": "markdown",
      "metadata": {
        "id": "wP04S0Uym75A",
        "colab_type": "text"
      },
      "source": [
        "model create and train"
      ]
    },
    {
      "cell_type": "code",
      "metadata": {
        "id": "l2vLrv8FnB3p",
        "colab_type": "code",
        "colab": {
          "base_uri": "https://localhost:8080/",
          "height": 490
        },
        "outputId": "99231589-aee5-4f23-b4ab-378b77225704"
      },
      "source": [
        "model = tf.keras.Sequential([\n",
        "  feature_layer,\n",
        "  layers.Dense(128, activation='relu'),\n",
        "  layers.Dense(128, activation='relu'),\n",
        "  layers.Dropout(.1),\n",
        "  layers.Dense(1)\n",
        "])\n",
        "\n",
        "model.compile(optimizer='adam',\n",
        "              loss=tf.keras.losses.BinaryCrossentropy(from_logits=True),\n",
        "              metrics=['accuracy'])\n",
        "\n",
        "model.fit(train_ds,\n",
        "          validation_data=val_ds,\n",
        "          epochs=10)"
      ],
      "execution_count": null,
      "outputs": [
        {
          "output_type": "stream",
          "text": [
            "Epoch 1/10\n",
            "WARNING:tensorflow:Layers in a Sequential model should only have a single input tensor, but we receive a <class 'dict'> input: {'Type': <tf.Tensor 'ExpandDims_11:0' shape=(None, 1) dtype=string>, 'Age': <tf.Tensor 'ExpandDims:0' shape=(None, 1) dtype=int64>, 'Breed1': <tf.Tensor 'ExpandDims_1:0' shape=(None, 1) dtype=string>, 'Gender': <tf.Tensor 'ExpandDims_6:0' shape=(None, 1) dtype=string>, 'Color1': <tf.Tensor 'ExpandDims_2:0' shape=(None, 1) dtype=string>, 'Color2': <tf.Tensor 'ExpandDims_3:0' shape=(None, 1) dtype=string>, 'MaturitySize': <tf.Tensor 'ExpandDims_8:0' shape=(None, 1) dtype=string>, 'FurLength': <tf.Tensor 'ExpandDims_5:0' shape=(None, 1) dtype=string>, 'Vaccinated': <tf.Tensor 'ExpandDims_12:0' shape=(None, 1) dtype=string>, 'Sterilized': <tf.Tensor 'ExpandDims_10:0' shape=(None, 1) dtype=string>, 'Health': <tf.Tensor 'ExpandDims_7:0' shape=(None, 1) dtype=string>, 'Fee': <tf.Tensor 'ExpandDims_4:0' shape=(None, 1) dtype=int64>, 'PhotoAmt': <tf.Tensor 'ExpandDims_9:0' shape=(None, 1) dtype=int64>}\n",
            "Consider rewriting this model with the Functional API.\n",
            "WARNING:tensorflow:Layers in a Sequential model should only have a single input tensor, but we receive a <class 'dict'> input: {'Type': <tf.Tensor 'ExpandDims_11:0' shape=(None, 1) dtype=string>, 'Age': <tf.Tensor 'ExpandDims:0' shape=(None, 1) dtype=int64>, 'Breed1': <tf.Tensor 'ExpandDims_1:0' shape=(None, 1) dtype=string>, 'Gender': <tf.Tensor 'ExpandDims_6:0' shape=(None, 1) dtype=string>, 'Color1': <tf.Tensor 'ExpandDims_2:0' shape=(None, 1) dtype=string>, 'Color2': <tf.Tensor 'ExpandDims_3:0' shape=(None, 1) dtype=string>, 'MaturitySize': <tf.Tensor 'ExpandDims_8:0' shape=(None, 1) dtype=string>, 'FurLength': <tf.Tensor 'ExpandDims_5:0' shape=(None, 1) dtype=string>, 'Vaccinated': <tf.Tensor 'ExpandDims_12:0' shape=(None, 1) dtype=string>, 'Sterilized': <tf.Tensor 'ExpandDims_10:0' shape=(None, 1) dtype=string>, 'Health': <tf.Tensor 'ExpandDims_7:0' shape=(None, 1) dtype=string>, 'Fee': <tf.Tensor 'ExpandDims_4:0' shape=(None, 1) dtype=int64>, 'PhotoAmt': <tf.Tensor 'ExpandDims_9:0' shape=(None, 1) dtype=int64>}\n",
            "Consider rewriting this model with the Functional API.\n",
            "225/231 [============================>.] - ETA: 0s - loss: 0.6537 - accuracy: 0.6982WARNING:tensorflow:Layers in a Sequential model should only have a single input tensor, but we receive a <class 'dict'> input: {'Type': <tf.Tensor 'ExpandDims_11:0' shape=(None, 1) dtype=string>, 'Age': <tf.Tensor 'ExpandDims:0' shape=(None, 1) dtype=int64>, 'Breed1': <tf.Tensor 'ExpandDims_1:0' shape=(None, 1) dtype=string>, 'Gender': <tf.Tensor 'ExpandDims_6:0' shape=(None, 1) dtype=string>, 'Color1': <tf.Tensor 'ExpandDims_2:0' shape=(None, 1) dtype=string>, 'Color2': <tf.Tensor 'ExpandDims_3:0' shape=(None, 1) dtype=string>, 'MaturitySize': <tf.Tensor 'ExpandDims_8:0' shape=(None, 1) dtype=string>, 'FurLength': <tf.Tensor 'ExpandDims_5:0' shape=(None, 1) dtype=string>, 'Vaccinated': <tf.Tensor 'ExpandDims_12:0' shape=(None, 1) dtype=string>, 'Sterilized': <tf.Tensor 'ExpandDims_10:0' shape=(None, 1) dtype=string>, 'Health': <tf.Tensor 'ExpandDims_7:0' shape=(None, 1) dtype=string>, 'Fee': <tf.Tensor 'ExpandDims_4:0' shape=(None, 1) dtype=int64>, 'PhotoAmt': <tf.Tensor 'ExpandDims_9:0' shape=(None, 1) dtype=int64>}\n",
            "Consider rewriting this model with the Functional API.\n",
            "231/231 [==============================] - 2s 7ms/step - loss: 0.6523 - accuracy: 0.6974 - val_loss: 0.6197 - val_accuracy: 0.6441\n",
            "Epoch 2/10\n",
            "231/231 [==============================] - 1s 4ms/step - loss: 0.5551 - accuracy: 0.7165 - val_loss: 0.5313 - val_accuracy: 0.7421\n",
            "Epoch 3/10\n",
            "231/231 [==============================] - 1s 4ms/step - loss: 0.5141 - accuracy: 0.7341 - val_loss: 0.6173 - val_accuracy: 0.6696\n",
            "Epoch 4/10\n",
            "231/231 [==============================] - 1s 4ms/step - loss: 0.5122 - accuracy: 0.7349 - val_loss: 0.5290 - val_accuracy: 0.7524\n",
            "Epoch 5/10\n",
            "231/231 [==============================] - 1s 4ms/step - loss: 0.4969 - accuracy: 0.7410 - val_loss: 0.5108 - val_accuracy: 0.7340\n",
            "Epoch 6/10\n",
            "231/231 [==============================] - 1s 3ms/step - loss: 0.4904 - accuracy: 0.7412 - val_loss: 0.5298 - val_accuracy: 0.6988\n",
            "Epoch 7/10\n",
            "231/231 [==============================] - 1s 3ms/step - loss: 0.4865 - accuracy: 0.7447 - val_loss: 0.5147 - val_accuracy: 0.7432\n",
            "Epoch 8/10\n",
            "231/231 [==============================] - 1s 4ms/step - loss: 0.4791 - accuracy: 0.7471 - val_loss: 0.5112 - val_accuracy: 0.7443\n",
            "Epoch 9/10\n",
            "231/231 [==============================] - 1s 3ms/step - loss: 0.4765 - accuracy: 0.7529 - val_loss: 0.5344 - val_accuracy: 0.7091\n",
            "Epoch 10/10\n",
            "231/231 [==============================] - 1s 3ms/step - loss: 0.4710 - accuracy: 0.7513 - val_loss: 0.5103 - val_accuracy: 0.7351\n"
          ],
          "name": "stdout"
        },
        {
          "output_type": "execute_result",
          "data": {
            "text/plain": [
              "<tensorflow.python.keras.callbacks.History at 0x7f02a8abceb8>"
            ]
          },
          "metadata": {
            "tags": []
          },
          "execution_count": 87
        }
      ]
    },
    {
      "cell_type": "code",
      "metadata": {
        "id": "XWHk-yJunakM",
        "colab_type": "code",
        "colab": {
          "base_uri": "https://localhost:8080/",
          "height": 50
        },
        "outputId": "b3b90d75-7ae7-4dfe-cd54-1b3dffda7073"
      },
      "source": [
        "loss, accuracy = model.evaluate(test_ds)\n",
        "print(\"Accuracy\", accuracy)"
      ],
      "execution_count": null,
      "outputs": [
        {
          "output_type": "stream",
          "text": [
            "73/73 [==============================] - 0s 2ms/step - loss: 0.4872 - accuracy: 0.7396\n",
            "Accuracy 0.7396013736724854\n"
          ],
          "name": "stdout"
        }
      ]
    },
    {
      "cell_type": "code",
      "metadata": {
        "id": "n7sfgJsD1W1X",
        "colab_type": "code",
        "colab": {}
      },
      "source": [
        "import numpy as np\n",
        "\n",
        "import tensorflow as tf"
      ],
      "execution_count": 1,
      "outputs": []
    },
    {
      "cell_type": "code",
      "metadata": {
        "id": "cCGD47LgzxMx",
        "colab_type": "code",
        "colab": {
          "base_uri": "https://localhost:8080/",
          "height": 524
        },
        "outputId": "801c170f-7ab7-487e-9f92-ee428c898f3a"
      },
      "source": [
        "!pip install tensorflow-hub\n",
        "!pip install tensorflow-datasets\n",
        "import tensorflow_hub as hub\n",
        "import tensorflow_datasets as tfds\n",
        "\n",
        "print(\"Version: \", tf.__version__)\n",
        "print(\"Eager mode: \", tf.executing_eagerly())\n",
        "print(\"Hub version: \", hub.__version__)\n",
        "print(\"GPU is\", \"available\" if tf.config.experimental.list_physical_devices(\"GPU\") else \"NOT AVAILABLE\")"
      ],
      "execution_count": 2,
      "outputs": [
        {
          "output_type": "stream",
          "text": [
            "Requirement already satisfied: tensorflow-hub in /usr/local/lib/python3.6/dist-packages (0.9.0)\n",
            "Requirement already satisfied: numpy>=1.12.0 in /usr/local/lib/python3.6/dist-packages (from tensorflow-hub) (1.18.5)\n",
            "Requirement already satisfied: protobuf>=3.8.0 in /usr/local/lib/python3.6/dist-packages (from tensorflow-hub) (3.12.4)\n",
            "Requirement already satisfied: six>=1.12.0 in /usr/local/lib/python3.6/dist-packages (from tensorflow-hub) (1.15.0)\n",
            "Requirement already satisfied: setuptools in /usr/local/lib/python3.6/dist-packages (from protobuf>=3.8.0->tensorflow-hub) (49.6.0)\n",
            "Requirement already satisfied: tensorflow-datasets in /usr/local/lib/python3.6/dist-packages (2.1.0)\n",
            "Requirement already satisfied: termcolor in /usr/local/lib/python3.6/dist-packages (from tensorflow-datasets) (1.1.0)\n",
            "Requirement already satisfied: attrs>=18.1.0 in /usr/local/lib/python3.6/dist-packages (from tensorflow-datasets) (20.1.0)\n",
            "Requirement already satisfied: six in /usr/local/lib/python3.6/dist-packages (from tensorflow-datasets) (1.15.0)\n",
            "Requirement already satisfied: protobuf>=3.6.1 in /usr/local/lib/python3.6/dist-packages (from tensorflow-datasets) (3.12.4)\n",
            "Requirement already satisfied: requests>=2.19.0 in /usr/local/lib/python3.6/dist-packages (from tensorflow-datasets) (2.23.0)\n",
            "Requirement already satisfied: wrapt in /usr/local/lib/python3.6/dist-packages (from tensorflow-datasets) (1.12.1)\n",
            "Requirement already satisfied: future in /usr/local/lib/python3.6/dist-packages (from tensorflow-datasets) (0.16.0)\n",
            "Requirement already satisfied: tensorflow-metadata in /usr/local/lib/python3.6/dist-packages (from tensorflow-datasets) (0.23.0)\n",
            "Requirement already satisfied: tqdm in /usr/local/lib/python3.6/dist-packages (from tensorflow-datasets) (4.41.1)\n",
            "Requirement already satisfied: numpy in /usr/local/lib/python3.6/dist-packages (from tensorflow-datasets) (1.18.5)\n",
            "Requirement already satisfied: absl-py in /usr/local/lib/python3.6/dist-packages (from tensorflow-datasets) (0.8.1)\n",
            "Requirement already satisfied: promise in /usr/local/lib/python3.6/dist-packages (from tensorflow-datasets) (2.3)\n",
            "Requirement already satisfied: dill in /usr/local/lib/python3.6/dist-packages (from tensorflow-datasets) (0.3.2)\n",
            "Requirement already satisfied: setuptools in /usr/local/lib/python3.6/dist-packages (from protobuf>=3.6.1->tensorflow-datasets) (49.6.0)\n",
            "Requirement already satisfied: chardet<4,>=3.0.2 in /usr/local/lib/python3.6/dist-packages (from requests>=2.19.0->tensorflow-datasets) (3.0.4)\n",
            "Requirement already satisfied: idna<3,>=2.5 in /usr/local/lib/python3.6/dist-packages (from requests>=2.19.0->tensorflow-datasets) (2.10)\n",
            "Requirement already satisfied: certifi>=2017.4.17 in /usr/local/lib/python3.6/dist-packages (from requests>=2.19.0->tensorflow-datasets) (2020.6.20)\n",
            "Requirement already satisfied: urllib3!=1.25.0,!=1.25.1,<1.26,>=1.21.1 in /usr/local/lib/python3.6/dist-packages (from requests>=2.19.0->tensorflow-datasets) (1.24.3)\n",
            "Requirement already satisfied: googleapis-common-protos in /usr/local/lib/python3.6/dist-packages (from tensorflow-metadata->tensorflow-datasets) (1.52.0)\n",
            "Version:  2.3.0\n",
            "Eager mode:  True\n",
            "Hub version:  0.9.0\n",
            "GPU is NOT AVAILABLE\n"
          ],
          "name": "stdout"
        }
      ]
    },
    {
      "cell_type": "code",
      "metadata": {
        "id": "j8Y70flDzz0R",
        "colab_type": "code",
        "colab": {
          "base_uri": "https://localhost:8080/",
          "height": 348,
          "referenced_widgets": [
            "63b2957bfade40e581667270008f7884",
            "1cb4860daae74238ae37f5a04532c1e9",
            "a8231af71a3e4757b37720308686eb2d",
            "633098ab8a0042269d152269fe8ba6b3",
            "8e1b947d3a72497c8046641a5d6e7b7d",
            "db40902256ac4d57b2c9803d92028adb",
            "7ba61030ea0144a19fc2d75b94c787a2",
            "269d6bfa67de4be9ab15a9d222821a9b",
            "e655624e6e144118a5ccd5b9934eae5b",
            "85e34e44532b43669945ee5458b7d5a0",
            "1d5c7b1c247e4e3bb09bfffa04e41548",
            "94fc2b38f6d24121becc3d44fc8f2ea1",
            "34002a8abee147628c580e7eb976df1c",
            "231df40bf16d4811ab81eb5e4b7bd72e",
            "44754eee4af14518951fa536749623aa",
            "9e177f26e21c40d4a1bbab554844df02",
            "5abeea3d76cb4850a4b172cea8c68f0c",
            "ae0f0fa21816434b85b9b5521766e1e2",
            "94cca03d39a7484ea891b2acdcae6991",
            "1f768103c85f4d709fbed840de07c2b7",
            "579a660e508c4ec5907db338bb30bb1c",
            "1e8d9842986f4ac6a2de389f46851c79",
            "dfdbf16271e848999b6d8f2184d98c10",
            "3a902f31a8ff44e3880a00f76c2b85ce",
            "e7718f66fbc04ba48f9a6ddb544168bf",
            "85347940cf4c46929c1644adda92a76f",
            "ff1a7ebc95e6425db71b07a3a790be6a",
            "afe84fd16cb2465cb3fd51c87e43baed",
            "7fe179440ff84404bb5efd74596fe279",
            "d22f4765983f42aa903711f161de2f99",
            "6f401b720e4c4df3a1fd5dc6a50b7fa9",
            "9f12fafce35c467dbc02dcbac7e48602",
            "7384a69f63b14507bc17039723e74a8d",
            "87f8b25d394d4d3784637e2282a145e5",
            "507dc70b75d84c328239b9d479775396",
            "398ecf8b46574387a01edc0daa7c348f",
            "f4abfb2788cb4dffad8726f9cc023edd",
            "7226beead3ff40239cb796daad9a4692",
            "190ae6df05434f749e0bf8e8a2cf7aad",
            "ad9025d51972484fa6209d4968c5c39a",
            "902de1caa71d468e9b8bf15215791813",
            "c0d8569101fc4523bef93db2f77b6a9e",
            "ca59ea01574a4979a36ed187a22eb1b3",
            "57d54b8e6df7416fbc3b21e940188a5e",
            "62d071dca72e42169741b83d91ba071c",
            "c01151a829ea43b18e8d745d777ac6b6",
            "df85075e7ebd4a80b602848a560c2712",
            "cf4aa2a6251d4ff3a1b96fc75049911d",
            "350455ed91bc43dc9b7adffc5e6b3dd2",
            "6856727503b945c5bbc0de71bb6510ed",
            "ed0a120b73254561b9ffc98114213156",
            "e0d4320c773c48759eb7dd5d242f73ab",
            "90b7715485f943949812fecdf8920b1e",
            "923225fd720b4757b8183e2e2f51b36b",
            "1204f9993f68433ba29ab12489001ab7",
            "6ace76cfaf8c4b6eb64975a895ac896f",
            "f99e3e7f17524c2f939365fb9202c73b",
            "b061b05a500d41e1b5b20968a2363b62",
            "2fa09a24d92f4c3e8ff086067577fefb",
            "c823c020e3874bd6a8b571811045eb56",
            "c362e47cb5ce44f1a8de54c6871f13ec",
            "0741abc6a38c4372aa53452c1160f52f",
            "b093f2f87a474e0d8430b1cdbf0ecee5",
            "d46ce079219d434997da485052043053"
          ]
        },
        "outputId": "5224d402-8e6c-48ca-cd0d-65a32b8e81d5"
      },
      "source": [
        "train_data, validation_data, test_data = tfds.load(\n",
        "    name=\"imdb_reviews\", \n",
        "    split=('train[:60%]', 'train[60%:]', 'test'),\n",
        "    as_supervised=True)"
      ],
      "execution_count": 3,
      "outputs": [
        {
          "output_type": "stream",
          "text": [
            "\u001b[1mDownloading and preparing dataset imdb_reviews/plain_text/1.0.0 (download: 80.23 MiB, generated: Unknown size, total: 80.23 MiB) to /root/tensorflow_datasets/imdb_reviews/plain_text/1.0.0...\u001b[0m\n"
          ],
          "name": "stdout"
        },
        {
          "output_type": "display_data",
          "data": {
            "application/vnd.jupyter.widget-view+json": {
              "model_id": "63b2957bfade40e581667270008f7884",
              "version_minor": 0,
              "version_major": 2
            },
            "text/plain": [
              "HBox(children=(FloatProgress(value=1.0, bar_style='info', description='Dl Completed...', max=1.0, style=Progre…"
            ]
          },
          "metadata": {
            "tags": []
          }
        },
        {
          "output_type": "display_data",
          "data": {
            "application/vnd.jupyter.widget-view+json": {
              "model_id": "e655624e6e144118a5ccd5b9934eae5b",
              "version_minor": 0,
              "version_major": 2
            },
            "text/plain": [
              "HBox(children=(FloatProgress(value=1.0, bar_style='info', description='Dl Size...', max=1.0, style=ProgressSty…"
            ]
          },
          "metadata": {
            "tags": []
          }
        },
        {
          "output_type": "stream",
          "text": [
            "\n",
            "\n",
            "\n",
            "\n"
          ],
          "name": "stdout"
        },
        {
          "output_type": "display_data",
          "data": {
            "application/vnd.jupyter.widget-view+json": {
              "model_id": "5abeea3d76cb4850a4b172cea8c68f0c",
              "version_minor": 0,
              "version_major": 2
            },
            "text/plain": [
              "HBox(children=(FloatProgress(value=1.0, bar_style='info', max=1.0), HTML(value='')))"
            ]
          },
          "metadata": {
            "tags": []
          }
        },
        {
          "output_type": "stream",
          "text": [
            "\rShuffling and writing examples to /root/tensorflow_datasets/imdb_reviews/plain_text/1.0.0.incompleteDMSRKJ/imdb_reviews-train.tfrecord\n"
          ],
          "name": "stdout"
        },
        {
          "output_type": "display_data",
          "data": {
            "application/vnd.jupyter.widget-view+json": {
              "model_id": "e7718f66fbc04ba48f9a6ddb544168bf",
              "version_minor": 0,
              "version_major": 2
            },
            "text/plain": [
              "HBox(children=(FloatProgress(value=0.0, max=25000.0), HTML(value='')))"
            ]
          },
          "metadata": {
            "tags": []
          }
        },
        {
          "output_type": "stream",
          "text": [
            "\r"
          ],
          "name": "stdout"
        },
        {
          "output_type": "display_data",
          "data": {
            "application/vnd.jupyter.widget-view+json": {
              "model_id": "7384a69f63b14507bc17039723e74a8d",
              "version_minor": 0,
              "version_major": 2
            },
            "text/plain": [
              "HBox(children=(FloatProgress(value=1.0, bar_style='info', max=1.0), HTML(value='')))"
            ]
          },
          "metadata": {
            "tags": []
          }
        },
        {
          "output_type": "stream",
          "text": [
            "\rShuffling and writing examples to /root/tensorflow_datasets/imdb_reviews/plain_text/1.0.0.incompleteDMSRKJ/imdb_reviews-test.tfrecord\n"
          ],
          "name": "stdout"
        },
        {
          "output_type": "display_data",
          "data": {
            "application/vnd.jupyter.widget-view+json": {
              "model_id": "902de1caa71d468e9b8bf15215791813",
              "version_minor": 0,
              "version_major": 2
            },
            "text/plain": [
              "HBox(children=(FloatProgress(value=0.0, max=25000.0), HTML(value='')))"
            ]
          },
          "metadata": {
            "tags": []
          }
        },
        {
          "output_type": "stream",
          "text": [
            "\r"
          ],
          "name": "stdout"
        },
        {
          "output_type": "display_data",
          "data": {
            "application/vnd.jupyter.widget-view+json": {
              "model_id": "350455ed91bc43dc9b7adffc5e6b3dd2",
              "version_minor": 0,
              "version_major": 2
            },
            "text/plain": [
              "HBox(children=(FloatProgress(value=1.0, bar_style='info', max=1.0), HTML(value='')))"
            ]
          },
          "metadata": {
            "tags": []
          }
        },
        {
          "output_type": "stream",
          "text": [
            "\rShuffling and writing examples to /root/tensorflow_datasets/imdb_reviews/plain_text/1.0.0.incompleteDMSRKJ/imdb_reviews-unsupervised.tfrecord\n"
          ],
          "name": "stdout"
        },
        {
          "output_type": "display_data",
          "data": {
            "application/vnd.jupyter.widget-view+json": {
              "model_id": "f99e3e7f17524c2f939365fb9202c73b",
              "version_minor": 0,
              "version_major": 2
            },
            "text/plain": [
              "HBox(children=(FloatProgress(value=0.0, max=50000.0), HTML(value='')))"
            ]
          },
          "metadata": {
            "tags": []
          }
        },
        {
          "output_type": "stream",
          "text": [
            "\u001b[1mDataset imdb_reviews downloaded and prepared to /root/tensorflow_datasets/imdb_reviews/plain_text/1.0.0. Subsequent calls will reuse this data.\u001b[0m\n",
            "\r"
          ],
          "name": "stdout"
        }
      ]
    },
    {
      "cell_type": "code",
      "metadata": {
        "id": "yj6RV0vGz7DE",
        "colab_type": "code",
        "colab": {
          "base_uri": "https://localhost:8080/",
          "height": 238
        },
        "outputId": "4ee2c707-5fbc-492b-ca68-c6cc70539219"
      },
      "source": [
        "train_examples_batch, train_labels_batch = next(iter(train_data.batch(10)))\n",
        "train_examples_batch"
      ],
      "execution_count": 7,
      "outputs": [
        {
          "output_type": "execute_result",
          "data": {
            "text/plain": [
              "<tf.Tensor: shape=(10,), dtype=string, numpy=\n",
              "array([b\"This was an absolutely terrible movie. Don't be lured in by Christopher Walken or Michael Ironside. Both are great actors, but this must simply be their worst role in history. Even their great acting could not redeem this movie's ridiculous storyline. This movie is an early nineties US propaganda piece. The most pathetic scenes were those when the Columbian rebels were making their cases for revolutions. Maria Conchita Alonso appeared phony, and her pseudo-love affair with Walken was nothing but a pathetic emotional plug in a movie that was devoid of any real meaning. I am disappointed that there are movies like this, ruining actor's like Christopher Walken's good name. I could barely sit through it.\",\n",
              "       b'I have been known to fall asleep during films, but this is usually due to a combination of things including, really tired, being warm and comfortable on the sette and having just eaten a lot. However on this occasion I fell asleep because the film was rubbish. The plot development was constant. Constantly slow and boring. Things seemed to happen, but with no explanation of what was causing them or why. I admit, I may have missed part of the film, but i watched the majority of it and everything just seemed to happen of its own accord without any real concern for anything else. I cant recommend this film at all.',\n",
              "       b'Mann photographs the Alberta Rocky Mountains in a superb fashion, and Jimmy Stewart and Walter Brennan give enjoyable performances as they always seem to do. <br /><br />But come on Hollywood - a Mountie telling the people of Dawson City, Yukon to elect themselves a marshal (yes a marshal!) and to enforce the law themselves, then gunfighters battling it out on the streets for control of the town? <br /><br />Nothing even remotely resembling that happened on the Canadian side of the border during the Klondike gold rush. Mr. Mann and company appear to have mistaken Dawson City for Deadwood, the Canadian North for the American Wild West.<br /><br />Canadian viewers be prepared for a Reefer Madness type of enjoyable howl with this ludicrous plot, or, to shake your head in disgust.',\n",
              "       b'This is the kind of film for a snowy Sunday afternoon when the rest of the world can go ahead with its own business as you descend into a big arm-chair and mellow for a couple of hours. Wonderful performances from Cher and Nicolas Cage (as always) gently row the plot along. There are no rapids to cross, no dangerous waters, just a warm and witty paddle through New York life at its best. A family film in every sense and one that deserves the praise it received.',\n",
              "       b'As others have mentioned, all the women that go nude in this film are mostly absolutely gorgeous. The plot very ably shows the hypocrisy of the female libido. When men are around they want to be pursued, but when no \"men\" are around, they become the pursuers of a 14 year old boy. And the boy becomes a man really fast (we should all be so lucky at this age!). He then gets up the courage to pursue his true love.',\n",
              "       b\"This is a film which should be seen by anybody interested in, effected by, or suffering from an eating disorder. It is an amazingly accurate and sensitive portrayal of bulimia in a teenage girl, its causes and its symptoms. The girl is played by one of the most brilliant young actresses working in cinema today, Alison Lohman, who was later so spectacular in 'Where the Truth Lies'. I would recommend that this film be shown in all schools, as you will never see a better on this subject. Alison Lohman is absolutely outstanding, and one marvels at her ability to convey the anguish of a girl suffering from this compulsive disorder. If barometers tell us the air pressure, Alison Lohman tells us the emotional pressure with the same degree of accuracy. Her emotional range is so precise, each scene could be measured microscopically for its gradations of trauma, on a scale of rising hysteria and desperation which reaches unbearable intensity. Mare Winningham is the perfect choice to play her mother, and does so with immense sympathy and a range of emotions just as finely tuned as Lohman's. Together, they make a pair of sensitive emotional oscillators vibrating in resonance with one another. This film is really an astonishing achievement, and director Katt Shea should be proud of it. The only reason for not seeing it is if you are not interested in people. But even if you like nature films best, this is after all animal behaviour at the sharp edge. Bulimia is an extreme version of how a tormented soul can destroy her own body in a frenzy of despair. And if we don't sympathise with people suffering from the depths of despair, then we are dead inside.\",\n",
              "       b'Okay, you have:<br /><br />Penelope Keith as Miss Herringbone-Tweed, B.B.E. (Backbone of England.) She\\'s killed off in the first scene - that\\'s right, folks; this show has no backbone!<br /><br />Peter O\\'Toole as Ol\\' Colonel Cricket from The First War and now the emblazered Lord of the Manor.<br /><br />Joanna Lumley as the ensweatered Lady of the Manor, 20 years younger than the colonel and 20 years past her own prime but still glamourous (Brit spelling, not mine) enough to have a toy-boy on the side. It\\'s alright, they have Col. Cricket\\'s full knowledge and consent (they guy even comes \\'round for Christmas!) Still, she\\'s considerate of the colonel enough to have said toy-boy her own age (what a gal!)<br /><br />David McCallum as said toy-boy, equally as pointlessly glamourous as his squeeze. Pilcher couldn\\'t come up with any cover for him within the story, so she gave him a hush-hush job at the Circus.<br /><br />and finally:<br /><br />Susan Hampshire as Miss Polonia Teacups, Venerable Headmistress of the Venerable Girls\\' Boarding-School, serving tea in her office with a dash of deep, poignant advice for life in the outside world just before graduation. Her best bit of advice: \"I\\'ve only been to Nancherrow (the local Stately Home of England) once. I thought it was very beautiful but, somehow, not part of the real world.\" Well, we can\\'t say they didn\\'t warn us.<br /><br />Ah, Susan - time was, your character would have been running the whole show. They don\\'t write \\'em like that any more. Our loss, not yours.<br /><br />So - with a cast and setting like this, you have the re-makings of \"Brideshead Revisited,\" right?<br /><br />Wrong! They took these 1-dimensional supporting roles because they paid so well. After all, acting is one of the oldest temp-jobs there is (YOU name another!)<br /><br />First warning sign: lots and lots of backlighting. They get around it by shooting outdoors - \"hey, it\\'s just the sunlight!\"<br /><br />Second warning sign: Leading Lady cries a lot. When not crying, her eyes are moist. That\\'s the law of romance novels: Leading Lady is \"dewy-eyed.\"<br /><br />Henceforth, Leading Lady shall be known as L.L.<br /><br />Third warning sign: L.L. actually has stars in her eyes when she\\'s in love. Still, I\\'ll give Emily Mortimer an award just for having to act with that spotlight in her eyes (I wonder . did they use contacts?)<br /><br />And lastly, fourth warning sign: no on-screen female character is \"Mrs.\" She\\'s either \"Miss\" or \"Lady.\"<br /><br />When all was said and done, I still couldn\\'t tell you who was pursuing whom and why. I couldn\\'t even tell you what was said and done.<br /><br />To sum up: they all live through World War II without anything happening to them at all.<br /><br />OK, at the end, L.L. finds she\\'s lost her parents to the Japanese prison camps and baby sis comes home catatonic. Meanwhile (there\\'s always a \"meanwhile,\") some young guy L.L. had a crush on (when, I don\\'t know) comes home from some wartime tough spot and is found living on the street by Lady of the Manor (must be some street if SHE\\'s going to find him there.) Both war casualties are whisked away to recover at Nancherrow (SOMEBODY has to be \"whisked away\" SOMEWHERE in these romance stories!)<br /><br />Great drama.',\n",
              "       b'The film is based on a genuine 1950s novel.<br /><br />Journalist Colin McInnes wrote a set of three \"London novels\": \"Absolute Beginners\", \"City of Spades\" and \"Mr Love and Justice\". I have read all three. The first two are excellent. The last, perhaps an experiment that did not come off. But McInnes\\'s work is highly acclaimed; and rightly so. This musical is the novelist\\'s ultimate nightmare - to see the fruits of one\\'s mind being turned into a glitzy, badly-acted, soporific one-dimensional apology of a film that says it captures the spirit of 1950s London, and does nothing of the sort.<br /><br />Thank goodness Colin McInnes wasn\\'t alive to witness it.',\n",
              "       b'I really love the sexy action and sci-fi films of the sixties and its because of the actress\\'s that appeared in them. They found the sexiest women to be in these films and it didn\\'t matter if they could act (Remember \"Candy\"?). The reason I was disappointed by this film was because it wasn\\'t nostalgic enough. The story here has a European sci-fi film called \"Dragonfly\" being made and the director is fired. So the producers decide to let a young aspiring filmmaker (Jeremy Davies) to complete the picture. They\\'re is one real beautiful woman in the film who plays Dragonfly but she\\'s barely in it. Film is written and directed by Roman Coppola who uses some of his fathers exploits from his early days and puts it into the script. I wish the film could have been an homage to those early films. They could have lots of cameos by actors who appeared in them. There is one actor in this film who was popular from the sixties and its John Phillip Law (Barbarella). Gerard Depardieu, Giancarlo Giannini and Dean Stockwell appear as well. I guess I\\'m going to have to continue waiting for a director to make a good homage to the films of the sixties. If any are reading this, \"Make it as sexy as you can\"! I\\'ll be waiting!',\n",
              "       b'Sure, this one isn\\'t really a blockbuster, nor does it target such a position. \"Dieter\" is the first name of a quite popular German musician, who is either loved or hated for his kind of acting and thats exactly what this movie is about. It is based on the autobiography \"Dieter Bohlen\" wrote a few years ago but isn\\'t meant to be accurate on that. The movie is filled with some sexual offensive content (at least for American standard) which is either amusing (not for the other \"actors\" of course) or dumb - it depends on your individual kind of humor or on you being a \"Bohlen\"-Fan or not. Technically speaking there isn\\'t much to criticize. Speaking of me I find this movie to be an OK-movie.'],\n",
              "      dtype=object)>"
            ]
          },
          "metadata": {
            "tags": []
          },
          "execution_count": 7
        }
      ]
    },
    {
      "cell_type": "code",
      "metadata": {
        "id": "funF5FR50XyK",
        "colab_type": "code",
        "colab": {
          "base_uri": "https://localhost:8080/",
          "height": 34
        },
        "outputId": "07dfbd55-ac38-463f-d233-3fa8457033b7"
      },
      "source": [
        "train_labels_batch"
      ],
      "execution_count": 8,
      "outputs": [
        {
          "output_type": "execute_result",
          "data": {
            "text/plain": [
              "<tf.Tensor: shape=(10,), dtype=int64, numpy=array([0, 0, 0, 1, 1, 1, 0, 0, 0, 0])>"
            ]
          },
          "metadata": {
            "tags": []
          },
          "execution_count": 8
        }
      ]
    },
    {
      "cell_type": "markdown",
      "metadata": {
        "id": "9648-qjF0dol",
        "colab_type": "text"
      },
      "source": [
        "build model"
      ]
    },
    {
      "cell_type": "markdown",
      "metadata": {
        "id": "u9Vu0Veb0lGX",
        "colab_type": "text"
      },
      "source": [
        "0- negative\n",
        "1-positive"
      ]
    },
    {
      "cell_type": "markdown",
      "metadata": {
        "id": "1K_pnWfi0wN6",
        "colab_type": "text"
      },
      "source": [
        " Keras layer that uses a TensorFlow Hub model to embed the sentences,"
      ]
    },
    {
      "cell_type": "markdown",
      "metadata": {
        "id": "CejZ-6h606_W",
        "colab_type": "text"
      },
      "source": [
        "Note that no matter the length of the input text, the output shape of the embeddings is: (num_examples, embedding_dimension)."
      ]
    },
    {
      "cell_type": "code",
      "metadata": {
        "id": "fX-NWFYF0ezo",
        "colab_type": "code",
        "colab": {
          "base_uri": "https://localhost:8080/",
          "height": 252
        },
        "outputId": "da16e686-958e-4f04-f498-4f52d04ee680"
      },
      "source": [
        "embedding = \"https://tfhub.dev/google/tf2-preview/gnews-swivel-20dim/1\"\n",
        "hub_layer = hub.KerasLayer(embedding, input_shape=[], \n",
        "                           dtype=tf.string, trainable=True)\n",
        "hub_layer(train_examples_batch[:3])"
      ],
      "execution_count": 9,
      "outputs": [
        {
          "output_type": "execute_result",
          "data": {
            "text/plain": [
              "<tf.Tensor: shape=(3, 20), dtype=float32, numpy=\n",
              "array([[ 1.765786  , -3.882232  ,  3.9134233 , -1.5557289 , -3.3362343 ,\n",
              "        -1.7357955 , -1.9954445 ,  1.2989551 ,  5.081598  , -1.1041286 ,\n",
              "        -2.0503852 , -0.72675157, -0.65675956,  0.24436149, -3.7208383 ,\n",
              "         2.0954835 ,  2.2969332 , -2.0689783 , -2.9489717 , -1.1315987 ],\n",
              "       [ 1.8804485 , -2.5852382 ,  3.4066997 ,  1.0982676 , -4.056685  ,\n",
              "        -4.891284  , -2.785554  ,  1.3874227 ,  3.8476458 , -0.9256538 ,\n",
              "        -1.896706  ,  1.2113281 ,  0.11474707,  0.76209456, -4.8791065 ,\n",
              "         2.906149  ,  4.7087674 , -2.3652055 , -3.5015898 , -1.6390051 ],\n",
              "       [ 0.71152234, -0.6353217 ,  1.7385626 , -1.1168286 , -0.5451594 ,\n",
              "        -1.1808156 ,  0.09504455,  1.4653089 ,  0.66059524,  0.79308075,\n",
              "        -2.2268345 ,  0.07446612, -1.4075904 , -0.70645386, -1.907037  ,\n",
              "         1.4419787 ,  1.9551861 , -0.42660055, -2.8022065 ,  0.43727064]],\n",
              "      dtype=float32)>"
            ]
          },
          "metadata": {
            "tags": []
          },
          "execution_count": 9
        }
      ]
    },
    {
      "cell_type": "markdown",
      "metadata": {
        "id": "li0nQxcy09qu",
        "colab_type": "text"
      },
      "source": [
        "full model"
      ]
    },
    {
      "cell_type": "code",
      "metadata": {
        "id": "3E09FOhm0-MX",
        "colab_type": "code",
        "colab": {
          "base_uri": "https://localhost:8080/",
          "height": 252
        },
        "outputId": "b63b5761-93de-4504-c9d1-93dbeb8bccf2"
      },
      "source": [
        "model=tf.keras.Sequential()\n",
        "model.add(hub_layer)\n",
        "model.add(tf.keras.layers.Dense(16, activation='relu'))\n",
        "model.add(tf.keras.layers.Dense(1))\n",
        "model.summary()"
      ],
      "execution_count": 10,
      "outputs": [
        {
          "output_type": "stream",
          "text": [
            "Model: \"sequential\"\n",
            "_________________________________________________________________\n",
            "Layer (type)                 Output Shape              Param #   \n",
            "=================================================================\n",
            "keras_layer (KerasLayer)     (None, 20)                400020    \n",
            "_________________________________________________________________\n",
            "dense (Dense)                (None, 16)                336       \n",
            "_________________________________________________________________\n",
            "dense_1 (Dense)              (None, 1)                 17        \n",
            "=================================================================\n",
            "Total params: 400,373\n",
            "Trainable params: 400,373\n",
            "Non-trainable params: 0\n",
            "_________________________________________________________________\n"
          ],
          "name": "stdout"
        }
      ]
    },
    {
      "cell_type": "markdown",
      "metadata": {
        "id": "xR7ZLT9m1oby",
        "colab_type": "text"
      },
      "source": [
        "Loss function and optimizer"
      ]
    },
    {
      "cell_type": "code",
      "metadata": {
        "id": "ol6l3u_21lZD",
        "colab_type": "code",
        "colab": {}
      },
      "source": [
        "model.compile(optimizer='adam',\n",
        "              loss=tf.keras.losses.BinaryCrossentropy(from_logits=True),\n",
        "              metrics=['accuracy'])"
      ],
      "execution_count": 12,
      "outputs": []
    },
    {
      "cell_type": "markdown",
      "metadata": {
        "id": "1RlfK2UC1zp9",
        "colab_type": "text"
      },
      "source": [
        "train"
      ]
    },
    {
      "cell_type": "markdown",
      "metadata": {
        "id": "jWnhB8dw2IgR",
        "colab_type": "text"
      },
      "source": [
        "Train the model for 20 epochs in mini-batches of 512 samples. This is 20 iterations over all samples in the x_train and y_train tensors"
      ]
    },
    {
      "cell_type": "code",
      "metadata": {
        "id": "8DC_QGV111Vo",
        "colab_type": "code",
        "colab": {
          "base_uri": "https://localhost:8080/",
          "height": 709
        },
        "outputId": "046eedb5-fd7b-4168-ac48-5007f55b7418"
      },
      "source": [
        "history=model.fit(train_data.shuffle(10000).batch(512),epochs=20,\n",
        "                  validation_data=validation_data.batch(512), verbose=1)"
      ],
      "execution_count": 13,
      "outputs": [
        {
          "output_type": "stream",
          "text": [
            "Epoch 1/20\n",
            "30/30 [==============================] - 3s 102ms/step - loss: 1.2159 - accuracy: 0.4957 - val_loss: 0.8214 - val_accuracy: 0.5080\n",
            "Epoch 2/20\n",
            "30/30 [==============================] - 3s 96ms/step - loss: 0.7433 - accuracy: 0.5378 - val_loss: 0.6924 - val_accuracy: 0.5714\n",
            "Epoch 3/20\n",
            "30/30 [==============================] - 3s 96ms/step - loss: 0.6731 - accuracy: 0.5899 - val_loss: 0.6521 - val_accuracy: 0.6057\n",
            "Epoch 4/20\n",
            "30/30 [==============================] - 3s 92ms/step - loss: 0.6362 - accuracy: 0.6213 - val_loss: 0.6233 - val_accuracy: 0.6322\n",
            "Epoch 5/20\n",
            "30/30 [==============================] - 3s 93ms/step - loss: 0.6068 - accuracy: 0.6466 - val_loss: 0.5985 - val_accuracy: 0.6549\n",
            "Epoch 6/20\n",
            "30/30 [==============================] - 3s 94ms/step - loss: 0.5798 - accuracy: 0.6690 - val_loss: 0.5751 - val_accuracy: 0.6758\n",
            "Epoch 7/20\n",
            "30/30 [==============================] - 3s 92ms/step - loss: 0.5529 - accuracy: 0.6955 - val_loss: 0.5518 - val_accuracy: 0.7009\n",
            "Epoch 8/20\n",
            "30/30 [==============================] - 3s 98ms/step - loss: 0.5255 - accuracy: 0.7213 - val_loss: 0.5268 - val_accuracy: 0.7190\n",
            "Epoch 9/20\n",
            "30/30 [==============================] - 3s 94ms/step - loss: 0.4962 - accuracy: 0.7432 - val_loss: 0.5021 - val_accuracy: 0.7432\n",
            "Epoch 10/20\n",
            "30/30 [==============================] - 3s 92ms/step - loss: 0.4657 - accuracy: 0.7697 - val_loss: 0.4748 - val_accuracy: 0.7606\n",
            "Epoch 11/20\n",
            "30/30 [==============================] - 3s 92ms/step - loss: 0.4344 - accuracy: 0.7934 - val_loss: 0.4489 - val_accuracy: 0.7780\n",
            "Epoch 12/20\n",
            "30/30 [==============================] - 3s 94ms/step - loss: 0.4038 - accuracy: 0.8135 - val_loss: 0.4251 - val_accuracy: 0.7886\n",
            "Epoch 13/20\n",
            "30/30 [==============================] - 3s 91ms/step - loss: 0.3746 - accuracy: 0.8327 - val_loss: 0.4045 - val_accuracy: 0.8166\n",
            "Epoch 14/20\n",
            "30/30 [==============================] - 3s 95ms/step - loss: 0.3481 - accuracy: 0.8477 - val_loss: 0.3851 - val_accuracy: 0.8181\n",
            "Epoch 15/20\n",
            "30/30 [==============================] - 3s 94ms/step - loss: 0.3238 - accuracy: 0.8631 - val_loss: 0.3694 - val_accuracy: 0.8319\n",
            "Epoch 16/20\n",
            "30/30 [==============================] - 3s 94ms/step - loss: 0.3020 - accuracy: 0.8724 - val_loss: 0.3562 - val_accuracy: 0.8379\n",
            "Epoch 17/20\n",
            "30/30 [==============================] - 3s 93ms/step - loss: 0.2817 - accuracy: 0.8831 - val_loss: 0.3448 - val_accuracy: 0.8427\n",
            "Epoch 18/20\n",
            "30/30 [==============================] - 3s 96ms/step - loss: 0.2616 - accuracy: 0.8944 - val_loss: 0.3356 - val_accuracy: 0.8528\n",
            "Epoch 19/20\n",
            "30/30 [==============================] - 3s 97ms/step - loss: 0.2433 - accuracy: 0.9019 - val_loss: 0.3268 - val_accuracy: 0.8575\n",
            "Epoch 20/20\n",
            "30/30 [==============================] - 3s 93ms/step - loss: 0.2271 - accuracy: 0.9117 - val_loss: 0.3196 - val_accuracy: 0.8588\n"
          ],
          "name": "stdout"
        }
      ]
    },
    {
      "cell_type": "markdown",
      "metadata": {
        "id": "1TUEHwZC2KOi",
        "colab_type": "text"
      },
      "source": [
        "evaluate model"
      ]
    },
    {
      "cell_type": "code",
      "metadata": {
        "id": "2ZWJkOgn2Ldi",
        "colab_type": "code",
        "colab": {
          "base_uri": "https://localhost:8080/",
          "height": 67
        },
        "outputId": "ab03f35a-d9dc-4948-e438-cca5c0034dca"
      },
      "source": [
        "results=model.evaluate(test_data.batch(512), verbose=2)\n",
        "\n",
        "for name, value in zip(model.metrics_names, results):\n",
        "  print(\"%s: %.3f\" % (name, value))"
      ],
      "execution_count": 15,
      "outputs": [
        {
          "output_type": "stream",
          "text": [
            "49/49 - 3s - loss: 0.3343 - accuracy: 0.8453\n",
            "loss: 0.334\n",
            "accuracy: 0.845\n"
          ],
          "name": "stdout"
        }
      ]
    },
    {
      "cell_type": "markdown",
      "metadata": {
        "id": "zEfhgYOq29Lr",
        "colab_type": "text"
      },
      "source": [
        "Overfitting and underfitting"
      ]
    },
    {
      "cell_type": "code",
      "metadata": {
        "id": "5PGZxNZm2_bM",
        "colab_type": "code",
        "colab": {}
      },
      "source": [
        "from tensorflow.keras import layers\n",
        "from tensorflow.keras import regularizers\n",
        "import matplotlib.pyplot as plt"
      ],
      "execution_count": 20,
      "outputs": []
    },
    {
      "cell_type": "markdown",
      "metadata": {
        "id": "qgz3s9b53cOK",
        "colab_type": "text"
      },
      "source": [
        "IMDB dataset"
      ]
    },
    {
      "cell_type": "markdown",
      "metadata": {
        "id": "0xLpPkgV4brw",
        "colab_type": "text"
      },
      "source": [
        "multi_hot_sequences turns words into vectors as 0 or 1 in 10000 dimensional vector space"
      ]
    },
    {
      "cell_type": "code",
      "metadata": {
        "id": "BLOypKt95jHw",
        "colab_type": "code",
        "colab": {}
      },
      "source": [
        "from tensorflow import keras\n",
        "\n",
        "import pathlib\n",
        "import shutil\n",
        "import tempfile"
      ],
      "execution_count": 26,
      "outputs": []
    },
    {
      "cell_type": "code",
      "metadata": {
        "id": "v4eihXd63dcI",
        "colab_type": "code",
        "colab": {}
      },
      "source": [
        "NUM_WORDS=10000\n",
        "(train_data, train_labels), (test_data, test_labels)=keras.datasets.imdb.load_data(num_words=NUM_WORDS)\n",
        "def multi_hot_sequences(sequences, dimension):\n",
        "  #create an all-zero matrix of shape (len(sequences), dimension)\n",
        "  results=np.zeros((len(sequences), dimension))\n",
        "  for i, word_indices in enumerate(sequences):\n",
        "    results[i, word_indices]=1.0 \n",
        "  return results \n",
        "train_data=multi_hot_sequences(train_data, dimension=NUM_WORDS)\n",
        "test_data=multi_hot_sequences(test_data, dimension=NUM_WORDS) \n"
      ],
      "execution_count": 32,
      "outputs": []
    },
    {
      "cell_type": "code",
      "metadata": {
        "id": "RcvL8bvD7XiL",
        "colab_type": "code",
        "colab": {
          "base_uri": "https://localhost:8080/",
          "height": 34
        },
        "outputId": "fc1e59c6-11b4-445a-c390-baeed183ed30"
      },
      "source": [
        "train_data[0]"
      ],
      "execution_count": 34,
      "outputs": [
        {
          "output_type": "execute_result",
          "data": {
            "text/plain": [
              "array([0., 1., 1., ..., 0., 0., 0.])"
            ]
          },
          "metadata": {
            "tags": []
          },
          "execution_count": 34
        }
      ]
    },
    {
      "cell_type": "code",
      "metadata": {
        "id": "wTIthfuQ7GEi",
        "colab_type": "code",
        "colab": {
          "base_uri": "https://localhost:8080/",
          "height": 282
        },
        "outputId": "4b59719a-2604-46af-b56a-04b44050e61d"
      },
      "source": [
        "plt.plot(train_data[0])"
      ],
      "execution_count": 33,
      "outputs": [
        {
          "output_type": "execute_result",
          "data": {
            "text/plain": [
              "[<matplotlib.lines.Line2D at 0x7fadf1249240>]"
            ]
          },
          "metadata": {
            "tags": []
          },
          "execution_count": 33
        },
        {
          "output_type": "display_data",
          "data": {
            "image/png": "[encoded data removed]",
            "text/plain": [
              "<Figure size 432x288 with 1 Axes>"
            ]
          },
          "metadata": {
            "tags": [],
            "needs_background": "light"
          }
        }
      ]
    },
    {
      "cell_type": "markdown",
      "metadata": {
        "id": "YbomjO_H7TZ7",
        "colab_type": "text"
      },
      "source": [
        "Overfitting"
      ]
    },
    {
      "cell_type": "code",
      "metadata": {
        "id": "vay5NEqF7Sox",
        "colab_type": "code",
        "colab": {}
      },
      "source": [
        "baseline_model=keras.Sequential([\n",
        "                                 keras.layers.Dense(16, activation='relu', input_shape=(NUM_WORDS,)),\n",
        "                                 keras.layers.Dense(16, activation='relu'),\n",
        "                                 keras.layers.Dense(1, activation='sigmoid')\n",
        "\n",
        "])"
      ],
      "execution_count": 35,
      "outputs": []
    },
    {
      "cell_type": "code",
      "metadata": {
        "id": "ITAFeLWa8BBA",
        "colab_type": "code",
        "colab": {}
      },
      "source": [
        "baseline_model.compile(optimizer='adam', loss='binary_crossentropy',\n",
        "                       metrics=['accuracy', 'binary_crossentropy'])"
      ],
      "execution_count": 36,
      "outputs": []
    },
    {
      "cell_type": "code",
      "metadata": {
        "id": "H9QSHdfm8OFs",
        "colab_type": "code",
        "colab": {
          "base_uri": "https://localhost:8080/",
          "height": 709
        },
        "outputId": "e6c2e839-a422-4b5c-dddb-aebeb6081c8c"
      },
      "source": [
        "baseline_history=baseline_model.fit(train_data, \n",
        "                                    train_labels, \n",
        "                                    epochs=20, \n",
        "                                    batch_size=512, \n",
        "                                    validation_data=(test_data, test_labels), \n",
        "                                    verbose=2)"
      ],
      "execution_count": 42,
      "outputs": [
        {
          "output_type": "stream",
          "text": [
            "Epoch 1/20\n",
            "49/49 - 3s - loss: 0.4607 - accuracy: 0.8166 - binary_crossentropy: 0.4607 - val_loss: 0.3250 - val_accuracy: 0.8776 - val_binary_crossentropy: 0.3250\n",
            "Epoch 2/20\n",
            "49/49 - 2s - loss: 0.2415 - accuracy: 0.9140 - binary_crossentropy: 0.2415 - val_loss: 0.2840 - val_accuracy: 0.8873 - val_binary_crossentropy: 0.2840\n",
            "Epoch 3/20\n",
            "49/49 - 2s - loss: 0.1807 - accuracy: 0.9359 - binary_crossentropy: 0.1807 - val_loss: 0.2897 - val_accuracy: 0.8856 - val_binary_crossentropy: 0.2897\n",
            "Epoch 4/20\n",
            "49/49 - 2s - loss: 0.1446 - accuracy: 0.9509 - binary_crossentropy: 0.1446 - val_loss: 0.3105 - val_accuracy: 0.8796 - val_binary_crossentropy: 0.3105\n",
            "Epoch 5/20\n",
            "49/49 - 2s - loss: 0.1179 - accuracy: 0.9618 - binary_crossentropy: 0.1179 - val_loss: 0.3412 - val_accuracy: 0.8735 - val_binary_crossentropy: 0.3412\n",
            "Epoch 6/20\n",
            "49/49 - 2s - loss: 0.0959 - accuracy: 0.9705 - binary_crossentropy: 0.0959 - val_loss: 0.3755 - val_accuracy: 0.8689 - val_binary_crossentropy: 0.3755\n",
            "Epoch 7/20\n",
            "49/49 - 2s - loss: 0.0765 - accuracy: 0.9781 - binary_crossentropy: 0.0765 - val_loss: 0.4122 - val_accuracy: 0.8663 - val_binary_crossentropy: 0.4122\n",
            "Epoch 8/20\n",
            "49/49 - 2s - loss: 0.0605 - accuracy: 0.9848 - binary_crossentropy: 0.0605 - val_loss: 0.4508 - val_accuracy: 0.8634 - val_binary_crossentropy: 0.4508\n",
            "Epoch 9/20\n",
            "49/49 - 2s - loss: 0.0474 - accuracy: 0.9902 - binary_crossentropy: 0.0474 - val_loss: 0.5022 - val_accuracy: 0.8599 - val_binary_crossentropy: 0.5022\n",
            "Epoch 10/20\n",
            "49/49 - 2s - loss: 0.0363 - accuracy: 0.9936 - binary_crossentropy: 0.0363 - val_loss: 0.5376 - val_accuracy: 0.8576 - val_binary_crossentropy: 0.5376\n",
            "Epoch 11/20\n",
            "49/49 - 2s - loss: 0.0289 - accuracy: 0.9960 - binary_crossentropy: 0.0289 - val_loss: 0.5843 - val_accuracy: 0.8560 - val_binary_crossentropy: 0.5843\n",
            "Epoch 12/20\n",
            "49/49 - 2s - loss: 0.0214 - accuracy: 0.9976 - binary_crossentropy: 0.0214 - val_loss: 0.6372 - val_accuracy: 0.8546 - val_binary_crossentropy: 0.6372\n",
            "Epoch 13/20\n",
            "49/49 - 2s - loss: 0.0165 - accuracy: 0.9986 - binary_crossentropy: 0.0165 - val_loss: 0.6573 - val_accuracy: 0.8551 - val_binary_crossentropy: 0.6573\n",
            "Epoch 14/20\n",
            "49/49 - 2s - loss: 0.0126 - accuracy: 0.9991 - binary_crossentropy: 0.0126 - val_loss: 0.6976 - val_accuracy: 0.8538 - val_binary_crossentropy: 0.6976\n",
            "Epoch 15/20\n",
            "49/49 - 2s - loss: 0.0097 - accuracy: 0.9995 - binary_crossentropy: 0.0097 - val_loss: 0.7359 - val_accuracy: 0.8522 - val_binary_crossentropy: 0.7359\n",
            "Epoch 16/20\n",
            "49/49 - 2s - loss: 0.0077 - accuracy: 0.9996 - binary_crossentropy: 0.0077 - val_loss: 0.7618 - val_accuracy: 0.8523 - val_binary_crossentropy: 0.7618\n",
            "Epoch 17/20\n",
            "49/49 - 2s - loss: 0.0062 - accuracy: 0.9997 - binary_crossentropy: 0.0062 - val_loss: 0.7937 - val_accuracy: 0.8523 - val_binary_crossentropy: 0.7937\n",
            "Epoch 18/20\n",
            "49/49 - 2s - loss: 0.0050 - accuracy: 0.9998 - binary_crossentropy: 0.0050 - val_loss: 0.8214 - val_accuracy: 0.8524 - val_binary_crossentropy: 0.8214\n",
            "Epoch 19/20\n",
            "49/49 - 2s - loss: 0.0042 - accuracy: 0.9998 - binary_crossentropy: 0.0042 - val_loss: 0.8487 - val_accuracy: 0.8519 - val_binary_crossentropy: 0.8487\n",
            "Epoch 20/20\n",
            "49/49 - 2s - loss: 0.0036 - accuracy: 0.9998 - binary_crossentropy: 0.0036 - val_loss: 0.8729 - val_accuracy: 0.8517 - val_binary_crossentropy: 0.8729\n"
          ],
          "name": "stdout"
        }
      ]
    },
    {
      "cell_type": "markdown",
      "metadata": {
        "id": "oph0L8Vt-nNu",
        "colab_type": "text"
      },
      "source": [
        "working well with training accuracy but not with validation accuracy"
      ]
    },
    {
      "cell_type": "markdown",
      "metadata": {
        "id": "_TSgto0Y99Oh",
        "colab_type": "text"
      },
      "source": [
        "create a small model, lets use 4 units"
      ]
    },
    {
      "cell_type": "code",
      "metadata": {
        "id": "VPvYUpOl-DW6",
        "colab_type": "code",
        "colab": {}
      },
      "source": [
        "small_model=keras.Sequential([\n",
        "                                 keras.layers.Dense(4, activation='relu', input_shape=(NUM_WORDS,)),\n",
        "                                 keras.layers.Dense(4, activation='relu'),\n",
        "                                 keras.layers.Dense(1, activation='sigmoid')\n",
        "\n",
        "])"
      ],
      "execution_count": 43,
      "outputs": []
    },
    {
      "cell_type": "code",
      "metadata": {
        "id": "Ae08Idk--Hc-",
        "colab_type": "code",
        "colab": {}
      },
      "source": [
        "  small_model.compile(optimizer='adam', loss='binary_crossentropy',\n",
        "                       metrics=['accuracy', 'binary_crossentropy'])"
      ],
      "execution_count": 44,
      "outputs": []
    },
    {
      "cell_type": "code",
      "metadata": {
        "id": "Um_NaBpA-OKk",
        "colab_type": "code",
        "colab": {
          "base_uri": "https://localhost:8080/",
          "height": 709
        },
        "outputId": "56075f3f-320d-4f4a-e646-6003f22b1f96"
      },
      "source": [
        "small_history=small_model.fit(train_data, \n",
        "                                    train_labels, \n",
        "                                    epochs=20, \n",
        "                                    batch_size=512, \n",
        "                                    validation_data=(test_data, test_labels), \n",
        "                                    verbose=2)"
      ],
      "execution_count": 46,
      "outputs": [
        {
          "output_type": "stream",
          "text": [
            "Epoch 1/20\n",
            "49/49 - 3s - loss: 0.5532 - accuracy: 0.7513 - binary_crossentropy: 0.5532 - val_loss: 0.4079 - val_accuracy: 0.8614 - val_binary_crossentropy: 0.4079\n",
            "Epoch 2/20\n",
            "49/49 - 1s - loss: 0.3116 - accuracy: 0.8971 - binary_crossentropy: 0.3116 - val_loss: 0.3134 - val_accuracy: 0.8826 - val_binary_crossentropy: 0.3134\n",
            "Epoch 3/20\n",
            "49/49 - 2s - loss: 0.2328 - accuracy: 0.9220 - binary_crossentropy: 0.2328 - val_loss: 0.2890 - val_accuracy: 0.8865 - val_binary_crossentropy: 0.2890\n",
            "Epoch 4/20\n",
            "49/49 - 2s - loss: 0.1926 - accuracy: 0.9362 - binary_crossentropy: 0.1926 - val_loss: 0.2866 - val_accuracy: 0.8850 - val_binary_crossentropy: 0.2866\n",
            "Epoch 5/20\n",
            "49/49 - 2s - loss: 0.1661 - accuracy: 0.9452 - binary_crossentropy: 0.1661 - val_loss: 0.2942 - val_accuracy: 0.8817 - val_binary_crossentropy: 0.2942\n",
            "Epoch 6/20\n",
            "49/49 - 2s - loss: 0.1457 - accuracy: 0.9534 - binary_crossentropy: 0.1457 - val_loss: 0.2977 - val_accuracy: 0.8824 - val_binary_crossentropy: 0.2977\n",
            "Epoch 7/20\n",
            "49/49 - 2s - loss: 0.1291 - accuracy: 0.9594 - binary_crossentropy: 0.1291 - val_loss: 0.3107 - val_accuracy: 0.8795 - val_binary_crossentropy: 0.3107\n",
            "Epoch 8/20\n",
            "49/49 - 2s - loss: 0.1160 - accuracy: 0.9645 - binary_crossentropy: 0.1160 - val_loss: 0.3228 - val_accuracy: 0.8779 - val_binary_crossentropy: 0.3228\n",
            "Epoch 9/20\n",
            "49/49 - 2s - loss: 0.1041 - accuracy: 0.9693 - binary_crossentropy: 0.1041 - val_loss: 0.3406 - val_accuracy: 0.8750 - val_binary_crossentropy: 0.3406\n",
            "Epoch 10/20\n",
            "49/49 - 2s - loss: 0.0942 - accuracy: 0.9726 - binary_crossentropy: 0.0942 - val_loss: 0.3556 - val_accuracy: 0.8723 - val_binary_crossentropy: 0.3556\n",
            "Epoch 11/20\n",
            "49/49 - 2s - loss: 0.0847 - accuracy: 0.9763 - binary_crossentropy: 0.0847 - val_loss: 0.3736 - val_accuracy: 0.8709 - val_binary_crossentropy: 0.3736\n",
            "Epoch 12/20\n",
            "49/49 - 2s - loss: 0.0765 - accuracy: 0.9808 - binary_crossentropy: 0.0765 - val_loss: 0.3989 - val_accuracy: 0.8668 - val_binary_crossentropy: 0.3989\n",
            "Epoch 13/20\n",
            "49/49 - 2s - loss: 0.0693 - accuracy: 0.9824 - binary_crossentropy: 0.0693 - val_loss: 0.4130 - val_accuracy: 0.8670 - val_binary_crossentropy: 0.4130\n",
            "Epoch 14/20\n",
            "49/49 - 2s - loss: 0.0625 - accuracy: 0.9856 - binary_crossentropy: 0.0625 - val_loss: 0.4350 - val_accuracy: 0.8650 - val_binary_crossentropy: 0.4350\n",
            "Epoch 15/20\n",
            "49/49 - 2s - loss: 0.0564 - accuracy: 0.9880 - binary_crossentropy: 0.0564 - val_loss: 0.4564 - val_accuracy: 0.8634 - val_binary_crossentropy: 0.4564\n",
            "Epoch 16/20\n",
            "49/49 - 2s - loss: 0.0505 - accuracy: 0.9906 - binary_crossentropy: 0.0505 - val_loss: 0.4792 - val_accuracy: 0.8610 - val_binary_crossentropy: 0.4792\n",
            "Epoch 17/20\n",
            "49/49 - 2s - loss: 0.0453 - accuracy: 0.9925 - binary_crossentropy: 0.0453 - val_loss: 0.5019 - val_accuracy: 0.8589 - val_binary_crossentropy: 0.5019\n",
            "Epoch 18/20\n",
            "49/49 - 2s - loss: 0.0407 - accuracy: 0.9930 - binary_crossentropy: 0.0407 - val_loss: 0.5246 - val_accuracy: 0.8583 - val_binary_crossentropy: 0.5246\n",
            "Epoch 19/20\n",
            "49/49 - 2s - loss: 0.0364 - accuracy: 0.9947 - binary_crossentropy: 0.0364 - val_loss: 0.5449 - val_accuracy: 0.8568 - val_binary_crossentropy: 0.5449\n",
            "Epoch 20/20\n",
            "49/49 - 2s - loss: 0.0329 - accuracy: 0.9949 - binary_crossentropy: 0.0329 - val_loss: 0.5690 - val_accuracy: 0.8564 - val_binary_crossentropy: 0.5690\n"
          ],
          "name": "stdout"
        }
      ]
    },
    {
      "cell_type": "markdown",
      "metadata": {
        "id": "5N2hpAoZ-ga-",
        "colab_type": "text"
      },
      "source": [
        "working well with training accuracy but not with validation accuracy, 3rd epoch overfitting"
      ]
    },
    {
      "cell_type": "markdown",
      "metadata": {
        "id": "MhyifjQD-u8n",
        "colab_type": "text"
      },
      "source": [
        "create bigger model with high units, like 512"
      ]
    },
    {
      "cell_type": "code",
      "metadata": {
        "id": "k1c0yuKp-l10",
        "colab_type": "code",
        "colab": {}
      },
      "source": [
        "big_model=keras.Sequential([\n",
        "                                 keras.layers.Dense(512, activation='relu', input_shape=(NUM_WORDS,)),\n",
        "                                 keras.layers.Dense(512, activation='relu'),\n",
        "                                 keras.layers.Dense(1, activation='sigmoid')\n",
        "\n",
        "])"
      ],
      "execution_count": 47,
      "outputs": []
    },
    {
      "cell_type": "code",
      "metadata": {
        "id": "vGTgW5pB-9Et",
        "colab_type": "code",
        "colab": {}
      },
      "source": [
        "big_model.compile(optimizer='adam', loss='binary_crossentropy',\n",
        "                       metrics=['accuracy', 'binary_crossentropy'])"
      ],
      "execution_count": 48,
      "outputs": []
    },
    {
      "cell_type": "code",
      "metadata": {
        "id": "6Y6E2iR0-_nm",
        "colab_type": "code",
        "colab": {
          "base_uri": "https://localhost:8080/",
          "height": 709
        },
        "outputId": "a6a8b407-2a08-45a6-92d7-2fda3a9501ca"
      },
      "source": [
        "big_history=big_model.fit(train_data, \n",
        "                                    train_labels, \n",
        "                                    epochs=20, \n",
        "                                    batch_size=512, \n",
        "                                    validation_data=(test_data, test_labels), \n",
        "                                    verbose=2)"
      ],
      "execution_count": 49,
      "outputs": [
        {
          "output_type": "stream",
          "text": [
            "Epoch 1/20\n",
            "49/49 - 15s - loss: 0.3640 - accuracy: 0.8371 - binary_crossentropy: 0.3640 - val_loss: 0.2849 - val_accuracy: 0.8820 - val_binary_crossentropy: 0.2849\n",
            "Epoch 2/20\n",
            "49/49 - 15s - loss: 0.1435 - accuracy: 0.9483 - binary_crossentropy: 0.1435 - val_loss: 0.3139 - val_accuracy: 0.8751 - val_binary_crossentropy: 0.3139\n",
            "Epoch 3/20\n",
            "49/49 - 14s - loss: 0.0485 - accuracy: 0.9860 - binary_crossentropy: 0.0485 - val_loss: 0.4403 - val_accuracy: 0.8702 - val_binary_crossentropy: 0.4403\n",
            "Epoch 4/20\n",
            "49/49 - 15s - loss: 0.0067 - accuracy: 0.9988 - binary_crossentropy: 0.0067 - val_loss: 0.5649 - val_accuracy: 0.8677 - val_binary_crossentropy: 0.5649\n",
            "Epoch 5/20\n",
            "49/49 - 14s - loss: 7.8720e-04 - accuracy: 1.0000 - binary_crossentropy: 7.8720e-04 - val_loss: 0.6800 - val_accuracy: 0.8709 - val_binary_crossentropy: 0.6800\n",
            "Epoch 6/20\n",
            "49/49 - 14s - loss: 2.2523e-04 - accuracy: 1.0000 - binary_crossentropy: 2.2523e-04 - val_loss: 0.7262 - val_accuracy: 0.8716 - val_binary_crossentropy: 0.7262\n",
            "Epoch 7/20\n",
            "49/49 - 14s - loss: 1.3846e-04 - accuracy: 1.0000 - binary_crossentropy: 1.3846e-04 - val_loss: 0.7557 - val_accuracy: 0.8717 - val_binary_crossentropy: 0.7557\n",
            "Epoch 8/20\n",
            "49/49 - 15s - loss: 9.9889e-05 - accuracy: 1.0000 - binary_crossentropy: 9.9889e-05 - val_loss: 0.7793 - val_accuracy: 0.8716 - val_binary_crossentropy: 0.7793\n",
            "Epoch 9/20\n",
            "49/49 - 14s - loss: 7.6380e-05 - accuracy: 1.0000 - binary_crossentropy: 7.6380e-05 - val_loss: 0.7981 - val_accuracy: 0.8716 - val_binary_crossentropy: 0.7981\n",
            "Epoch 10/20\n",
            "49/49 - 14s - loss: 6.0682e-05 - accuracy: 1.0000 - binary_crossentropy: 6.0682e-05 - val_loss: 0.8150 - val_accuracy: 0.8716 - val_binary_crossentropy: 0.8150\n",
            "Epoch 11/20\n",
            "49/49 - 14s - loss: 4.9492e-05 - accuracy: 1.0000 - binary_crossentropy: 4.9492e-05 - val_loss: 0.8301 - val_accuracy: 0.8716 - val_binary_crossentropy: 0.8301\n",
            "Epoch 12/20\n",
            "49/49 - 14s - loss: 4.1189e-05 - accuracy: 1.0000 - binary_crossentropy: 4.1189e-05 - val_loss: 0.8434 - val_accuracy: 0.8715 - val_binary_crossentropy: 0.8434\n",
            "Epoch 13/20\n",
            "49/49 - 14s - loss: 3.4777e-05 - accuracy: 1.0000 - binary_crossentropy: 3.4777e-05 - val_loss: 0.8556 - val_accuracy: 0.8717 - val_binary_crossentropy: 0.8556\n",
            "Epoch 14/20\n",
            "49/49 - 14s - loss: 2.9759e-05 - accuracy: 1.0000 - binary_crossentropy: 2.9759e-05 - val_loss: 0.8673 - val_accuracy: 0.8716 - val_binary_crossentropy: 0.8673\n",
            "Epoch 15/20\n",
            "49/49 - 14s - loss: 2.5730e-05 - accuracy: 1.0000 - binary_crossentropy: 2.5730e-05 - val_loss: 0.8779 - val_accuracy: 0.8718 - val_binary_crossentropy: 0.8779\n",
            "Epoch 16/20\n",
            "49/49 - 15s - loss: 2.2459e-05 - accuracy: 1.0000 - binary_crossentropy: 2.2459e-05 - val_loss: 0.8882 - val_accuracy: 0.8716 - val_binary_crossentropy: 0.8882\n",
            "Epoch 17/20\n",
            "49/49 - 14s - loss: 1.9754e-05 - accuracy: 1.0000 - binary_crossentropy: 1.9754e-05 - val_loss: 0.8975 - val_accuracy: 0.8717 - val_binary_crossentropy: 0.8975\n",
            "Epoch 18/20\n",
            "49/49 - 14s - loss: 1.7509e-05 - accuracy: 1.0000 - binary_crossentropy: 1.7509e-05 - val_loss: 0.9064 - val_accuracy: 0.8716 - val_binary_crossentropy: 0.9064\n",
            "Epoch 19/20\n",
            "49/49 - 15s - loss: 1.5585e-05 - accuracy: 1.0000 - binary_crossentropy: 1.5585e-05 - val_loss: 0.9149 - val_accuracy: 0.8716 - val_binary_crossentropy: 0.9149\n",
            "Epoch 20/20\n",
            "49/49 - 16s - loss: 1.3959e-05 - accuracy: 1.0000 - binary_crossentropy: 1.3959e-05 - val_loss: 0.9231 - val_accuracy: 0.8715 - val_binary_crossentropy: 0.9231\n"
          ],
          "name": "stdout"
        }
      ]
    },
    {
      "cell_type": "markdown",
      "metadata": {
        "id": "GVdcooMq_MZp",
        "colab_type": "text"
      },
      "source": [
        "train loss is small but validation loss in high, its overfitting fast"
      ]
    },
    {
      "cell_type": "markdown",
      "metadata": {
        "id": "pu6cStYf_Rcx",
        "colab_type": "text"
      },
      "source": [
        "size of model with overfitting"
      ]
    },
    {
      "cell_type": "code",
      "metadata": {
        "id": "HBuODNFW_TS_",
        "colab_type": "code",
        "colab": {
          "base_uri": "https://localhost:8080/",
          "height": 437
        },
        "outputId": "2a0ea356-d85e-4558-cce8-aeda916eae66"
      },
      "source": [
        "def plot_history(histories, key='binary_crossentropy'):\n",
        "  plt.figure(figsize=(16,10))\n",
        "\n",
        "  for name, history in histories:\n",
        "    val=plt.plot(history.epoch, history.history['val_'+key], '--', label=name.title()+' val')\n",
        "    plt.plot(history.epoch, history.history[key], color=val[0].get_color(), label=name.title()+' Train')\n",
        "\n",
        "  plt.xlabel('Epochs')\n",
        "  plt.ylabel(key.replace('_', ' ').title())\n",
        "  plt.legend()\n",
        "  plt.xlim([0,max(history.epoch)])\n",
        "\n",
        "plot_history([('baseline', baseline_history),\n",
        "              ('small', small_history),\n",
        "              ('big', big_history)])     "
      ],
      "execution_count": 52,
      "outputs": [
        {
          "output_type": "display_data",
          "data": {
            "image/png": "[encoded data removed]",
            "text/plain": [
              "<Figure size 1152x720 with 1 Axes>"
            ]
          },
          "metadata": {
            "tags": [],
            "needs_background": "light"
          }
        }
      ]
    },
    {
      "cell_type": "markdown",
      "metadata": {
        "id": "f4D8u8YhBPPc",
        "colab_type": "text"
      },
      "source": [
        "L1 reg and l2 reg"
      ]
    },
    {
      "cell_type": "code",
      "metadata": {
        "id": "56lavSwfBRaa",
        "colab_type": "code",
        "colab": {}
      },
      "source": [
        "l2_model=keras.models.Sequential([\n",
        "                                  keras.layers.Dense(16, kernel_regularizer=keras.regularizers.l2(0.001), activation='relu', input_shape=(NUM_WORDS, )),\n",
        "                                  keras.layers.Dense(16, kernel_regularizer=keras.regularizers.l2(0.001), activation='relu'),\n",
        "                                  keras.layers.Dense(1, activation='sigmoid')\n",
        "])"
      ],
      "execution_count": 61,
      "outputs": []
    },
    {
      "cell_type": "code",
      "metadata": {
        "id": "gakd39O-DfET",
        "colab_type": "code",
        "colab": {}
      },
      "source": [
        "l2_model.compile(optimizer='adam', loss='binary_crossentropy',\n",
        "                 metrics=['accuracy', 'binary_crossentropy'])"
      ],
      "execution_count": 63,
      "outputs": []
    },
    {
      "cell_type": "code",
      "metadata": {
        "id": "U_fanVchDs7R",
        "colab_type": "code",
        "colab": {
          "base_uri": "https://localhost:8080/",
          "height": 709
        },
        "outputId": "069ec14c-9ee5-49f3-a5d4-35d8d8133350"
      },
      "source": [
        "l2_model_history=l2_model.fit(train_data, train_labels, epochs=20, batch_size=512, validation_data=(test_data, test_labels), verbose=2)"
      ],
      "execution_count": 64,
      "outputs": [
        {
          "output_type": "stream",
          "text": [
            "Epoch 1/20\n",
            "49/49 - 2s - loss: 0.5327 - accuracy: 0.8150 - binary_crossentropy: 0.4916 - val_loss: 0.3988 - val_accuracy: 0.8731 - val_binary_crossentropy: 0.3556\n",
            "Epoch 2/20\n",
            "49/49 - 2s - loss: 0.3212 - accuracy: 0.9039 - binary_crossentropy: 0.2734 - val_loss: 0.3410 - val_accuracy: 0.8872 - val_binary_crossentropy: 0.2896\n",
            "Epoch 3/20\n",
            "49/49 - 2s - loss: 0.2691 - accuracy: 0.9246 - binary_crossentropy: 0.2149 - val_loss: 0.3442 - val_accuracy: 0.8829 - val_binary_crossentropy: 0.2885\n",
            "Epoch 4/20\n",
            "49/49 - 2s - loss: 0.2459 - accuracy: 0.9331 - binary_crossentropy: 0.1885 - val_loss: 0.3456 - val_accuracy: 0.8838 - val_binary_crossentropy: 0.2872\n",
            "Epoch 5/20\n",
            "49/49 - 2s - loss: 0.2287 - accuracy: 0.9417 - binary_crossentropy: 0.1696 - val_loss: 0.3562 - val_accuracy: 0.8808 - val_binary_crossentropy: 0.2968\n",
            "Epoch 6/20\n",
            "49/49 - 2s - loss: 0.2181 - accuracy: 0.9467 - binary_crossentropy: 0.1579 - val_loss: 0.3647 - val_accuracy: 0.8783 - val_binary_crossentropy: 0.3042\n",
            "Epoch 7/20\n",
            "49/49 - 2s - loss: 0.2089 - accuracy: 0.9495 - binary_crossentropy: 0.1478 - val_loss: 0.3742 - val_accuracy: 0.8758 - val_binary_crossentropy: 0.3130\n",
            "Epoch 8/20\n",
            "49/49 - 2s - loss: 0.2038 - accuracy: 0.9515 - binary_crossentropy: 0.1417 - val_loss: 0.3837 - val_accuracy: 0.8742 - val_binary_crossentropy: 0.3213\n",
            "Epoch 9/20\n",
            "49/49 - 2s - loss: 0.1966 - accuracy: 0.9553 - binary_crossentropy: 0.1338 - val_loss: 0.3974 - val_accuracy: 0.8712 - val_binary_crossentropy: 0.3343\n",
            "Epoch 10/20\n",
            "49/49 - 2s - loss: 0.1906 - accuracy: 0.9576 - binary_crossentropy: 0.1272 - val_loss: 0.4055 - val_accuracy: 0.8696 - val_binary_crossentropy: 0.3419\n",
            "Epoch 11/20\n",
            "49/49 - 2s - loss: 0.1874 - accuracy: 0.9587 - binary_crossentropy: 0.1232 - val_loss: 0.4170 - val_accuracy: 0.8671 - val_binary_crossentropy: 0.3524\n",
            "Epoch 12/20\n",
            "49/49 - 2s - loss: 0.1823 - accuracy: 0.9608 - binary_crossentropy: 0.1173 - val_loss: 0.4280 - val_accuracy: 0.8669 - val_binary_crossentropy: 0.3630\n",
            "Epoch 13/20\n",
            "49/49 - 2s - loss: 0.1777 - accuracy: 0.9621 - binary_crossentropy: 0.1123 - val_loss: 0.4467 - val_accuracy: 0.8634 - val_binary_crossentropy: 0.3806\n",
            "Epoch 14/20\n",
            "49/49 - 2s - loss: 0.1756 - accuracy: 0.9626 - binary_crossentropy: 0.1091 - val_loss: 0.4496 - val_accuracy: 0.8626 - val_binary_crossentropy: 0.3827\n",
            "Epoch 15/20\n",
            "49/49 - 2s - loss: 0.1697 - accuracy: 0.9645 - binary_crossentropy: 0.1025 - val_loss: 0.4628 - val_accuracy: 0.8631 - val_binary_crossentropy: 0.3951\n",
            "Epoch 16/20\n",
            "49/49 - 2s - loss: 0.1653 - accuracy: 0.9680 - binary_crossentropy: 0.0972 - val_loss: 0.4791 - val_accuracy: 0.8588 - val_binary_crossentropy: 0.4108\n",
            "Epoch 17/20\n",
            "49/49 - 2s - loss: 0.1593 - accuracy: 0.9704 - binary_crossentropy: 0.0908 - val_loss: 0.4819 - val_accuracy: 0.8609 - val_binary_crossentropy: 0.4134\n",
            "Epoch 18/20\n",
            "49/49 - 2s - loss: 0.1552 - accuracy: 0.9719 - binary_crossentropy: 0.0867 - val_loss: 0.4988 - val_accuracy: 0.8602 - val_binary_crossentropy: 0.4298\n",
            "Epoch 19/20\n",
            "49/49 - 2s - loss: 0.1521 - accuracy: 0.9732 - binary_crossentropy: 0.0829 - val_loss: 0.5223 - val_accuracy: 0.8560 - val_binary_crossentropy: 0.4526\n",
            "Epoch 20/20\n",
            "49/49 - 2s - loss: 0.1502 - accuracy: 0.9736 - binary_crossentropy: 0.0796 - val_loss: 0.5234 - val_accuracy: 0.8580 - val_binary_crossentropy: 0.4523\n"
          ],
          "name": "stdout"
        }
      ]
    },
    {
      "cell_type": "code",
      "metadata": {
        "id": "BQEJ2H0mECOv",
        "colab_type": "code",
        "colab": {
          "base_uri": "https://localhost:8080/",
          "height": 437
        },
        "outputId": "de190eeb-fb22-4294-83ac-b6a02ee877c1"
      },
      "source": [
        "plot_history([('baseline', baseline_history),\n",
        "              ('l2',l2_model_history)])"
      ],
      "execution_count": 65,
      "outputs": [
        {
          "output_type": "display_data",
          "data": {
            "image/png": "[encoded data removed]",
            "text/plain": [
              "<Figure size 1152x720 with 1 Axes>"
            ]
          },
          "metadata": {
            "tags": [],
            "needs_background": "light"
          }
        }
      ]
    },
    {
      "cell_type": "markdown",
      "metadata": {
        "id": "XWoOzH8OEcGc",
        "colab_type": "text"
      },
      "source": [
        "dropouts"
      ]
    },
    {
      "cell_type": "markdown",
      "metadata": {
        "id": "akzmczkYEZyG",
        "colab_type": "text"
      },
      "source": [
        "never drop in test data"
      ]
    },
    {
      "cell_type": "code",
      "metadata": {
        "id": "ZoT4dP6qEjeg",
        "colab_type": "code",
        "colab": {}
      },
      "source": [
        "dpt_model=keras.models.Sequential([\n",
        "                                 keras.layers.Dense(16, activation='relu', input_shape=(NUM_WORDS,)),\n",
        "                                 keras.layers.Dropout(0.5),\n",
        "                                 keras.layers.Dense(16, activation='relu'),\n",
        "                                 keras.layers.Dropout(0.5),\n",
        "                                 keras.layers.Dense(1, activation='sigmoid')\n",
        "\n",
        "])"
      ],
      "execution_count": 66,
      "outputs": []
    },
    {
      "cell_type": "code",
      "metadata": {
        "id": "FhTWQFuYEun1",
        "colab_type": "code",
        "colab": {}
      },
      "source": [
        "dpt_model.compile(optimizer='adam', loss='binary_crossentropy',\n",
        "                       metrics=['accuracy', 'binary_crossentropy'])"
      ],
      "execution_count": 67,
      "outputs": []
    },
    {
      "cell_type": "code",
      "metadata": {
        "id": "SRb4mCLeE19Y",
        "colab_type": "code",
        "colab": {
          "base_uri": "https://localhost:8080/",
          "height": 709
        },
        "outputId": "3c693a8e-1979-49ce-ea87-70f578f7fdc3"
      },
      "source": [
        "dpt_history=dpt_model.fit(train_data, train_labels, epochs=20, batch_size=512, validation_data=(test_data, test_labels), verbose=2)"
      ],
      "execution_count": 68,
      "outputs": [
        {
          "output_type": "stream",
          "text": [
            "Epoch 1/20\n",
            "49/49 - 2s - loss: 0.6509 - accuracy: 0.6291 - binary_crossentropy: 0.6509 - val_loss: 0.5812 - val_accuracy: 0.7770 - val_binary_crossentropy: 0.5812\n",
            "Epoch 2/20\n",
            "49/49 - 2s - loss: 0.5314 - accuracy: 0.8039 - binary_crossentropy: 0.5314 - val_loss: 0.4535 - val_accuracy: 0.8624 - val_binary_crossentropy: 0.4535\n",
            "Epoch 3/20\n",
            "49/49 - 2s - loss: 0.4314 - accuracy: 0.8658 - binary_crossentropy: 0.4314 - val_loss: 0.3641 - val_accuracy: 0.8844 - val_binary_crossentropy: 0.3641\n",
            "Epoch 4/20\n",
            "49/49 - 2s - loss: 0.3576 - accuracy: 0.8920 - binary_crossentropy: 0.3576 - val_loss: 0.3209 - val_accuracy: 0.8872 - val_binary_crossentropy: 0.3209\n",
            "Epoch 5/20\n",
            "49/49 - 2s - loss: 0.3074 - accuracy: 0.9085 - binary_crossentropy: 0.3074 - val_loss: 0.3052 - val_accuracy: 0.8871 - val_binary_crossentropy: 0.3052\n",
            "Epoch 6/20\n",
            "49/49 - 2s - loss: 0.2742 - accuracy: 0.9182 - binary_crossentropy: 0.2742 - val_loss: 0.3055 - val_accuracy: 0.8854 - val_binary_crossentropy: 0.3055\n",
            "Epoch 7/20\n",
            "49/49 - 2s - loss: 0.2429 - accuracy: 0.9281 - binary_crossentropy: 0.2429 - val_loss: 0.3087 - val_accuracy: 0.8850 - val_binary_crossentropy: 0.3087\n",
            "Epoch 8/20\n",
            "49/49 - 2s - loss: 0.2237 - accuracy: 0.9330 - binary_crossentropy: 0.2237 - val_loss: 0.3100 - val_accuracy: 0.8823 - val_binary_crossentropy: 0.3100\n",
            "Epoch 9/20\n",
            "49/49 - 2s - loss: 0.2021 - accuracy: 0.9410 - binary_crossentropy: 0.2021 - val_loss: 0.3361 - val_accuracy: 0.8825 - val_binary_crossentropy: 0.3361\n",
            "Epoch 10/20\n",
            "49/49 - 2s - loss: 0.1877 - accuracy: 0.9438 - binary_crossentropy: 0.1877 - val_loss: 0.3557 - val_accuracy: 0.8805 - val_binary_crossentropy: 0.3557\n",
            "Epoch 11/20\n",
            "49/49 - 2s - loss: 0.1717 - accuracy: 0.9495 - binary_crossentropy: 0.1717 - val_loss: 0.3769 - val_accuracy: 0.8788 - val_binary_crossentropy: 0.3769\n",
            "Epoch 12/20\n",
            "49/49 - 2s - loss: 0.1598 - accuracy: 0.9519 - binary_crossentropy: 0.1598 - val_loss: 0.3719 - val_accuracy: 0.8780 - val_binary_crossentropy: 0.3719\n",
            "Epoch 13/20\n",
            "49/49 - 2s - loss: 0.1494 - accuracy: 0.9559 - binary_crossentropy: 0.1494 - val_loss: 0.3940 - val_accuracy: 0.8767 - val_binary_crossentropy: 0.3940\n",
            "Epoch 14/20\n",
            "49/49 - 2s - loss: 0.1410 - accuracy: 0.9571 - binary_crossentropy: 0.1410 - val_loss: 0.4092 - val_accuracy: 0.8770 - val_binary_crossentropy: 0.4092\n",
            "Epoch 15/20\n",
            "49/49 - 2s - loss: 0.1317 - accuracy: 0.9610 - binary_crossentropy: 0.1317 - val_loss: 0.4510 - val_accuracy: 0.8761 - val_binary_crossentropy: 0.4510\n",
            "Epoch 16/20\n",
            "49/49 - 2s - loss: 0.1250 - accuracy: 0.9641 - binary_crossentropy: 0.1250 - val_loss: 0.4720 - val_accuracy: 0.8753 - val_binary_crossentropy: 0.4720\n",
            "Epoch 17/20\n",
            "49/49 - 2s - loss: 0.1205 - accuracy: 0.9649 - binary_crossentropy: 0.1205 - val_loss: 0.4850 - val_accuracy: 0.8769 - val_binary_crossentropy: 0.4850\n",
            "Epoch 18/20\n",
            "49/49 - 2s - loss: 0.1150 - accuracy: 0.9661 - binary_crossentropy: 0.1150 - val_loss: 0.5073 - val_accuracy: 0.8761 - val_binary_crossentropy: 0.5073\n",
            "Epoch 19/20\n",
            "49/49 - 2s - loss: 0.1097 - accuracy: 0.9683 - binary_crossentropy: 0.1097 - val_loss: 0.5147 - val_accuracy: 0.8743 - val_binary_crossentropy: 0.5147\n",
            "Epoch 20/20\n",
            "49/49 - 2s - loss: 0.1044 - accuracy: 0.9701 - binary_crossentropy: 0.1044 - val_loss: 0.5391 - val_accuracy: 0.8737 - val_binary_crossentropy: 0.5391\n"
          ],
          "name": "stdout"
        }
      ]
    },
    {
      "cell_type": "code",
      "metadata": {
        "id": "wRpizKGYE9IB",
        "colab_type": "code",
        "colab": {
          "base_uri": "https://localhost:8080/",
          "height": 437
        },
        "outputId": "7645b0d5-c8a8-4742-823c-26ab0670772c"
      },
      "source": [
        "plot_history([('baseline', baseline_history),\n",
        "              ('l2',l2_model_history),\n",
        "              ('dpt', dpt_history)])"
      ],
      "execution_count": 69,
      "outputs": [
        {
          "output_type": "display_data",
          "data": {
            "image/png": "[encoded data removed]",
            "text/plain": [
              "<Figure size 1152x720 with 1 Axes>"
            ]
          },
          "metadata": {
            "tags": [],
            "needs_background": "light"
          }
        }
      ]
    }
  ]
}