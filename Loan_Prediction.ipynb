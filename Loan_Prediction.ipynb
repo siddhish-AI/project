{
  "nbformat": 4,
  "nbformat_minor": 0,
  "metadata": {
    "kernelspec": {
      "display_name": "Python 3",
      "language": "python",
      "name": "python3"
    },
    "language_info": {
      "codemirror_mode": {
        "name": "ipython",
        "version": 3
      },
      "file_extension": ".py",
      "mimetype": "text/x-python",
      "name": "python",
      "nbconvert_exporter": "python",
      "pygments_lexer": "ipython3",
      "version": "3.6.5"
    },
    "colab": {
      "name": "Loan_Prediction",
      "provenance": [],
      "collapsed_sections": [],
      "toc_visible": true
    }
  },
  "cells": [
    {
      "cell_type": "code",
      "metadata": {
        "id": "Mi9Sv8GigUQj"
      },
      "source": [
        "# importing required libraries\n",
        "import pandas as pd"
      ],
      "execution_count": 116,
      "outputs": []
    },
    {
      "cell_type": "code",
      "metadata": {
        "id": "1JW0s-sP-Oku"
      },
      "source": [
        "data=pd.read_csv('/content/loan_data.csv')"
      ],
      "execution_count": 118,
      "outputs": []
    },
    {
      "cell_type": "code",
      "metadata": {
        "id": "4EbJ0M-pgURA",
        "outputId": "e0c3205d-0125-46c1-f85f-ecd3a332d334",
        "colab": {
          "base_uri": "https://localhost:8080/",
          "height": 243
        }
      },
      "source": [
        "# looking at the first five rows of the data\n",
        "data.head()"
      ],
      "execution_count": 119,
      "outputs": [
        {
          "output_type": "execute_result",
          "data": {
            "text/html": [
              "<div>\n",
              "<style scoped>\n",
              "    .dataframe tbody tr th:only-of-type {\n",
              "        vertical-align: middle;\n",
              "    }\n",
              "\n",
              "    .dataframe tbody tr th {\n",
              "        vertical-align: top;\n",
              "    }\n",
              "\n",
              "    .dataframe thead th {\n",
              "        text-align: right;\n",
              "    }\n",
              "</style>\n",
              "<table border=\"1\" class=\"dataframe\">\n",
              "  <thead>\n",
              "    <tr style=\"text-align: right;\">\n",
              "      <th></th>\n",
              "      <th>Loan_ID</th>\n",
              "      <th>Gender</th>\n",
              "      <th>Married</th>\n",
              "      <th>Dependents</th>\n",
              "      <th>Education</th>\n",
              "      <th>Self_Employed</th>\n",
              "      <th>ApplicantIncome</th>\n",
              "      <th>CoapplicantIncome</th>\n",
              "      <th>LoanAmount</th>\n",
              "      <th>Loan_Amount_Term</th>\n",
              "      <th>Credit_History</th>\n",
              "      <th>Property_Area</th>\n",
              "      <th>Loan_Status</th>\n",
              "    </tr>\n",
              "  </thead>\n",
              "  <tbody>\n",
              "    <tr>\n",
              "      <th>0</th>\n",
              "      <td>LP001002</td>\n",
              "      <td>Male</td>\n",
              "      <td>No</td>\n",
              "      <td>0</td>\n",
              "      <td>Graduate</td>\n",
              "      <td>No</td>\n",
              "      <td>5849</td>\n",
              "      <td>0.0</td>\n",
              "      <td>NaN</td>\n",
              "      <td>360.0</td>\n",
              "      <td>1.0</td>\n",
              "      <td>Urban</td>\n",
              "      <td>Y</td>\n",
              "    </tr>\n",
              "    <tr>\n",
              "      <th>1</th>\n",
              "      <td>LP001003</td>\n",
              "      <td>Male</td>\n",
              "      <td>Yes</td>\n",
              "      <td>1</td>\n",
              "      <td>Graduate</td>\n",
              "      <td>No</td>\n",
              "      <td>4583</td>\n",
              "      <td>1508.0</td>\n",
              "      <td>128.0</td>\n",
              "      <td>360.0</td>\n",
              "      <td>1.0</td>\n",
              "      <td>Rural</td>\n",
              "      <td>N</td>\n",
              "    </tr>\n",
              "    <tr>\n",
              "      <th>2</th>\n",
              "      <td>LP001005</td>\n",
              "      <td>Male</td>\n",
              "      <td>Yes</td>\n",
              "      <td>0</td>\n",
              "      <td>Graduate</td>\n",
              "      <td>Yes</td>\n",
              "      <td>3000</td>\n",
              "      <td>0.0</td>\n",
              "      <td>66.0</td>\n",
              "      <td>360.0</td>\n",
              "      <td>1.0</td>\n",
              "      <td>Urban</td>\n",
              "      <td>Y</td>\n",
              "    </tr>\n",
              "    <tr>\n",
              "      <th>3</th>\n",
              "      <td>LP001006</td>\n",
              "      <td>Male</td>\n",
              "      <td>Yes</td>\n",
              "      <td>0</td>\n",
              "      <td>Not Graduate</td>\n",
              "      <td>No</td>\n",
              "      <td>2583</td>\n",
              "      <td>2358.0</td>\n",
              "      <td>120.0</td>\n",
              "      <td>360.0</td>\n",
              "      <td>1.0</td>\n",
              "      <td>Urban</td>\n",
              "      <td>Y</td>\n",
              "    </tr>\n",
              "    <tr>\n",
              "      <th>4</th>\n",
              "      <td>LP001008</td>\n",
              "      <td>Male</td>\n",
              "      <td>No</td>\n",
              "      <td>0</td>\n",
              "      <td>Graduate</td>\n",
              "      <td>No</td>\n",
              "      <td>6000</td>\n",
              "      <td>0.0</td>\n",
              "      <td>141.0</td>\n",
              "      <td>360.0</td>\n",
              "      <td>1.0</td>\n",
              "      <td>Urban</td>\n",
              "      <td>Y</td>\n",
              "    </tr>\n",
              "  </tbody>\n",
              "</table>\n",
              "</div>"
            ],
            "text/plain": [
              "    Loan_ID Gender Married  ... Credit_History Property_Area Loan_Status\n",
              "0  LP001002   Male      No  ...            1.0         Urban           Y\n",
              "1  LP001003   Male     Yes  ...            1.0         Rural           N\n",
              "2  LP001005   Male     Yes  ...            1.0         Urban           Y\n",
              "3  LP001006   Male     Yes  ...            1.0         Urban           Y\n",
              "4  LP001008   Male      No  ...            1.0         Urban           Y\n",
              "\n",
              "[5 rows x 13 columns]"
            ]
          },
          "metadata": {
            "tags": []
          },
          "execution_count": 119
        }
      ]
    },
    {
      "cell_type": "code",
      "metadata": {
        "scrolled": false,
        "id": "mX37vC7LgURN",
        "outputId": "6d28ab38-4a9c-4b2b-831b-6575ac0fdaab",
        "colab": {
          "base_uri": "https://localhost:8080/",
          "height": 36
        }
      },
      "source": [
        "# shape of the data\n",
        "data.shape"
      ],
      "execution_count": 120,
      "outputs": [
        {
          "output_type": "execute_result",
          "data": {
            "text/plain": [
              "(614, 13)"
            ]
          },
          "metadata": {
            "tags": []
          },
          "execution_count": 120
        }
      ]
    },
    {
      "cell_type": "code",
      "metadata": {
        "id": "FpY683r0gURY",
        "outputId": "5bd7c865-51f6-4052-d133-807586f7bb75",
        "colab": {
          "base_uri": "https://localhost:8080/",
          "height": 279
        }
      },
      "source": [
        "# checking missing values in the data\n",
        "data.isnull().sum()"
      ],
      "execution_count": 121,
      "outputs": [
        {
          "output_type": "execute_result",
          "data": {
            "text/plain": [
              "Loan_ID               0\n",
              "Gender               13\n",
              "Married               3\n",
              "Dependents           15\n",
              "Education             0\n",
              "Self_Employed        32\n",
              "ApplicantIncome       0\n",
              "CoapplicantIncome     0\n",
              "LoanAmount           22\n",
              "Loan_Amount_Term     14\n",
              "Credit_History       50\n",
              "Property_Area         0\n",
              "Loan_Status           0\n",
              "dtype: int64"
            ]
          },
          "metadata": {
            "tags": []
          },
          "execution_count": 121
        }
      ]
    },
    {
      "cell_type": "code",
      "metadata": {
        "scrolled": true,
        "id": "WoAqN1FIgURj",
        "outputId": "0e9c87af-c5b2-406b-dfdf-ae474acebcc7",
        "colab": {
          "base_uri": "https://localhost:8080/",
          "height": 279
        }
      },
      "source": [
        "# data types of the variables\n",
        "data.dtypes"
      ],
      "execution_count": 122,
      "outputs": [
        {
          "output_type": "execute_result",
          "data": {
            "text/plain": [
              "Loan_ID               object\n",
              "Gender                object\n",
              "Married               object\n",
              "Dependents            object\n",
              "Education             object\n",
              "Self_Employed         object\n",
              "ApplicantIncome        int64\n",
              "CoapplicantIncome    float64\n",
              "LoanAmount           float64\n",
              "Loan_Amount_Term     float64\n",
              "Credit_History       float64\n",
              "Property_Area         object\n",
              "Loan_Status           object\n",
              "dtype: object"
            ]
          },
          "metadata": {
            "tags": []
          },
          "execution_count": 122
        }
      ]
    },
    {
      "cell_type": "markdown",
      "metadata": {
        "id": "beUijuXWgURs"
      },
      "source": [
        "### Categorical Data: Mode"
      ]
    },
    {
      "cell_type": "code",
      "metadata": {
        "id": "XWTgHdRQgURw"
      },
      "source": [
        "# filling missing values of categorical variables with mode\n",
        "\n",
        "data['Gender'].fillna(data['Gender'].mode()[0], inplace=True)\n",
        "\n",
        "data['Married'].fillna(data['Married'].mode()[0], inplace=True)\n",
        "\n",
        "data['Dependents'].fillna(data['Dependents'].mode()[0], inplace=True)\n",
        "\n",
        "data['Self_Employed'].fillna(data['Self_Employed'].mode()[0], inplace=True)\n",
        "\n",
        "data['Loan_Amount_Term'].fillna(data['Loan_Amount_Term'].mode()[0], inplace=True)\n",
        "\n",
        "data['Credit_History'].fillna(data['Credit_History'].mode()[0], inplace=True)"
      ],
      "execution_count": 123,
      "outputs": []
    },
    {
      "cell_type": "markdown",
      "metadata": {
        "id": "XO36J4FRgUR5"
      },
      "source": [
        "### Continuous Data: Mean"
      ]
    },
    {
      "cell_type": "code",
      "metadata": {
        "id": "Eq72VAhCgUR9"
      },
      "source": [
        "# filling missing values of continuous variables with mean\n",
        "data['LoanAmount'].fillna(data['LoanAmount'].mean(), inplace=True)"
      ],
      "execution_count": 124,
      "outputs": []
    },
    {
      "cell_type": "code",
      "metadata": {
        "scrolled": true,
        "id": "aTwMX3f5gUSF",
        "outputId": "ee51486a-c56f-45c3-eb10-b9940d203616",
        "colab": {
          "base_uri": "https://localhost:8080/",
          "height": 279
        }
      },
      "source": [
        "# checking missing values after imputation\n",
        "data.isnull().sum()"
      ],
      "execution_count": 125,
      "outputs": [
        {
          "output_type": "execute_result",
          "data": {
            "text/plain": [
              "Loan_ID              0\n",
              "Gender               0\n",
              "Married              0\n",
              "Dependents           0\n",
              "Education            0\n",
              "Self_Employed        0\n",
              "ApplicantIncome      0\n",
              "CoapplicantIncome    0\n",
              "LoanAmount           0\n",
              "Loan_Amount_Term     0\n",
              "Credit_History       0\n",
              "Property_Area        0\n",
              "Loan_Status          0\n",
              "dtype: int64"
            ]
          },
          "metadata": {
            "tags": []
          },
          "execution_count": 125
        }
      ]
    },
    {
      "cell_type": "markdown",
      "metadata": {
        "id": "G8TyWs9A1ku2"
      },
      "source": [
        "Pearson correlation"
      ]
    },
    {
      "cell_type": "code",
      "metadata": {
        "id": "VSCxhiZp1m8p"
      },
      "source": [
        "from scipy.stats import pearsonr"
      ],
      "execution_count": 126,
      "outputs": []
    },
    {
      "cell_type": "code",
      "metadata": {
        "id": "Rt1yuKph1m7n",
        "outputId": "0794c5f6-474e-4b4f-812a-66ecf4095b33",
        "colab": {
          "base_uri": "https://localhost:8080/",
          "height": 226
        }
      },
      "source": [
        "data.corr(method='pearson')"
      ],
      "execution_count": 127,
      "outputs": [
        {
          "output_type": "execute_result",
          "data": {
            "text/html": [
              "<div>\n",
              "<style scoped>\n",
              "    .dataframe tbody tr th:only-of-type {\n",
              "        vertical-align: middle;\n",
              "    }\n",
              "\n",
              "    .dataframe tbody tr th {\n",
              "        vertical-align: top;\n",
              "    }\n",
              "\n",
              "    .dataframe thead th {\n",
              "        text-align: right;\n",
              "    }\n",
              "</style>\n",
              "<table border=\"1\" class=\"dataframe\">\n",
              "  <thead>\n",
              "    <tr style=\"text-align: right;\">\n",
              "      <th></th>\n",
              "      <th>ApplicantIncome</th>\n",
              "      <th>CoapplicantIncome</th>\n",
              "      <th>LoanAmount</th>\n",
              "      <th>Loan_Amount_Term</th>\n",
              "      <th>Credit_History</th>\n",
              "    </tr>\n",
              "  </thead>\n",
              "  <tbody>\n",
              "    <tr>\n",
              "      <th>ApplicantIncome</th>\n",
              "      <td>1.000000</td>\n",
              "      <td>-0.116605</td>\n",
              "      <td>0.565620</td>\n",
              "      <td>-0.046531</td>\n",
              "      <td>-0.018615</td>\n",
              "    </tr>\n",
              "    <tr>\n",
              "      <th>CoapplicantIncome</th>\n",
              "      <td>-0.116605</td>\n",
              "      <td>1.000000</td>\n",
              "      <td>0.187828</td>\n",
              "      <td>-0.059383</td>\n",
              "      <td>0.011134</td>\n",
              "    </tr>\n",
              "    <tr>\n",
              "      <th>LoanAmount</th>\n",
              "      <td>0.565620</td>\n",
              "      <td>0.187828</td>\n",
              "      <td>1.000000</td>\n",
              "      <td>0.036475</td>\n",
              "      <td>-0.001431</td>\n",
              "    </tr>\n",
              "    <tr>\n",
              "      <th>Loan_Amount_Term</th>\n",
              "      <td>-0.046531</td>\n",
              "      <td>-0.059383</td>\n",
              "      <td>0.036475</td>\n",
              "      <td>1.000000</td>\n",
              "      <td>-0.004705</td>\n",
              "    </tr>\n",
              "    <tr>\n",
              "      <th>Credit_History</th>\n",
              "      <td>-0.018615</td>\n",
              "      <td>0.011134</td>\n",
              "      <td>-0.001431</td>\n",
              "      <td>-0.004705</td>\n",
              "      <td>1.000000</td>\n",
              "    </tr>\n",
              "  </tbody>\n",
              "</table>\n",
              "</div>"
            ],
            "text/plain": [
              "                   ApplicantIncome  ...  Credit_History\n",
              "ApplicantIncome           1.000000  ...       -0.018615\n",
              "CoapplicantIncome        -0.116605  ...        0.011134\n",
              "LoanAmount                0.565620  ...       -0.001431\n",
              "Loan_Amount_Term         -0.046531  ...       -0.004705\n",
              "Credit_History           -0.018615  ...        1.000000\n",
              "\n",
              "[5 rows x 5 columns]"
            ]
          },
          "metadata": {
            "tags": []
          },
          "execution_count": 127
        }
      ]
    },
    {
      "cell_type": "code",
      "metadata": {
        "id": "QOoVwQHq2KI2"
      },
      "source": [
        "import seaborn as sn"
      ],
      "execution_count": 128,
      "outputs": []
    },
    {
      "cell_type": "code",
      "metadata": {
        "id": "MDkg0z1M2K99",
        "outputId": "908d1e86-0d41-4aa0-dad5-6ed78f9f00e0",
        "colab": {
          "base_uri": "https://localhost:8080/",
          "height": 356
        }
      },
      "source": [
        "sn.heatmap(data.corr(method='pearson'), annot=True)\n",
        "plt.show()"
      ],
      "execution_count": 129,
      "outputs": [
        {
          "output_type": "display_data",
          "data": {
            "image/png": "[encoded data removed]",
            "text/plain": [
              "<Figure size 432x288 with 2 Axes>"
            ]
          },
          "metadata": {
            "tags": [],
            "needs_background": "light"
          }
        }
      ]
    },
    {
      "cell_type": "markdown",
      "metadata": {
        "id": "k_SP_5W9gUSN"
      },
      "source": [
        "Converting categories to numbers"
      ]
    },
    {
      "cell_type": "code",
      "metadata": {
        "id": "ultMrSJqgUSS"
      },
      "source": [
        "# converting the categories into numbers using map function\n",
        "data['Gender'] = data['Gender'].map({'Male': 0, 'Female': 1})\n",
        "data['Married'] = data['Married'].map({'No': 0, 'Yes': 1})\n",
        "data['Dependents'] = data['Dependents'].map({'0': 0, '1': 1, '2': 2, '3+': 3})\n",
        "data['Education'] = data['Education'].map({'Graduate': 1, 'Not Graduate': 0})\n",
        "data['Self_Employed'] = data['Self_Employed'].map({'No': 0, 'Yes': 1})\n",
        "data['Property_Area'] = data['Property_Area'].map({'Rural': 0, 'Semiurban': 1, 'Urban': 2})\n",
        "data['Loan_Status'] = data['Loan_Status'].map({'N': 0, 'Y': 1})"
      ],
      "execution_count": 130,
      "outputs": []
    },
    {
      "cell_type": "code",
      "metadata": {
        "id": "kiMBtzIO9DCQ",
        "outputId": "71645814-2e14-4a1a-ec84-83c17f761c5b",
        "colab": {
          "base_uri": "https://localhost:8080/",
          "height": 226
        }
      },
      "source": [
        "data.head()"
      ],
      "execution_count": 131,
      "outputs": [
        {
          "output_type": "execute_result",
          "data": {
            "text/html": [
              "<div>\n",
              "<style scoped>\n",
              "    .dataframe tbody tr th:only-of-type {\n",
              "        vertical-align: middle;\n",
              "    }\n",
              "\n",
              "    .dataframe tbody tr th {\n",
              "        vertical-align: top;\n",
              "    }\n",
              "\n",
              "    .dataframe thead th {\n",
              "        text-align: right;\n",
              "    }\n",
              "</style>\n",
              "<table border=\"1\" class=\"dataframe\">\n",
              "  <thead>\n",
              "    <tr style=\"text-align: right;\">\n",
              "      <th></th>\n",
              "      <th>Loan_ID</th>\n",
              "      <th>Gender</th>\n",
              "      <th>Married</th>\n",
              "      <th>Dependents</th>\n",
              "      <th>Education</th>\n",
              "      <th>Self_Employed</th>\n",
              "      <th>ApplicantIncome</th>\n",
              "      <th>CoapplicantIncome</th>\n",
              "      <th>LoanAmount</th>\n",
              "      <th>Loan_Amount_Term</th>\n",
              "      <th>Credit_History</th>\n",
              "      <th>Property_Area</th>\n",
              "      <th>Loan_Status</th>\n",
              "    </tr>\n",
              "  </thead>\n",
              "  <tbody>\n",
              "    <tr>\n",
              "      <th>0</th>\n",
              "      <td>LP001002</td>\n",
              "      <td>0</td>\n",
              "      <td>0</td>\n",
              "      <td>0</td>\n",
              "      <td>1</td>\n",
              "      <td>0</td>\n",
              "      <td>5849</td>\n",
              "      <td>0.0</td>\n",
              "      <td>146.412162</td>\n",
              "      <td>360.0</td>\n",
              "      <td>1.0</td>\n",
              "      <td>2</td>\n",
              "      <td>1</td>\n",
              "    </tr>\n",
              "    <tr>\n",
              "      <th>1</th>\n",
              "      <td>LP001003</td>\n",
              "      <td>0</td>\n",
              "      <td>1</td>\n",
              "      <td>1</td>\n",
              "      <td>1</td>\n",
              "      <td>0</td>\n",
              "      <td>4583</td>\n",
              "      <td>1508.0</td>\n",
              "      <td>128.000000</td>\n",
              "      <td>360.0</td>\n",
              "      <td>1.0</td>\n",
              "      <td>0</td>\n",
              "      <td>0</td>\n",
              "    </tr>\n",
              "    <tr>\n",
              "      <th>2</th>\n",
              "      <td>LP001005</td>\n",
              "      <td>0</td>\n",
              "      <td>1</td>\n",
              "      <td>0</td>\n",
              "      <td>1</td>\n",
              "      <td>1</td>\n",
              "      <td>3000</td>\n",
              "      <td>0.0</td>\n",
              "      <td>66.000000</td>\n",
              "      <td>360.0</td>\n",
              "      <td>1.0</td>\n",
              "      <td>2</td>\n",
              "      <td>1</td>\n",
              "    </tr>\n",
              "    <tr>\n",
              "      <th>3</th>\n",
              "      <td>LP001006</td>\n",
              "      <td>0</td>\n",
              "      <td>1</td>\n",
              "      <td>0</td>\n",
              "      <td>0</td>\n",
              "      <td>0</td>\n",
              "      <td>2583</td>\n",
              "      <td>2358.0</td>\n",
              "      <td>120.000000</td>\n",
              "      <td>360.0</td>\n",
              "      <td>1.0</td>\n",
              "      <td>2</td>\n",
              "      <td>1</td>\n",
              "    </tr>\n",
              "    <tr>\n",
              "      <th>4</th>\n",
              "      <td>LP001008</td>\n",
              "      <td>0</td>\n",
              "      <td>0</td>\n",
              "      <td>0</td>\n",
              "      <td>1</td>\n",
              "      <td>0</td>\n",
              "      <td>6000</td>\n",
              "      <td>0.0</td>\n",
              "      <td>141.000000</td>\n",
              "      <td>360.0</td>\n",
              "      <td>1.0</td>\n",
              "      <td>2</td>\n",
              "      <td>1</td>\n",
              "    </tr>\n",
              "  </tbody>\n",
              "</table>\n",
              "</div>"
            ],
            "text/plain": [
              "    Loan_ID  Gender  Married  ...  Credit_History  Property_Area  Loan_Status\n",
              "0  LP001002       0        0  ...             1.0              2            1\n",
              "1  LP001003       0        1  ...             1.0              0            0\n",
              "2  LP001005       0        1  ...             1.0              2            1\n",
              "3  LP001006       0        1  ...             1.0              2            1\n",
              "4  LP001008       0        0  ...             1.0              2            1\n",
              "\n",
              "[5 rows x 13 columns]"
            ]
          },
          "metadata": {
            "tags": []
          },
          "execution_count": 131
        }
      ]
    },
    {
      "cell_type": "markdown",
      "metadata": {
        "id": "gdBmXyyVgUSY"
      },
      "source": [
        "## 3. Bringing all the variables in range 0 to 1"
      ]
    },
    {
      "cell_type": "code",
      "metadata": {
        "id": "cg_SZR8RgUSe"
      },
      "source": [
        "# bringing variables in the range 0 to 1 Normalization\n",
        "data['Dependents']=(data['Dependents']-data['Dependents'].min())/(data['Dependents'].max()-data['Dependents'].min())"
      ],
      "execution_count": 132,
      "outputs": []
    },
    {
      "cell_type": "code",
      "metadata": {
        "id": "i_dy8JGZgUSm"
      },
      "source": [
        "# applying for loop to bring all the variables in range 0 to 1\n",
        "\n",
        "for i in data.columns[1:]:\n",
        "    data[i] = (data[i] - data[i].min()) / (data[i].max() - data[i].min())"
      ],
      "execution_count": 133,
      "outputs": []
    },
    {
      "cell_type": "code",
      "metadata": {
        "id": "t2VOS3SdgUSt",
        "outputId": "6615be30-ffaf-447a-d483-bf58048af995",
        "colab": {
          "base_uri": "https://localhost:8080/",
          "height": 226
        }
      },
      "source": [
        "# again looking at first five rows of pre-processed data\n",
        "data.head()"
      ],
      "execution_count": 134,
      "outputs": [
        {
          "output_type": "execute_result",
          "data": {
            "text/html": [
              "<div>\n",
              "<style scoped>\n",
              "    .dataframe tbody tr th:only-of-type {\n",
              "        vertical-align: middle;\n",
              "    }\n",
              "\n",
              "    .dataframe tbody tr th {\n",
              "        vertical-align: top;\n",
              "    }\n",
              "\n",
              "    .dataframe thead th {\n",
              "        text-align: right;\n",
              "    }\n",
              "</style>\n",
              "<table border=\"1\" class=\"dataframe\">\n",
              "  <thead>\n",
              "    <tr style=\"text-align: right;\">\n",
              "      <th></th>\n",
              "      <th>Loan_ID</th>\n",
              "      <th>Gender</th>\n",
              "      <th>Married</th>\n",
              "      <th>Dependents</th>\n",
              "      <th>Education</th>\n",
              "      <th>Self_Employed</th>\n",
              "      <th>ApplicantIncome</th>\n",
              "      <th>CoapplicantIncome</th>\n",
              "      <th>LoanAmount</th>\n",
              "      <th>Loan_Amount_Term</th>\n",
              "      <th>Credit_History</th>\n",
              "      <th>Property_Area</th>\n",
              "      <th>Loan_Status</th>\n",
              "    </tr>\n",
              "  </thead>\n",
              "  <tbody>\n",
              "    <tr>\n",
              "      <th>0</th>\n",
              "      <td>LP001002</td>\n",
              "      <td>0.0</td>\n",
              "      <td>0.0</td>\n",
              "      <td>0.000000</td>\n",
              "      <td>1.0</td>\n",
              "      <td>0.0</td>\n",
              "      <td>0.070489</td>\n",
              "      <td>0.000000</td>\n",
              "      <td>0.198860</td>\n",
              "      <td>0.74359</td>\n",
              "      <td>1.0</td>\n",
              "      <td>1.0</td>\n",
              "      <td>1.0</td>\n",
              "    </tr>\n",
              "    <tr>\n",
              "      <th>1</th>\n",
              "      <td>LP001003</td>\n",
              "      <td>0.0</td>\n",
              "      <td>1.0</td>\n",
              "      <td>0.333333</td>\n",
              "      <td>1.0</td>\n",
              "      <td>0.0</td>\n",
              "      <td>0.054830</td>\n",
              "      <td>0.036192</td>\n",
              "      <td>0.172214</td>\n",
              "      <td>0.74359</td>\n",
              "      <td>1.0</td>\n",
              "      <td>0.0</td>\n",
              "      <td>0.0</td>\n",
              "    </tr>\n",
              "    <tr>\n",
              "      <th>2</th>\n",
              "      <td>LP001005</td>\n",
              "      <td>0.0</td>\n",
              "      <td>1.0</td>\n",
              "      <td>0.000000</td>\n",
              "      <td>1.0</td>\n",
              "      <td>1.0</td>\n",
              "      <td>0.035250</td>\n",
              "      <td>0.000000</td>\n",
              "      <td>0.082489</td>\n",
              "      <td>0.74359</td>\n",
              "      <td>1.0</td>\n",
              "      <td>1.0</td>\n",
              "      <td>1.0</td>\n",
              "    </tr>\n",
              "    <tr>\n",
              "      <th>3</th>\n",
              "      <td>LP001006</td>\n",
              "      <td>0.0</td>\n",
              "      <td>1.0</td>\n",
              "      <td>0.000000</td>\n",
              "      <td>0.0</td>\n",
              "      <td>0.0</td>\n",
              "      <td>0.030093</td>\n",
              "      <td>0.056592</td>\n",
              "      <td>0.160637</td>\n",
              "      <td>0.74359</td>\n",
              "      <td>1.0</td>\n",
              "      <td>1.0</td>\n",
              "      <td>1.0</td>\n",
              "    </tr>\n",
              "    <tr>\n",
              "      <th>4</th>\n",
              "      <td>LP001008</td>\n",
              "      <td>0.0</td>\n",
              "      <td>0.0</td>\n",
              "      <td>0.000000</td>\n",
              "      <td>1.0</td>\n",
              "      <td>0.0</td>\n",
              "      <td>0.072356</td>\n",
              "      <td>0.000000</td>\n",
              "      <td>0.191027</td>\n",
              "      <td>0.74359</td>\n",
              "      <td>1.0</td>\n",
              "      <td>1.0</td>\n",
              "      <td>1.0</td>\n",
              "    </tr>\n",
              "  </tbody>\n",
              "</table>\n",
              "</div>"
            ],
            "text/plain": [
              "    Loan_ID  Gender  Married  ...  Credit_History  Property_Area  Loan_Status\n",
              "0  LP001002     0.0      0.0  ...             1.0            1.0          1.0\n",
              "1  LP001003     0.0      1.0  ...             1.0            0.0          0.0\n",
              "2  LP001005     0.0      1.0  ...             1.0            1.0          1.0\n",
              "3  LP001006     0.0      1.0  ...             1.0            1.0          1.0\n",
              "4  LP001008     0.0      0.0  ...             1.0            1.0          1.0\n",
              "\n",
              "[5 rows x 13 columns]"
            ]
          },
          "metadata": {
            "tags": []
          },
          "execution_count": 134
        }
      ]
    },
    {
      "cell_type": "code",
      "metadata": {
        "id": "_DUj_ODL9t-D"
      },
      "source": [
        "import numpy as np\n",
        "import sklearn\n",
        "from sklearn.model_selection import train_test_split\n",
        "from sklearn.metrics import accuracy_score\n",
        "import matplotlib.pyplot as plt"
      ],
      "execution_count": 135,
      "outputs": []
    },
    {
      "cell_type": "code",
      "metadata": {
        "id": "jzZb1XlLxMfx"
      },
      "source": [
        "data = data.drop('Loan_ID', axis=1)"
      ],
      "execution_count": 136,
      "outputs": []
    },
    {
      "cell_type": "code",
      "metadata": {
        "id": "sJtdco29xSvp"
      },
      "source": [
        "X = data.drop('Loan_Status', axis=1)"
      ],
      "execution_count": 137,
      "outputs": []
    },
    {
      "cell_type": "code",
      "metadata": {
        "id": "hzbQcSb9xWbA"
      },
      "source": [
        "y = data['Loan_Status']"
      ],
      "execution_count": 138,
      "outputs": []
    },
    {
      "cell_type": "code",
      "metadata": {
        "id": "ekmWUXXMxYLc"
      },
      "source": [
        "X_train,X_test,y_train,y_test = train_test_split(X,y,stratify=data['Loan_Status'],random_state=10,test_size=0.3)"
      ],
      "execution_count": 139,
      "outputs": []
    },
    {
      "cell_type": "code",
      "metadata": {
        "id": "i0NcuhRUxfe-",
        "outputId": "075d15b3-d494-436d-dced-77dcaa94f732",
        "colab": {
          "base_uri": "https://localhost:8080/",
          "height": 36
        }
      },
      "source": [
        "(X_train.shape, y_train.shape)"
      ],
      "execution_count": 140,
      "outputs": [
        {
          "output_type": "execute_result",
          "data": {
            "text/plain": [
              "((429, 11), (429,))"
            ]
          },
          "metadata": {
            "tags": []
          },
          "execution_count": 140
        }
      ]
    },
    {
      "cell_type": "code",
      "metadata": {
        "id": "Z4AVuwh7-2Vw"
      },
      "source": [
        "scores=[]"
      ],
      "execution_count": 172,
      "outputs": []
    },
    {
      "cell_type": "code",
      "metadata": {
        "id": "_OrhBE4Cxjlt"
      },
      "source": [
        "import keras\n",
        "from keras.models import Sequential\n",
        "from keras.layers import InputLayer, Dense "
      ],
      "execution_count": 141,
      "outputs": []
    },
    {
      "cell_type": "code",
      "metadata": {
        "id": "xrYPgikVxmYv",
        "outputId": "56cd3988-38fa-4c7f-98f6-907170705c53",
        "colab": {
          "base_uri": "https://localhost:8080/",
          "height": 36
        }
      },
      "source": [
        "# number of input neurons\n",
        "X_train.shape"
      ],
      "execution_count": 142,
      "outputs": [
        {
          "output_type": "execute_result",
          "data": {
            "text/plain": [
              "(429, 11)"
            ]
          },
          "metadata": {
            "tags": []
          },
          "execution_count": 142
        }
      ]
    },
    {
      "cell_type": "code",
      "metadata": {
        "id": "PM_vbgifx1Cl"
      },
      "source": [
        "# defining input neurons\n",
        "input_neurons = X_train.shape[1]\n",
        "#output neurons\n",
        "output_neurons = 1\n",
        "#hidden layers and neuron in each layer\n",
        "number_of_hidden_layers = 2\n",
        "neuron_hidden_layer_1 = 10\n",
        "neuron_hidden_layer_2 = 5"
      ],
      "execution_count": 143,
      "outputs": []
    },
    {
      "cell_type": "code",
      "metadata": {
        "id": "O5sxLvxTyBiW"
      },
      "source": [
        "model = Sequential()\n",
        "model.add(InputLayer(input_shape=(input_neurons,)))\n",
        "model.add(Dense(units=neuron_hidden_layer_1, activation='relu'))\n",
        "model.add(Dense(units=neuron_hidden_layer_2, activation='relu'))\n",
        "model.add(Dense(units=output_neurons, activation='sigmoid'))"
      ],
      "execution_count": 144,
      "outputs": []
    },
    {
      "cell_type": "code",
      "metadata": {
        "id": "ad81NofNyF-C",
        "outputId": "e8abae1e-aa4c-4133-dea2-dac70cd46fc0",
        "colab": {
          "base_uri": "https://localhost:8080/",
          "height": 279
        }
      },
      "source": [
        "model.summary()"
      ],
      "execution_count": 145,
      "outputs": [
        {
          "output_type": "stream",
          "text": [
            "Model: \"sequential_1\"\n",
            "_________________________________________________________________\n",
            "Layer (type)                 Output Shape              Param #   \n",
            "=================================================================\n",
            "dense_3 (Dense)              (None, 10)                120       \n",
            "_________________________________________________________________\n",
            "dense_4 (Dense)              (None, 5)                 55        \n",
            "_________________________________________________________________\n",
            "dense_5 (Dense)              (None, 1)                 6         \n",
            "=================================================================\n",
            "Total params: 181\n",
            "Trainable params: 181\n",
            "Non-trainable params: 0\n",
            "_________________________________________________________________\n"
          ],
          "name": "stdout"
        }
      ]
    },
    {
      "cell_type": "code",
      "metadata": {
        "id": "-Ybjepo1yPp1"
      },
      "source": [
        "model.compile(loss='binary_crossentropy',optimizer='Adam',metrics=['accuracy'])"
      ],
      "execution_count": 146,
      "outputs": []
    },
    {
      "cell_type": "code",
      "metadata": {
        "id": "m7sXlEUqyTo3",
        "outputId": "7b2fae61-514e-44e8-d85b-615d40bed4a8",
        "colab": {
          "base_uri": "https://localhost:8080/",
          "height": 1000
        }
      },
      "source": [
        "model_history = model.fit(X_train, y_train, validation_data=(X_test, y_test), epochs=50)"
      ],
      "execution_count": 147,
      "outputs": [
        {
          "output_type": "stream",
          "text": [
            "Epoch 1/50\n",
            "14/14 [==============================] - 0s 8ms/step - loss: 0.6618 - accuracy: 0.6946 - val_loss: 0.6557 - val_accuracy: 0.6973\n",
            "Epoch 2/50\n",
            "14/14 [==============================] - 0s 2ms/step - loss: 0.6500 - accuracy: 0.6923 - val_loss: 0.6433 - val_accuracy: 0.6973\n",
            "Epoch 3/50\n",
            "14/14 [==============================] - 0s 2ms/step - loss: 0.6382 - accuracy: 0.6876 - val_loss: 0.6320 - val_accuracy: 0.6919\n",
            "Epoch 4/50\n",
            "14/14 [==============================] - 0s 2ms/step - loss: 0.6267 - accuracy: 0.6876 - val_loss: 0.6212 - val_accuracy: 0.6865\n",
            "Epoch 5/50\n",
            "14/14 [==============================] - 0s 2ms/step - loss: 0.6162 - accuracy: 0.6876 - val_loss: 0.6107 - val_accuracy: 0.6865\n",
            "Epoch 6/50\n",
            "14/14 [==============================] - 0s 2ms/step - loss: 0.6068 - accuracy: 0.6876 - val_loss: 0.6020 - val_accuracy: 0.6865\n",
            "Epoch 7/50\n",
            "14/14 [==============================] - 0s 2ms/step - loss: 0.6001 - accuracy: 0.6876 - val_loss: 0.5946 - val_accuracy: 0.6865\n",
            "Epoch 8/50\n",
            "14/14 [==============================] - 0s 2ms/step - loss: 0.5931 - accuracy: 0.6876 - val_loss: 0.5884 - val_accuracy: 0.6865\n",
            "Epoch 9/50\n",
            "14/14 [==============================] - 0s 2ms/step - loss: 0.5868 - accuracy: 0.6876 - val_loss: 0.5813 - val_accuracy: 0.6973\n",
            "Epoch 10/50\n",
            "14/14 [==============================] - 0s 2ms/step - loss: 0.5809 - accuracy: 0.6923 - val_loss: 0.5734 - val_accuracy: 0.6973\n",
            "Epoch 11/50\n",
            "14/14 [==============================] - 0s 2ms/step - loss: 0.5729 - accuracy: 0.6923 - val_loss: 0.5669 - val_accuracy: 0.6973\n",
            "Epoch 12/50\n",
            "14/14 [==============================] - 0s 2ms/step - loss: 0.5660 - accuracy: 0.6923 - val_loss: 0.5607 - val_accuracy: 0.7027\n",
            "Epoch 13/50\n",
            "14/14 [==============================] - 0s 2ms/step - loss: 0.5590 - accuracy: 0.6993 - val_loss: 0.5533 - val_accuracy: 0.7351\n",
            "Epoch 14/50\n",
            "14/14 [==============================] - 0s 2ms/step - loss: 0.5508 - accuracy: 0.7249 - val_loss: 0.5463 - val_accuracy: 0.7514\n",
            "Epoch 15/50\n",
            "14/14 [==============================] - 0s 2ms/step - loss: 0.5430 - accuracy: 0.7459 - val_loss: 0.5399 - val_accuracy: 0.7892\n",
            "Epoch 16/50\n",
            "14/14 [==============================] - 0s 2ms/step - loss: 0.5360 - accuracy: 0.7646 - val_loss: 0.5348 - val_accuracy: 0.7838\n",
            "Epoch 17/50\n",
            "14/14 [==============================] - 0s 2ms/step - loss: 0.5294 - accuracy: 0.7832 - val_loss: 0.5304 - val_accuracy: 0.7838\n",
            "Epoch 18/50\n",
            "14/14 [==============================] - 0s 2ms/step - loss: 0.5226 - accuracy: 0.8065 - val_loss: 0.5257 - val_accuracy: 0.7946\n",
            "Epoch 19/50\n",
            "14/14 [==============================] - 0s 2ms/step - loss: 0.5166 - accuracy: 0.8135 - val_loss: 0.5213 - val_accuracy: 0.7946\n",
            "Epoch 20/50\n",
            "14/14 [==============================] - 0s 2ms/step - loss: 0.5102 - accuracy: 0.8135 - val_loss: 0.5173 - val_accuracy: 0.8000\n",
            "Epoch 21/50\n",
            "14/14 [==============================] - 0s 2ms/step - loss: 0.5052 - accuracy: 0.8135 - val_loss: 0.5139 - val_accuracy: 0.8000\n",
            "Epoch 22/50\n",
            "14/14 [==============================] - 0s 2ms/step - loss: 0.5007 - accuracy: 0.8135 - val_loss: 0.5122 - val_accuracy: 0.8000\n",
            "Epoch 23/50\n",
            "14/14 [==============================] - 0s 2ms/step - loss: 0.4951 - accuracy: 0.8135 - val_loss: 0.5084 - val_accuracy: 0.8000\n",
            "Epoch 24/50\n",
            "14/14 [==============================] - 0s 2ms/step - loss: 0.4913 - accuracy: 0.8135 - val_loss: 0.5059 - val_accuracy: 0.8000\n",
            "Epoch 25/50\n",
            "14/14 [==============================] - 0s 2ms/step - loss: 0.4900 - accuracy: 0.8135 - val_loss: 0.5052 - val_accuracy: 0.8000\n",
            "Epoch 26/50\n",
            "14/14 [==============================] - 0s 2ms/step - loss: 0.4875 - accuracy: 0.8135 - val_loss: 0.5018 - val_accuracy: 0.8000\n",
            "Epoch 27/50\n",
            "14/14 [==============================] - 0s 2ms/step - loss: 0.4833 - accuracy: 0.8135 - val_loss: 0.5012 - val_accuracy: 0.8000\n",
            "Epoch 28/50\n",
            "14/14 [==============================] - 0s 2ms/step - loss: 0.4800 - accuracy: 0.8135 - val_loss: 0.5000 - val_accuracy: 0.8000\n",
            "Epoch 29/50\n",
            "14/14 [==============================] - 0s 2ms/step - loss: 0.4778 - accuracy: 0.8135 - val_loss: 0.4991 - val_accuracy: 0.8000\n",
            "Epoch 30/50\n",
            "14/14 [==============================] - 0s 2ms/step - loss: 0.4760 - accuracy: 0.8135 - val_loss: 0.4981 - val_accuracy: 0.8000\n",
            "Epoch 31/50\n",
            "14/14 [==============================] - 0s 2ms/step - loss: 0.4752 - accuracy: 0.8135 - val_loss: 0.4973 - val_accuracy: 0.8000\n",
            "Epoch 32/50\n",
            "14/14 [==============================] - 0s 2ms/step - loss: 0.4730 - accuracy: 0.8135 - val_loss: 0.4964 - val_accuracy: 0.8000\n",
            "Epoch 33/50\n",
            "14/14 [==============================] - 0s 2ms/step - loss: 0.4716 - accuracy: 0.8135 - val_loss: 0.4958 - val_accuracy: 0.8000\n",
            "Epoch 34/50\n",
            "14/14 [==============================] - 0s 2ms/step - loss: 0.4703 - accuracy: 0.8135 - val_loss: 0.4953 - val_accuracy: 0.8000\n",
            "Epoch 35/50\n",
            "14/14 [==============================] - 0s 2ms/step - loss: 0.4692 - accuracy: 0.8135 - val_loss: 0.4947 - val_accuracy: 0.8000\n",
            "Epoch 36/50\n",
            "14/14 [==============================] - 0s 2ms/step - loss: 0.4685 - accuracy: 0.8135 - val_loss: 0.4946 - val_accuracy: 0.8000\n",
            "Epoch 37/50\n",
            "14/14 [==============================] - 0s 2ms/step - loss: 0.4671 - accuracy: 0.8135 - val_loss: 0.4956 - val_accuracy: 0.8000\n",
            "Epoch 38/50\n",
            "14/14 [==============================] - 0s 2ms/step - loss: 0.4664 - accuracy: 0.8135 - val_loss: 0.4946 - val_accuracy: 0.8000\n",
            "Epoch 39/50\n",
            "14/14 [==============================] - 0s 2ms/step - loss: 0.4654 - accuracy: 0.8135 - val_loss: 0.4936 - val_accuracy: 0.8000\n",
            "Epoch 40/50\n",
            "14/14 [==============================] - 0s 2ms/step - loss: 0.4650 - accuracy: 0.8135 - val_loss: 0.4936 - val_accuracy: 0.8000\n",
            "Epoch 41/50\n",
            "14/14 [==============================] - 0s 2ms/step - loss: 0.4656 - accuracy: 0.8135 - val_loss: 0.4940 - val_accuracy: 0.8000\n",
            "Epoch 42/50\n",
            "14/14 [==============================] - 0s 2ms/step - loss: 0.4656 - accuracy: 0.8135 - val_loss: 0.4929 - val_accuracy: 0.8000\n",
            "Epoch 43/50\n",
            "14/14 [==============================] - 0s 2ms/step - loss: 0.4623 - accuracy: 0.8135 - val_loss: 0.4955 - val_accuracy: 0.8000\n",
            "Epoch 44/50\n",
            "14/14 [==============================] - 0s 2ms/step - loss: 0.4630 - accuracy: 0.8135 - val_loss: 0.4958 - val_accuracy: 0.8000\n",
            "Epoch 45/50\n",
            "14/14 [==============================] - 0s 2ms/step - loss: 0.4631 - accuracy: 0.8135 - val_loss: 0.4960 - val_accuracy: 0.8000\n",
            "Epoch 46/50\n",
            "14/14 [==============================] - 0s 2ms/step - loss: 0.4616 - accuracy: 0.8135 - val_loss: 0.4943 - val_accuracy: 0.8000\n",
            "Epoch 47/50\n",
            "14/14 [==============================] - 0s 2ms/step - loss: 0.4607 - accuracy: 0.8135 - val_loss: 0.4931 - val_accuracy: 0.8000\n",
            "Epoch 48/50\n",
            "14/14 [==============================] - 0s 2ms/step - loss: 0.4613 - accuracy: 0.8135 - val_loss: 0.4932 - val_accuracy: 0.8000\n",
            "Epoch 49/50\n",
            "14/14 [==============================] - 0s 2ms/step - loss: 0.4611 - accuracy: 0.8135 - val_loss: 0.4948 - val_accuracy: 0.8000\n",
            "Epoch 50/50\n",
            "14/14 [==============================] - 0s 2ms/step - loss: 0.4597 - accuracy: 0.8135 - val_loss: 0.4934 - val_accuracy: 0.8000\n"
          ],
          "name": "stdout"
        }
      ]
    },
    {
      "cell_type": "code",
      "metadata": {
        "id": "AFR9VuKYyXEb"
      },
      "source": [
        "prediction = model.predict_classes(X_test)"
      ],
      "execution_count": 148,
      "outputs": []
    },
    {
      "cell_type": "code",
      "metadata": {
        "id": "K2iCGDdhyZZi",
        "outputId": "0e84042e-d347-47f7-dad0-2b0252b11061",
        "colab": {
          "base_uri": "https://localhost:8080/",
          "height": 36
        }
      },
      "source": [
        "accuracy_score(y_test, prediction)"
      ],
      "execution_count": 149,
      "outputs": [
        {
          "output_type": "execute_result",
          "data": {
            "text/plain": [
              "0.8"
            ]
          },
          "metadata": {
            "tags": []
          },
          "execution_count": 149
        }
      ]
    },
    {
      "cell_type": "code",
      "metadata": {
        "id": "SvtBBe0S-8dR"
      },
      "source": [
        "scores.append(accuracy_score(y_test, prediction).mean())"
      ],
      "execution_count": 173,
      "outputs": []
    },
    {
      "cell_type": "markdown",
      "metadata": {
        "id": "KOQaG9hO4Jen"
      },
      "source": [
        "Xgboost"
      ]
    },
    {
      "cell_type": "code",
      "metadata": {
        "id": "CaF6JqdP4BHd"
      },
      "source": [
        "from xgboost import XGBClassifier"
      ],
      "execution_count": 150,
      "outputs": []
    },
    {
      "cell_type": "code",
      "metadata": {
        "id": "QbX_dr274GPE"
      },
      "source": [
        "xgclassifier = XGBClassifier()"
      ],
      "execution_count": 151,
      "outputs": []
    },
    {
      "cell_type": "code",
      "metadata": {
        "id": "Ly__Ho234GUq",
        "outputId": "0d0ddd86-18b0-4a68-c88e-a1a68b4c4bbb",
        "colab": {
          "base_uri": "https://localhost:8080/",
          "height": 168
        }
      },
      "source": [
        "# fit the model\n",
        "xgclassifier.fit(X_train,y_train)"
      ],
      "execution_count": 152,
      "outputs": [
        {
          "output_type": "execute_result",
          "data": {
            "text/plain": [
              "XGBClassifier(base_score=0.5, booster='gbtree', colsample_bylevel=1,\n",
              "              colsample_bynode=1, colsample_bytree=1, gamma=0,\n",
              "              learning_rate=0.1, max_delta_step=0, max_depth=3,\n",
              "              min_child_weight=1, missing=None, n_estimators=100, n_jobs=1,\n",
              "              nthread=None, objective='binary:logistic', random_state=0,\n",
              "              reg_alpha=0, reg_lambda=1, scale_pos_weight=1, seed=None,\n",
              "              silent=None, subsample=1, verbosity=1)"
            ]
          },
          "metadata": {
            "tags": []
          },
          "execution_count": 152
        }
      ]
    },
    {
      "cell_type": "code",
      "metadata": {
        "id": "H3K3_X-K3wqA",
        "outputId": "e3855764-b604-48b4-fce1-091766a12977",
        "colab": {
          "base_uri": "https://localhost:8080/",
          "height": 36
        }
      },
      "source": [
        "xgclassifier.score(X_test,y_test)"
      ],
      "execution_count": 153,
      "outputs": [
        {
          "output_type": "execute_result",
          "data": {
            "text/plain": [
              "0.8108108108108109"
            ]
          },
          "metadata": {
            "tags": []
          },
          "execution_count": 153
        }
      ]
    },
    {
      "cell_type": "code",
      "metadata": {
        "id": "_IB4GQ13_CGB"
      },
      "source": [
        "scores.append(xgclassifier.score(X_test,y_test).mean())"
      ],
      "execution_count": 174,
      "outputs": []
    },
    {
      "cell_type": "markdown",
      "metadata": {
        "id": "hn8cPvS74K-X"
      },
      "source": [
        "Decision Tree"
      ]
    },
    {
      "cell_type": "code",
      "metadata": {
        "id": "3ailS5Fy4I2k"
      },
      "source": [
        "from sklearn.tree import DecisionTreeClassifier"
      ],
      "execution_count": 154,
      "outputs": []
    },
    {
      "cell_type": "code",
      "metadata": {
        "id": "3Sd1n4NY4N6q"
      },
      "source": [
        "Tree=DecisionTreeClassifier()"
      ],
      "execution_count": 155,
      "outputs": []
    },
    {
      "cell_type": "code",
      "metadata": {
        "id": "obODycVj4WqH",
        "outputId": "c6a79c1d-861c-49dd-ddb1-126a9be89bcf",
        "colab": {
          "base_uri": "https://localhost:8080/",
          "height": 149
        }
      },
      "source": [
        "#fit\n",
        "Tree.fit(X_train, y_train)"
      ],
      "execution_count": 156,
      "outputs": [
        {
          "output_type": "execute_result",
          "data": {
            "text/plain": [
              "DecisionTreeClassifier(ccp_alpha=0.0, class_weight=None, criterion='gini',\n",
              "                       max_depth=None, max_features=None, max_leaf_nodes=None,\n",
              "                       min_impurity_decrease=0.0, min_impurity_split=None,\n",
              "                       min_samples_leaf=1, min_samples_split=2,\n",
              "                       min_weight_fraction_leaf=0.0, presort='deprecated',\n",
              "                       random_state=None, splitter='best')"
            ]
          },
          "metadata": {
            "tags": []
          },
          "execution_count": 156
        }
      ]
    },
    {
      "cell_type": "code",
      "metadata": {
        "id": "VwOjIhyR4aii",
        "outputId": "9757593e-0916-4462-dd23-74b1ba90d744",
        "colab": {
          "base_uri": "https://localhost:8080/",
          "height": 36
        }
      },
      "source": [
        "Tree.score(X_test, y_test)"
      ],
      "execution_count": 157,
      "outputs": [
        {
          "output_type": "execute_result",
          "data": {
            "text/plain": [
              "0.7405405405405405"
            ]
          },
          "metadata": {
            "tags": []
          },
          "execution_count": 157
        }
      ]
    },
    {
      "cell_type": "code",
      "metadata": {
        "id": "kLeWzYj7_KHM"
      },
      "source": [
        "scores.append(Tree.score(X_test, y_test).mean())"
      ],
      "execution_count": 175,
      "outputs": []
    },
    {
      "cell_type": "markdown",
      "metadata": {
        "id": "3Urm5Ot54iM8"
      },
      "source": [
        "Random forest"
      ]
    },
    {
      "cell_type": "code",
      "metadata": {
        "id": "bC6lLA5c4kOK"
      },
      "source": [
        "from sklearn.ensemble import RandomForestClassifier"
      ],
      "execution_count": 158,
      "outputs": []
    },
    {
      "cell_type": "code",
      "metadata": {
        "id": "41Q3PqbZ4o2h"
      },
      "source": [
        "randforest=RandomForestClassifier(n_estimators=10)"
      ],
      "execution_count": 159,
      "outputs": []
    },
    {
      "cell_type": "code",
      "metadata": {
        "id": "4KuZvu6d4txZ",
        "outputId": "1cf14d46-2b99-4288-cb81-7cfda3809619",
        "colab": {
          "base_uri": "https://localhost:8080/",
          "height": 36
        }
      },
      "source": [
        "randforest.fit(X_train,y_train)\n",
        "randforest.score(X_test, y_test)"
      ],
      "execution_count": 160,
      "outputs": [
        {
          "output_type": "execute_result",
          "data": {
            "text/plain": [
              "0.772972972972973"
            ]
          },
          "metadata": {
            "tags": []
          },
          "execution_count": 160
        }
      ]
    },
    {
      "cell_type": "code",
      "metadata": {
        "id": "B3LAbdEd_M3P"
      },
      "source": [
        "scores.append(randforest.score(X_test, y_test).mean())"
      ],
      "execution_count": 176,
      "outputs": []
    },
    {
      "cell_type": "markdown",
      "metadata": {
        "id": "HkEm_KRR5gsN"
      },
      "source": [
        "Support vector"
      ]
    },
    {
      "cell_type": "code",
      "metadata": {
        "id": "anoJXLjQ5nKu"
      },
      "source": [
        "from  sklearn import svm"
      ],
      "execution_count": 161,
      "outputs": []
    },
    {
      "cell_type": "code",
      "metadata": {
        "id": "43Yx1qgR5h4d"
      },
      "source": [
        "svm  =  svm.LinearSVC(max_iter=5000)"
      ],
      "execution_count": 162,
      "outputs": []
    },
    {
      "cell_type": "code",
      "metadata": {
        "id": "CmVUsRsb5u_W",
        "outputId": "0d694498-df02-47e4-8064-e59e40345c26",
        "colab": {
          "base_uri": "https://localhost:8080/",
          "height": 92
        }
      },
      "source": [
        "svm.fit(X_train, y_train)\n"
      ],
      "execution_count": 163,
      "outputs": [
        {
          "output_type": "execute_result",
          "data": {
            "text/plain": [
              "LinearSVC(C=1.0, class_weight=None, dual=True, fit_intercept=True,\n",
              "          intercept_scaling=1, loss='squared_hinge', max_iter=5000,\n",
              "          multi_class='ovr', penalty='l2', random_state=None, tol=0.0001,\n",
              "          verbose=0)"
            ]
          },
          "metadata": {
            "tags": []
          },
          "execution_count": 163
        }
      ]
    },
    {
      "cell_type": "code",
      "metadata": {
        "id": "RcLRvRak5yKZ",
        "outputId": "913a56bf-46a0-47d6-aa86-6c45cde22bbf",
        "colab": {
          "base_uri": "https://localhost:8080/",
          "height": 36
        }
      },
      "source": [
        "svm.score(X_test, y_test)"
      ],
      "execution_count": 164,
      "outputs": [
        {
          "output_type": "execute_result",
          "data": {
            "text/plain": [
              "0.8054054054054054"
            ]
          },
          "metadata": {
            "tags": []
          },
          "execution_count": 164
        }
      ]
    },
    {
      "cell_type": "code",
      "metadata": {
        "id": "ZBiZd6-Q_dwg"
      },
      "source": [
        "scores.append(svm.score(X_test, y_test).mean())"
      ],
      "execution_count": 177,
      "outputs": []
    },
    {
      "cell_type": "code",
      "metadata": {
        "id": "bCNRE2D_57_B"
      },
      "source": [
        "classifier = ('neuralnets','Gradient Boosting','Random Forest','Decision Tree','SVM')\n",
        "y_pos = np.arange(len(classifier))"
      ],
      "execution_count": 165,
      "outputs": []
    },
    {
      "cell_type": "code",
      "metadata": {
        "id": "uRoMdDhd6Mlp",
        "outputId": "f6ba3c3c-45b3-458f-c76a-52a51c59695d",
        "colab": {
          "base_uri": "https://localhost:8080/",
          "height": 295
        }
      },
      "source": [
        "plt.barh(y_pos, scores, align='center', alpha=0.5)\n",
        "plt.yticks(y_pos, classifier)\n",
        "plt.xlabel('scores')\n",
        "plt.title('Classification Performance')\n",
        "plt.show()"
      ],
      "execution_count": 178,
      "outputs": [
        {
          "output_type": "display_data",
          "data": {
            "image/png": "[encoded data removed]",
            "text/plain": [
              "<Figure size 432x288 with 1 Axes>"
            ]
          },
          "metadata": {
            "tags": [],
            "needs_background": "light"
          }
        }
      ]
    },
    {
      "cell_type": "markdown",
      "metadata": {
        "id": "65-7B64a_rD2"
      },
      "source": [
        "Gradient boost have high score"
      ]
    }
  ]
}